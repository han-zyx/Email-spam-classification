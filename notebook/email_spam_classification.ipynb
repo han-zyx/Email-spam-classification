{
 "cells": [
  {
   "cell_type": "markdown",
   "id": "brdsJwRJ-fpJ",
   "metadata": {
    "id": "brdsJwRJ-fpJ"
   },
   "source": [
    "# Implementation"
   ]
  },
  {
   "cell_type": "code",
   "execution_count": 295,
   "id": "e49c72e8-37b5-46f4-873b-9e073cada82c",
   "metadata": {
    "id": "e49c72e8-37b5-46f4-873b-9e073cada82c"
   },
   "outputs": [],
   "source": [
    "#Import Liabraries\n",
    "import pandas as pd\n",
    "import numpy as np\n",
    "import matplotlib.pyplot as plt"
   ]
  },
  {
   "cell_type": "markdown",
   "id": "bZuqRKrt-2jZ",
   "metadata": {
    "id": "bZuqRKrt-2jZ"
   },
   "source": [
    "### Load Dataset"
   ]
  },
  {
   "cell_type": "code",
   "execution_count": 296,
   "id": "231e6c20-891c-46a2-8e65-59e541202276",
   "metadata": {
    "colab": {
     "base_uri": "https://localhost:8080/"
    },
    "id": "231e6c20-891c-46a2-8e65-59e541202276",
    "outputId": "9180c07d-9833-47e7-a57a-e862b299fe4d"
   },
   "outputs": [
    {
     "name": "stdout",
     "output_type": "stream",
     "text": [
      "Dataset loaded successfully\n"
     ]
    }
   ],
   "source": [
    "data = pd.read_csv('../dataset/emails.csv')\n",
    "\n",
    "print(\"Dataset loaded successfully\")"
   ]
  },
  {
   "cell_type": "code",
   "execution_count": 297,
   "id": "c1de393e-528a-456a-b267-7fd394267e20",
   "metadata": {
    "colab": {
     "base_uri": "https://localhost:8080/",
     "height": 206
    },
    "id": "c1de393e-528a-456a-b267-7fd394267e20",
    "outputId": "c77c3b46-4969-4a23-ccbf-443df00fa869"
   },
   "outputs": [
    {
     "data": {
      "text/html": [
       "<div>\n",
       "<style scoped>\n",
       "    .dataframe tbody tr th:only-of-type {\n",
       "        vertical-align: middle;\n",
       "    }\n",
       "\n",
       "    .dataframe tbody tr th {\n",
       "        vertical-align: top;\n",
       "    }\n",
       "\n",
       "    .dataframe thead th {\n",
       "        text-align: right;\n",
       "    }\n",
       "</style>\n",
       "<table border=\"1\" class=\"dataframe\">\n",
       "  <thead>\n",
       "    <tr style=\"text-align: right;\">\n",
       "      <th></th>\n",
       "      <th>text</th>\n",
       "      <th>spam</th>\n",
       "    </tr>\n",
       "  </thead>\n",
       "  <tbody>\n",
       "    <tr>\n",
       "      <th>0</th>\n",
       "      <td>Subject: naturally irresistible your corporate...</td>\n",
       "      <td>1</td>\n",
       "    </tr>\n",
       "    <tr>\n",
       "      <th>1</th>\n",
       "      <td>Subject: the stock trading gunslinger  fanny i...</td>\n",
       "      <td>1</td>\n",
       "    </tr>\n",
       "    <tr>\n",
       "      <th>2</th>\n",
       "      <td>Subject: unbelievable new homes made easy  im ...</td>\n",
       "      <td>1</td>\n",
       "    </tr>\n",
       "    <tr>\n",
       "      <th>3</th>\n",
       "      <td>Subject: 4 color printing special  request add...</td>\n",
       "      <td>1</td>\n",
       "    </tr>\n",
       "    <tr>\n",
       "      <th>4</th>\n",
       "      <td>Subject: do not have money , get software cds ...</td>\n",
       "      <td>1</td>\n",
       "    </tr>\n",
       "  </tbody>\n",
       "</table>\n",
       "</div>"
      ],
      "text/plain": [
       "                                                text  spam\n",
       "0  Subject: naturally irresistible your corporate...     1\n",
       "1  Subject: the stock trading gunslinger  fanny i...     1\n",
       "2  Subject: unbelievable new homes made easy  im ...     1\n",
       "3  Subject: 4 color printing special  request add...     1\n",
       "4  Subject: do not have money , get software cds ...     1"
      ]
     },
     "execution_count": 297,
     "metadata": {},
     "output_type": "execute_result"
    }
   ],
   "source": [
    "data.head()"
   ]
  },
  {
   "cell_type": "markdown",
   "id": "SUS6nVnh_Nxe",
   "metadata": {
    "id": "SUS6nVnh_Nxe"
   },
   "source": [
    "### Data Preprocessing"
   ]
  },
  {
   "cell_type": "code",
   "execution_count": 298,
   "id": "8f13c049-e0ba-440e-a5e9-097ef672c6c9",
   "metadata": {
    "colab": {
     "base_uri": "https://localhost:8080/"
    },
    "id": "8f13c049-e0ba-440e-a5e9-097ef672c6c9",
    "outputId": "177d0022-778b-41a7-8b15-12ff2a4311d5"
   },
   "outputs": [
    {
     "data": {
      "text/plain": [
       "(5728, 2)"
      ]
     },
     "execution_count": 298,
     "metadata": {},
     "output_type": "execute_result"
    }
   ],
   "source": [
    "data.shape"
   ]
  },
  {
   "cell_type": "code",
   "execution_count": 299,
   "id": "441d1d9a-29be-4c2e-9d91-0a1dd8162d75",
   "metadata": {
    "colab": {
     "base_uri": "https://localhost:8080/"
    },
    "id": "441d1d9a-29be-4c2e-9d91-0a1dd8162d75",
    "outputId": "57b5084e-98ab-4b37-ef14-6ca56bb666b0"
   },
   "outputs": [
    {
     "name": "stdout",
     "output_type": "stream",
     "text": [
      "Duplicate data before drop: 33\n",
      "Duplicated Data Drop Done\n",
      "Duplicate data after drop: 0\n"
     ]
    }
   ],
   "source": [
    "# Identify duplicates\n",
    "duplicates = data[data.duplicated()]\n",
    "print(\"Duplicate data before drop:\", len(duplicates))\n",
    "\n",
    "# Drop duplicates\n",
    "data = data.drop_duplicates()\n",
    "print(\"Duplicated Data Drop Done\")\n",
    "\n",
    "# Check for duplicates after dropping\n",
    "print(\"Duplicate data after drop:\", data.duplicated().sum())"
   ]
  },
  {
   "cell_type": "code",
   "execution_count": 300,
   "id": "153d0027",
   "metadata": {
    "colab": {
     "base_uri": "https://localhost:8080/",
     "height": 147
    },
    "id": "153d0027",
    "outputId": "9b31cb63-3e6b-4647-9586-52707cb0e457"
   },
   "outputs": [
    {
     "data": {
      "text/plain": [
       "text    0\n",
       "spam    0\n",
       "dtype: int64"
      ]
     },
     "execution_count": 300,
     "metadata": {},
     "output_type": "execute_result"
    }
   ],
   "source": [
    "#Check Data Null\n",
    "data.isnull().sum()"
   ]
  },
  {
   "cell_type": "markdown",
   "id": "783d2bdf",
   "metadata": {
    "id": "783d2bdf"
   },
   "source": [
    "### Text Preprocessing"
   ]
  },
  {
   "cell_type": "code",
   "execution_count": 301,
   "id": "8d40939b-a93f-4c51-a949-010f622a4cf8",
   "metadata": {},
   "outputs": [],
   "source": [
    "import re\n",
    "import string"
   ]
  },
  {
   "cell_type": "markdown",
   "id": "aa5ff9e7-90cf-4363-9efa-b7e8e4c9e5e9",
   "metadata": {},
   "source": [
    "Convert Uppercase to Lowercase"
   ]
  },
  {
   "cell_type": "code",
   "execution_count": 302,
   "id": "dc8c4d3d-5700-4d7b-8c18-047ff5294ae9",
   "metadata": {},
   "outputs": [
    {
     "data": {
      "text/plain": [
       "<bound method NDFrame.head of 0       Subject: naturally irresistible your corporate...\n",
       "1       Subject: the stock trading gunslinger  fanny i...\n",
       "2       Subject: unbelievable new homes made easy  im ...\n",
       "3       Subject: 4 color printing special  request add...\n",
       "4       Subject: do not have money , get software cds ...\n",
       "                              ...                        \n",
       "5723    Subject: re : research and development charges...\n",
       "5724    Subject: re : receipts from visit  jim ,  than...\n",
       "5725    Subject: re : enron case study update  wow ! a...\n",
       "5726    Subject: re : interest  david ,  please , call...\n",
       "5727    Subject: news : aurora 5 . 2 update  aurora ve...\n",
       "Name: text, Length: 5695, dtype: object>"
      ]
     },
     "execution_count": 302,
     "metadata": {},
     "output_type": "execute_result"
    }
   ],
   "source": [
    "data[\"text\"].head"
   ]
  },
  {
   "cell_type": "code",
   "execution_count": 303,
   "id": "79165d4b",
   "metadata": {},
   "outputs": [],
   "source": [
    "data[\"text\"] = data[\"text\"].apply(lambda x: \" \".join(x.lower() for x in x.split()))"
   ]
  },
  {
   "cell_type": "code",
   "execution_count": 304,
   "id": "3b3f96af",
   "metadata": {},
   "outputs": [
    {
     "data": {
      "text/plain": [
       "<bound method NDFrame.head of 0       subject: naturally irresistible your corporate...\n",
       "1       subject: the stock trading gunslinger fanny is...\n",
       "2       subject: unbelievable new homes made easy im w...\n",
       "3       subject: 4 color printing special request addi...\n",
       "4       subject: do not have money , get software cds ...\n",
       "                              ...                        \n",
       "5723    subject: re : research and development charges...\n",
       "5724    subject: re : receipts from visit jim , thanks...\n",
       "5725    subject: re : enron case study update wow ! al...\n",
       "5726    subject: re : interest david , please , call s...\n",
       "5727    subject: news : aurora 5 . 2 update aurora ver...\n",
       "Name: text, Length: 5695, dtype: object>"
      ]
     },
     "execution_count": 304,
     "metadata": {},
     "output_type": "execute_result"
    }
   ],
   "source": [
    "data[\"text\"].head"
   ]
  },
  {
   "cell_type": "markdown",
   "id": "c6259be4",
   "metadata": {},
   "source": [
    "Remove Links "
   ]
  },
  {
   "cell_type": "code",
   "execution_count": 305,
   "id": "e4aba26c",
   "metadata": {},
   "outputs": [],
   "source": [
    "data[\"text\"] = data[\"text\"].apply(lambda x: \" \".join(re.sub(r'^https?:\\/\\/.*[\\r\\n]*', '', x, flags=re.MULTILINE) for x in x.split()))"
   ]
  },
  {
   "cell_type": "code",
   "execution_count": 306,
   "id": "4edb907f",
   "metadata": {},
   "outputs": [
    {
     "data": {
      "text/plain": [
       "<bound method NDFrame.head of 0       subject: naturally irresistible your corporate...\n",
       "1       subject: the stock trading gunslinger fanny is...\n",
       "2       subject: unbelievable new homes made easy im w...\n",
       "3       subject: 4 color printing special request addi...\n",
       "4       subject: do not have money , get software cds ...\n",
       "                              ...                        \n",
       "5723    subject: re : research and development charges...\n",
       "5724    subject: re : receipts from visit jim , thanks...\n",
       "5725    subject: re : enron case study update wow ! al...\n",
       "5726    subject: re : interest david , please , call s...\n",
       "5727    subject: news : aurora 5 . 2 update aurora ver...\n",
       "Name: text, Length: 5695, dtype: object>"
      ]
     },
     "execution_count": 306,
     "metadata": {},
     "output_type": "execute_result"
    }
   ],
   "source": [
    "data[\"text\"].head"
   ]
  },
  {
   "cell_type": "markdown",
   "id": "25e1c1e6",
   "metadata": {},
   "source": [
    "Remove Punctuations"
   ]
  },
  {
   "cell_type": "code",
   "execution_count": 307,
   "id": "2bf42206",
   "metadata": {},
   "outputs": [],
   "source": [
    "def remove_punctuations(text):\n",
    "    for punctuation in string.punctuation:\n",
    "        text = text.replace(punctuation, '')\n",
    "    return text\n",
    "\n",
    "data[\"text\"] = data[\"text\"].apply(remove_punctuations)"
   ]
  },
  {
   "cell_type": "code",
   "execution_count": 308,
   "id": "eca31da2",
   "metadata": {},
   "outputs": [
    {
     "data": {
      "text/plain": [
       "<bound method NDFrame.head of 0       subject naturally irresistible your corporate ...\n",
       "1       subject the stock trading gunslinger fanny is ...\n",
       "2       subject unbelievable new homes made easy im wa...\n",
       "3       subject 4 color printing special request addit...\n",
       "4       subject do not have money  get software cds fr...\n",
       "                              ...                        \n",
       "5723    subject re  research and development charges t...\n",
       "5724    subject re  receipts from visit jim  thanks ag...\n",
       "5725    subject re  enron case study update wow  all o...\n",
       "5726    subject re  interest david  please  call shirl...\n",
       "5727    subject news  aurora 5  2 update aurora versio...\n",
       "Name: text, Length: 5695, dtype: object>"
      ]
     },
     "execution_count": 308,
     "metadata": {},
     "output_type": "execute_result"
    }
   ],
   "source": [
    "data[\"text\"].head"
   ]
  },
  {
   "cell_type": "markdown",
   "id": "6697e01c",
   "metadata": {},
   "source": [
    "Remove Numbers"
   ]
  },
  {
   "cell_type": "code",
   "execution_count": 309,
   "id": "1a7eaf6d",
   "metadata": {},
   "outputs": [],
   "source": [
    "data[\"text\"] = data['text'].str.replace(r'\\d+', '', regex=True)\n"
   ]
  },
  {
   "cell_type": "code",
   "execution_count": 310,
   "id": "dafc4bb2",
   "metadata": {},
   "outputs": [
    {
     "data": {
      "text/plain": [
       "<bound method NDFrame.head of 0       subject naturally irresistible your corporate ...\n",
       "1       subject the stock trading gunslinger fanny is ...\n",
       "2       subject unbelievable new homes made easy im wa...\n",
       "3       subject  color printing special request additi...\n",
       "4       subject do not have money  get software cds fr...\n",
       "                              ...                        \n",
       "5723    subject re  research and development charges t...\n",
       "5724    subject re  receipts from visit jim  thanks ag...\n",
       "5725    subject re  enron case study update wow  all o...\n",
       "5726    subject re  interest david  please  call shirl...\n",
       "5727    subject news  aurora    update aurora version ...\n",
       "Name: text, Length: 5695, dtype: object>"
      ]
     },
     "execution_count": 310,
     "metadata": {},
     "output_type": "execute_result"
    }
   ],
   "source": [
    "data[\"text\"].head"
   ]
  },
  {
   "cell_type": "markdown",
   "id": "e8286295",
   "metadata": {},
   "source": [
    "Remove Stopwords"
   ]
  },
  {
   "cell_type": "code",
   "execution_count": 311,
   "id": "4bb6dec1",
   "metadata": {},
   "outputs": [
    {
     "name": "stderr",
     "output_type": "stream",
     "text": [
      "[nltk_data] Downloading package stopwords to ../stopwordsMain...\n",
      "[nltk_data]   Package stopwords is already up-to-date!\n"
     ]
    }
   ],
   "source": [
    "import nltk\n",
    "import os\n",
    "\n",
    "#check the folder\n",
    "download_dir = '../stopwordsMain'\n",
    "os.makedirs(download_dir, exist_ok=True)\n",
    "\n",
    "#download stopwords\n",
    "nltk.download('stopwords', download_dir='../stopwordsMain')\n",
    "\n",
    "#open Stopwords\n",
    "with open('../stopwordsMain/corpora/stopwords/english', 'r') as file:\n",
    "    sw = file.read().splitlines()\n",
    "    \n",
    "# print(sw)\n",
    "    "
   ]
  },
  {
   "cell_type": "code",
   "execution_count": 312,
   "id": "e0fb1b7e",
   "metadata": {},
   "outputs": [],
   "source": [
    "data[\"text\"] = data[\"text\"].apply(lambda x: \" \".join(x for x in x.split() if x not in sw))"
   ]
  },
  {
   "cell_type": "code",
   "execution_count": 313,
   "id": "fd3daa16",
   "metadata": {},
   "outputs": [
    {
     "data": {
      "text/plain": [
       "<bound method NDFrame.head of 0       subject naturally irresistible corporate ident...\n",
       "1       subject stock trading gunslinger fanny merrill...\n",
       "2       subject unbelievable new homes made easy im wa...\n",
       "3       subject color printing special request additio...\n",
       "4       subject money get software cds software compat...\n",
       "                              ...                        \n",
       "5723    subject research development charges gpg forwa...\n",
       "5724    subject receipts visit jim thanks invitation v...\n",
       "5725    subject enron case study update wow day super ...\n",
       "5726    subject interest david please call shirley cre...\n",
       "5727    subject news aurora update aurora version fast...\n",
       "Name: text, Length: 5695, dtype: object>"
      ]
     },
     "execution_count": 313,
     "metadata": {},
     "output_type": "execute_result"
    }
   ],
   "source": [
    "data[\"text\"].head"
   ]
  },
  {
   "cell_type": "markdown",
   "id": "ffad238c",
   "metadata": {},
   "source": [
    "Remove Common words on Email "
   ]
  },
  {
   "cell_type": "code",
   "execution_count": 314,
   "id": "7db445e0",
   "metadata": {},
   "outputs": [],
   "source": [
    "data['text'] = data['text'].str.replace(r'\\b(subject|cc|forward)\\b', '', regex=True)\n"
   ]
  },
  {
   "cell_type": "code",
   "execution_count": 315,
   "id": "0e23bd97",
   "metadata": {},
   "outputs": [
    {
     "data": {
      "text/plain": [
       "<bound method NDFrame.head of 0        naturally irresistible corporate identity lt ...\n",
       "1        stock trading gunslinger fanny merrill muzo c...\n",
       "2        unbelievable new homes made easy im wanting s...\n",
       "3        color printing special request additional inf...\n",
       "4        money get software cds software compatibility...\n",
       "                              ...                        \n",
       "5723     research development charges gpg forwarded sh...\n",
       "5724     receipts visit jim thanks invitation visit ls...\n",
       "5725     enron case study update wow day super thank m...\n",
       "5726     interest david please call shirley crenshaw a...\n",
       "5727     news aurora update aurora version fastest mod...\n",
       "Name: text, Length: 5695, dtype: object>"
      ]
     },
     "execution_count": 315,
     "metadata": {},
     "output_type": "execute_result"
    }
   ],
   "source": [
    "data[\"text\"].head"
   ]
  },
  {
   "cell_type": "markdown",
   "id": "4ea58f34",
   "metadata": {},
   "source": [
    "Stamming"
   ]
  },
  {
   "cell_type": "code",
   "execution_count": 316,
   "id": "a081bd8c",
   "metadata": {},
   "outputs": [],
   "source": [
    "from nltk.stem import PorterStemmer\n",
    "ps = PorterStemmer()\n",
    "\n",
    "data[\"text\"] = data[\"text\"].apply(lambda x: \" \".join(ps.stem(x) for x in x.split()))"
   ]
  },
  {
   "cell_type": "code",
   "execution_count": 317,
   "id": "0e0580db",
   "metadata": {},
   "outputs": [
    {
     "data": {
      "text/plain": [
       "<bound method NDFrame.head of 0       natur irresist corpor ident lt realli hard rec...\n",
       "1       stock trade gunsling fanni merril muzo colza a...\n",
       "2       unbeliev new home made easi im want show homeo...\n",
       "3       color print special request addit inform click...\n",
       "4       money get softwar cd softwar compat great grow...\n",
       "                              ...                        \n",
       "5723    research develop charg gpg forward shirley cre...\n",
       "5724    receipt visit jim thank invit visit lsu shirle...\n",
       "5725    enron case studi updat wow day super thank muc...\n",
       "5726    interest david pleas call shirley crenshaw ass...\n",
       "5727    news aurora updat aurora version fastest model...\n",
       "Name: text, Length: 5695, dtype: object>"
      ]
     },
     "execution_count": 317,
     "metadata": {},
     "output_type": "execute_result"
    }
   ],
   "source": [
    "data[\"text\"].head"
   ]
  },
  {
   "cell_type": "markdown",
   "id": "4ba9d158",
   "metadata": {},
   "source": [
    "Data after Text Preprocessing"
   ]
  },
  {
   "cell_type": "code",
   "execution_count": 318,
   "id": "e16beb39",
   "metadata": {},
   "outputs": [
    {
     "data": {
      "text/html": [
       "<div>\n",
       "<style scoped>\n",
       "    .dataframe tbody tr th:only-of-type {\n",
       "        vertical-align: middle;\n",
       "    }\n",
       "\n",
       "    .dataframe tbody tr th {\n",
       "        vertical-align: top;\n",
       "    }\n",
       "\n",
       "    .dataframe thead th {\n",
       "        text-align: right;\n",
       "    }\n",
       "</style>\n",
       "<table border=\"1\" class=\"dataframe\">\n",
       "  <thead>\n",
       "    <tr style=\"text-align: right;\">\n",
       "      <th></th>\n",
       "      <th>text</th>\n",
       "      <th>spam</th>\n",
       "    </tr>\n",
       "  </thead>\n",
       "  <tbody>\n",
       "    <tr>\n",
       "      <th>0</th>\n",
       "      <td>natur irresist corpor ident lt realli hard rec...</td>\n",
       "      <td>1</td>\n",
       "    </tr>\n",
       "    <tr>\n",
       "      <th>1</th>\n",
       "      <td>stock trade gunsling fanni merril muzo colza a...</td>\n",
       "      <td>1</td>\n",
       "    </tr>\n",
       "    <tr>\n",
       "      <th>2</th>\n",
       "      <td>unbeliev new home made easi im want show homeo...</td>\n",
       "      <td>1</td>\n",
       "    </tr>\n",
       "    <tr>\n",
       "      <th>3</th>\n",
       "      <td>color print special request addit inform click...</td>\n",
       "      <td>1</td>\n",
       "    </tr>\n",
       "    <tr>\n",
       "      <th>4</th>\n",
       "      <td>money get softwar cd softwar compat great grow...</td>\n",
       "      <td>1</td>\n",
       "    </tr>\n",
       "    <tr>\n",
       "      <th>...</th>\n",
       "      <td>...</td>\n",
       "      <td>...</td>\n",
       "    </tr>\n",
       "    <tr>\n",
       "      <th>5723</th>\n",
       "      <td>research develop charg gpg forward shirley cre...</td>\n",
       "      <td>0</td>\n",
       "    </tr>\n",
       "    <tr>\n",
       "      <th>5724</th>\n",
       "      <td>receipt visit jim thank invit visit lsu shirle...</td>\n",
       "      <td>0</td>\n",
       "    </tr>\n",
       "    <tr>\n",
       "      <th>5725</th>\n",
       "      <td>enron case studi updat wow day super thank muc...</td>\n",
       "      <td>0</td>\n",
       "    </tr>\n",
       "    <tr>\n",
       "      <th>5726</th>\n",
       "      <td>interest david pleas call shirley crenshaw ass...</td>\n",
       "      <td>0</td>\n",
       "    </tr>\n",
       "    <tr>\n",
       "      <th>5727</th>\n",
       "      <td>news aurora updat aurora version fastest model...</td>\n",
       "      <td>0</td>\n",
       "    </tr>\n",
       "  </tbody>\n",
       "</table>\n",
       "<p>5695 rows × 2 columns</p>\n",
       "</div>"
      ],
      "text/plain": [
       "                                                   text  spam\n",
       "0     natur irresist corpor ident lt realli hard rec...     1\n",
       "1     stock trade gunsling fanni merril muzo colza a...     1\n",
       "2     unbeliev new home made easi im want show homeo...     1\n",
       "3     color print special request addit inform click...     1\n",
       "4     money get softwar cd softwar compat great grow...     1\n",
       "...                                                 ...   ...\n",
       "5723  research develop charg gpg forward shirley cre...     0\n",
       "5724  receipt visit jim thank invit visit lsu shirle...     0\n",
       "5725  enron case studi updat wow day super thank muc...     0\n",
       "5726  interest david pleas call shirley crenshaw ass...     0\n",
       "5727  news aurora updat aurora version fastest model...     0\n",
       "\n",
       "[5695 rows x 2 columns]"
      ]
     },
     "execution_count": 318,
     "metadata": {},
     "output_type": "execute_result"
    }
   ],
   "source": [
    "data"
   ]
  },
  {
   "cell_type": "markdown",
   "id": "1200ad2e",
   "metadata": {},
   "source": [
    "Buliding a Vocabulary"
   ]
  },
  {
   "cell_type": "code",
   "execution_count": 325,
   "id": "abd3de66",
   "metadata": {},
   "outputs": [
    {
     "name": "stdout",
     "output_type": "stream",
     "text": [
      "Length of vocabulary :  25670\n",
      "Data shape :  (5695, 2)\n"
     ]
    }
   ],
   "source": [
    "from collections import Counter\n",
    "vocab = Counter()\n",
    "\n",
    "for sentence in data['text']:\n",
    "    vocab.update(sentence.split())\n",
    "    \n",
    "print(\"Length of vocabulary : \" ,len(vocab))\n",
    "print(\"Data shape : \" , (data.shape))\n"
   ]
  }
 ],
 "metadata": {
  "colab": {
   "provenance": []
  },
  "kernelspec": {
   "display_name": "Python 3 (ipykernel)",
   "language": "python",
   "name": "python3"
  },
  "language_info": {
   "codemirror_mode": {
    "name": "ipython",
    "version": 3
   },
   "file_extension": ".py",
   "mimetype": "text/x-python",
   "name": "python",
   "nbconvert_exporter": "python",
   "pygments_lexer": "ipython3",
   "version": "3.12.8"
  }
 },
 "nbformat": 4,
 "nbformat_minor": 5
}
