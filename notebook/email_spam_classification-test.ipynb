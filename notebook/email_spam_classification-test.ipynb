{
  "cells": [
    {
      "cell_type": "markdown",
      "id": "pt7BVNs0h5-M",
      "metadata": {
        "id": "pt7BVNs0h5-M"
      },
      "source": [
        "# Part A – Application area review."
      ]
    },
    {
      "cell_type": "markdown",
      "id": "ND-yB37QiG6S",
      "metadata": {
        "id": "ND-yB37QiG6S"
      },
      "source": [
        "# Part B – Compare and evaluate AI techniques."
      ]
    },
    {
      "cell_type": "markdown",
      "id": "brdsJwRJ-fpJ",
      "metadata": {
        "id": "brdsJwRJ-fpJ"
      },
      "source": [
        "# Part C : Implementation"
      ]
    },
    {
      "cell_type": "code",
      "execution_count": 1,
      "id": "e49c72e8-37b5-46f4-873b-9e073cada82c",
      "metadata": {
        "id": "e49c72e8-37b5-46f4-873b-9e073cada82c"
      },
      "outputs": [],
      "source": [
        "#Import Liabraries\n",
        "import pandas as pd\n",
        "import numpy as np\n",
        "import matplotlib.pyplot as plt"
      ]
    },
    {
      "cell_type": "markdown",
      "id": "bZuqRKrt-2jZ",
      "metadata": {
        "id": "bZuqRKrt-2jZ"
      },
      "source": [
        "### Load Dataset"
      ]
    },
    {
      "cell_type": "code",
      "execution_count": 2,
      "id": "231e6c20-891c-46a2-8e65-59e541202276",
      "metadata": {
        "colab": {
          "base_uri": "https://localhost:8080/"
        },
        "id": "231e6c20-891c-46a2-8e65-59e541202276",
        "outputId": "6c36cb76-76c2-4ecf-e4bd-9ada2a02a49a"
      },
      "outputs": [
        {
          "name": "stdout",
          "output_type": "stream",
          "text": [
            "Dataset loaded successfully\n"
          ]
        }
      ],
      "source": [
        "data = pd.read_csv('../dataset/emails.csv')\n",
        "\n",
        "print(\"Dataset loaded successfully\")"
      ]
    },
    {
      "cell_type": "code",
      "execution_count": 3,
      "id": "c1de393e-528a-456a-b267-7fd394267e20",
      "metadata": {
        "colab": {
          "base_uri": "https://localhost:8080/",
          "height": 206
        },
        "id": "c1de393e-528a-456a-b267-7fd394267e20",
        "outputId": "1bd9b6f7-0509-4b35-c99a-909210407f5a"
      },
      "outputs": [
        {
          "data": {
            "text/html": [
              "<div>\n",
              "<style scoped>\n",
              "    .dataframe tbody tr th:only-of-type {\n",
              "        vertical-align: middle;\n",
              "    }\n",
              "\n",
              "    .dataframe tbody tr th {\n",
              "        vertical-align: top;\n",
              "    }\n",
              "\n",
              "    .dataframe thead th {\n",
              "        text-align: right;\n",
              "    }\n",
              "</style>\n",
              "<table border=\"1\" class=\"dataframe\">\n",
              "  <thead>\n",
              "    <tr style=\"text-align: right;\">\n",
              "      <th></th>\n",
              "      <th>text</th>\n",
              "      <th>spam</th>\n",
              "    </tr>\n",
              "  </thead>\n",
              "  <tbody>\n",
              "    <tr>\n",
              "      <th>0</th>\n",
              "      <td>Subject: naturally irresistible your corporate...</td>\n",
              "      <td>1</td>\n",
              "    </tr>\n",
              "    <tr>\n",
              "      <th>1</th>\n",
              "      <td>Subject: the stock trading gunslinger  fanny i...</td>\n",
              "      <td>1</td>\n",
              "    </tr>\n",
              "    <tr>\n",
              "      <th>2</th>\n",
              "      <td>Subject: unbelievable new homes made easy  im ...</td>\n",
              "      <td>1</td>\n",
              "    </tr>\n",
              "    <tr>\n",
              "      <th>3</th>\n",
              "      <td>Subject: 4 color printing special  request add...</td>\n",
              "      <td>1</td>\n",
              "    </tr>\n",
              "    <tr>\n",
              "      <th>4</th>\n",
              "      <td>Subject: do not have money , get software cds ...</td>\n",
              "      <td>1</td>\n",
              "    </tr>\n",
              "  </tbody>\n",
              "</table>\n",
              "</div>"
            ],
            "text/plain": [
              "                                                text  spam\n",
              "0  Subject: naturally irresistible your corporate...     1\n",
              "1  Subject: the stock trading gunslinger  fanny i...     1\n",
              "2  Subject: unbelievable new homes made easy  im ...     1\n",
              "3  Subject: 4 color printing special  request add...     1\n",
              "4  Subject: do not have money , get software cds ...     1"
            ]
          },
          "execution_count": 3,
          "metadata": {},
          "output_type": "execute_result"
        }
      ],
      "source": [
        "data.head()"
      ]
    },
    {
      "cell_type": "markdown",
      "id": "SUS6nVnh_Nxe",
      "metadata": {
        "id": "SUS6nVnh_Nxe"
      },
      "source": [
        "### Data Preprocessing"
      ]
    },
    {
      "cell_type": "code",
      "execution_count": 4,
      "id": "8f13c049-e0ba-440e-a5e9-097ef672c6c9",
      "metadata": {
        "colab": {
          "base_uri": "https://localhost:8080/"
        },
        "id": "8f13c049-e0ba-440e-a5e9-097ef672c6c9",
        "outputId": "496e375d-35f0-4c60-8800-d013ece6dbc4"
      },
      "outputs": [
        {
          "data": {
            "text/plain": [
              "(5728, 2)"
            ]
          },
          "execution_count": 4,
          "metadata": {},
          "output_type": "execute_result"
        }
      ],
      "source": [
        "data.shape"
      ]
    },
    {
      "cell_type": "code",
      "execution_count": 5,
      "id": "441d1d9a-29be-4c2e-9d91-0a1dd8162d75",
      "metadata": {
        "colab": {
          "base_uri": "https://localhost:8080/"
        },
        "id": "441d1d9a-29be-4c2e-9d91-0a1dd8162d75",
        "outputId": "c38ba479-8074-4481-a650-e57d38b31aab"
      },
      "outputs": [
        {
          "name": "stdout",
          "output_type": "stream",
          "text": [
            "Duplicate data before drop: 33\n",
            "Duplicated Data Drop Done\n",
            "Duplicate data after drop: 0\n"
          ]
        }
      ],
      "source": [
        "# Identify duplicates\n",
        "duplicates = data[data.duplicated()]\n",
        "print(\"Duplicate data before drop:\", len(duplicates))\n",
        "\n",
        "# Drop duplicates\n",
        "data = data.drop_duplicates()\n",
        "print(\"Duplicated Data Drop Done\")\n",
        "\n",
        "# Check for duplicates after dropping\n",
        "print(\"Duplicate data after drop:\", data.duplicated().sum())"
      ]
    },
    {
      "cell_type": "code",
      "execution_count": 6,
      "id": "153d0027",
      "metadata": {
        "colab": {
          "base_uri": "https://localhost:8080/",
          "height": 0
        },
        "id": "153d0027",
        "outputId": "225bb5ee-8332-41f2-ee50-ebc38859c377"
      },
      "outputs": [
        {
          "data": {
            "text/plain": [
              "text    0\n",
              "spam    0\n",
              "dtype: int64"
            ]
          },
          "execution_count": 6,
          "metadata": {},
          "output_type": "execute_result"
        }
      ],
      "source": [
        "#Check Data Null\n",
        "data.isnull().sum()"
      ]
    },
    {
      "cell_type": "markdown",
      "id": "783d2bdf",
      "metadata": {
        "id": "783d2bdf"
      },
      "source": [
        "### Text Preprocessing"
      ]
    },
    {
      "cell_type": "code",
      "execution_count": 7,
      "id": "8d40939b-a93f-4c51-a949-010f622a4cf8",
      "metadata": {
        "id": "8d40939b-a93f-4c51-a949-010f622a4cf8"
      },
      "outputs": [],
      "source": [
        "import re\n",
        "import string"
      ]
    },
    {
      "cell_type": "markdown",
      "id": "aa5ff9e7-90cf-4363-9efa-b7e8e4c9e5e9",
      "metadata": {
        "id": "aa5ff9e7-90cf-4363-9efa-b7e8e4c9e5e9"
      },
      "source": [
        "**Convert Uppercase to Lowercase**"
      ]
    },
    {
      "cell_type": "code",
      "execution_count": 8,
      "id": "dc8c4d3d-5700-4d7b-8c18-047ff5294ae9",
      "metadata": {
        "colab": {
          "base_uri": "https://localhost:8080/",
          "height": 186
        },
        "id": "dc8c4d3d-5700-4d7b-8c18-047ff5294ae9",
        "outputId": "81f2e890-5d89-4d5a-9ba6-8a5c735defd4"
      },
      "outputs": [
        {
          "data": {
            "text/plain": [
              "<bound method NDFrame.head of 0       Subject: naturally irresistible your corporate...\n",
              "1       Subject: the stock trading gunslinger  fanny i...\n",
              "2       Subject: unbelievable new homes made easy  im ...\n",
              "3       Subject: 4 color printing special  request add...\n",
              "4       Subject: do not have money , get software cds ...\n",
              "                              ...                        \n",
              "5723    Subject: re : research and development charges...\n",
              "5724    Subject: re : receipts from visit  jim ,  than...\n",
              "5725    Subject: re : enron case study update  wow ! a...\n",
              "5726    Subject: re : interest  david ,  please , call...\n",
              "5727    Subject: news : aurora 5 . 2 update  aurora ve...\n",
              "Name: text, Length: 5695, dtype: object>"
            ]
          },
          "execution_count": 8,
          "metadata": {},
          "output_type": "execute_result"
        }
      ],
      "source": [
        "data[\"text\"].head"
      ]
    },
    {
      "cell_type": "code",
      "execution_count": 9,
      "id": "79165d4b",
      "metadata": {
        "id": "79165d4b"
      },
      "outputs": [],
      "source": [
        "data[\"text\"] = data[\"text\"].apply(lambda x: \" \".join(x.lower() for x in x.split()))"
      ]
    },
    {
      "cell_type": "code",
      "execution_count": 10,
      "id": "3b3f96af",
      "metadata": {
        "colab": {
          "base_uri": "https://localhost:8080/",
          "height": 186
        },
        "id": "3b3f96af",
        "outputId": "576b8964-329d-4c82-b109-4316669a8902"
      },
      "outputs": [
        {
          "data": {
            "text/plain": [
              "<bound method NDFrame.head of 0       subject: naturally irresistible your corporate...\n",
              "1       subject: the stock trading gunslinger fanny is...\n",
              "2       subject: unbelievable new homes made easy im w...\n",
              "3       subject: 4 color printing special request addi...\n",
              "4       subject: do not have money , get software cds ...\n",
              "                              ...                        \n",
              "5723    subject: re : research and development charges...\n",
              "5724    subject: re : receipts from visit jim , thanks...\n",
              "5725    subject: re : enron case study update wow ! al...\n",
              "5726    subject: re : interest david , please , call s...\n",
              "5727    subject: news : aurora 5 . 2 update aurora ver...\n",
              "Name: text, Length: 5695, dtype: object>"
            ]
          },
          "execution_count": 10,
          "metadata": {},
          "output_type": "execute_result"
        }
      ],
      "source": [
        "data[\"text\"].head"
      ]
    },
    {
      "cell_type": "markdown",
      "id": "c6259be4",
      "metadata": {
        "id": "c6259be4"
      },
      "source": [
        "**Remove Links**"
      ]
    },
    {
      "cell_type": "code",
      "execution_count": 11,
      "id": "e4aba26c",
      "metadata": {
        "id": "e4aba26c"
      },
      "outputs": [],
      "source": [
        "data[\"text\"] = data[\"text\"].apply(lambda x: \" \".join(re.sub(r'^https?:\\/\\/.*[\\r\\n]*', '', x, flags=re.MULTILINE) for x in x.split()))"
      ]
    },
    {
      "cell_type": "code",
      "execution_count": 12,
      "id": "4edb907f",
      "metadata": {
        "colab": {
          "base_uri": "https://localhost:8080/",
          "height": 186
        },
        "id": "4edb907f",
        "outputId": "a11c5942-edc3-4f38-b2f7-655bd0b39007"
      },
      "outputs": [
        {
          "data": {
            "text/plain": [
              "<bound method NDFrame.head of 0       subject: naturally irresistible your corporate...\n",
              "1       subject: the stock trading gunslinger fanny is...\n",
              "2       subject: unbelievable new homes made easy im w...\n",
              "3       subject: 4 color printing special request addi...\n",
              "4       subject: do not have money , get software cds ...\n",
              "                              ...                        \n",
              "5723    subject: re : research and development charges...\n",
              "5724    subject: re : receipts from visit jim , thanks...\n",
              "5725    subject: re : enron case study update wow ! al...\n",
              "5726    subject: re : interest david , please , call s...\n",
              "5727    subject: news : aurora 5 . 2 update aurora ver...\n",
              "Name: text, Length: 5695, dtype: object>"
            ]
          },
          "execution_count": 12,
          "metadata": {},
          "output_type": "execute_result"
        }
      ],
      "source": [
        "data[\"text\"].head"
      ]
    },
    {
      "cell_type": "markdown",
      "id": "25e1c1e6",
      "metadata": {
        "id": "25e1c1e6"
      },
      "source": [
        "**Remove Punctuations**"
      ]
    },
    {
      "cell_type": "code",
      "execution_count": 13,
      "id": "2bf42206",
      "metadata": {
        "id": "2bf42206"
      },
      "outputs": [],
      "source": [
        "def remove_punctuations(text):\n",
        "    for punctuation in string.punctuation:\n",
        "        text = text.replace(punctuation, '')\n",
        "    return text\n",
        "\n",
        "data[\"text\"] = data[\"text\"].apply(remove_punctuations)"
      ]
    },
    {
      "cell_type": "code",
      "execution_count": 14,
      "id": "eca31da2",
      "metadata": {
        "colab": {
          "base_uri": "https://localhost:8080/",
          "height": 186
        },
        "id": "eca31da2",
        "outputId": "cb69a7ea-84a0-400e-8425-fb9276b78ae9"
      },
      "outputs": [
        {
          "data": {
            "text/plain": [
              "<bound method NDFrame.head of 0       subject naturally irresistible your corporate ...\n",
              "1       subject the stock trading gunslinger fanny is ...\n",
              "2       subject unbelievable new homes made easy im wa...\n",
              "3       subject 4 color printing special request addit...\n",
              "4       subject do not have money  get software cds fr...\n",
              "                              ...                        \n",
              "5723    subject re  research and development charges t...\n",
              "5724    subject re  receipts from visit jim  thanks ag...\n",
              "5725    subject re  enron case study update wow  all o...\n",
              "5726    subject re  interest david  please  call shirl...\n",
              "5727    subject news  aurora 5  2 update aurora versio...\n",
              "Name: text, Length: 5695, dtype: object>"
            ]
          },
          "execution_count": 14,
          "metadata": {},
          "output_type": "execute_result"
        }
      ],
      "source": [
        "data[\"text\"].head"
      ]
    },
    {
      "cell_type": "markdown",
      "id": "6697e01c",
      "metadata": {
        "id": "6697e01c"
      },
      "source": [
        "**Remove Numbers**"
      ]
    },
    {
      "cell_type": "code",
      "execution_count": 15,
      "id": "1a7eaf6d",
      "metadata": {
        "id": "1a7eaf6d"
      },
      "outputs": [],
      "source": [
        "data[\"text\"] = data['text'].str.replace(r'\\d+', '', regex=True)\n"
      ]
    },
    {
      "cell_type": "code",
      "execution_count": 16,
      "id": "dafc4bb2",
      "metadata": {
        "colab": {
          "base_uri": "https://localhost:8080/",
          "height": 186
        },
        "id": "dafc4bb2",
        "outputId": "e20702e6-74be-435f-e340-2c7f454cf756"
      },
      "outputs": [
        {
          "data": {
            "text/plain": [
              "<bound method NDFrame.head of 0       subject naturally irresistible your corporate ...\n",
              "1       subject the stock trading gunslinger fanny is ...\n",
              "2       subject unbelievable new homes made easy im wa...\n",
              "3       subject  color printing special request additi...\n",
              "4       subject do not have money  get software cds fr...\n",
              "                              ...                        \n",
              "5723    subject re  research and development charges t...\n",
              "5724    subject re  receipts from visit jim  thanks ag...\n",
              "5725    subject re  enron case study update wow  all o...\n",
              "5726    subject re  interest david  please  call shirl...\n",
              "5727    subject news  aurora    update aurora version ...\n",
              "Name: text, Length: 5695, dtype: object>"
            ]
          },
          "execution_count": 16,
          "metadata": {},
          "output_type": "execute_result"
        }
      ],
      "source": [
        "data[\"text\"].head"
      ]
    },
    {
      "cell_type": "markdown",
      "id": "e8286295",
      "metadata": {
        "id": "e8286295"
      },
      "source": [
        "**Remove Stopwords**"
      ]
    },
    {
      "cell_type": "code",
      "execution_count": 17,
      "id": "4bb6dec1",
      "metadata": {
        "colab": {
          "base_uri": "https://localhost:8080/"
        },
        "id": "4bb6dec1",
        "outputId": "86aa8b66-027e-46f3-8e02-e371480ebc72"
      },
      "outputs": [
        {
          "name": "stderr",
          "output_type": "stream",
          "text": [
            "[nltk_data] Downloading package stopwords to ../stopwordsMain...\n",
            "[nltk_data]   Package stopwords is already up-to-date!\n"
          ]
        }
      ],
      "source": [
        "import nltk\n",
        "import os\n",
        "\n",
        "#check the folder\n",
        "download_dir = '../stopwordsMain'\n",
        "os.makedirs(download_dir, exist_ok=True)\n",
        "\n",
        "#download stopwords\n",
        "nltk.download('stopwords', download_dir='../stopwordsMain')\n",
        "\n",
        "#open Stopwords\n",
        "with open('../stopwordsMain/corpora/stopwords/english', 'r') as file:\n",
        "    sw = file.read().splitlines()\n",
        "\n",
        "# print(sw)\n"
      ]
    },
    {
      "cell_type": "code",
      "execution_count": 18,
      "id": "e0fb1b7e",
      "metadata": {
        "id": "e0fb1b7e"
      },
      "outputs": [],
      "source": [
        "data[\"text\"] = data[\"text\"].apply(lambda x: \" \".join(x for x in x.split() if x not in sw))"
      ]
    },
    {
      "cell_type": "code",
      "execution_count": 19,
      "id": "fd3daa16",
      "metadata": {
        "colab": {
          "base_uri": "https://localhost:8080/",
          "height": 186
        },
        "id": "fd3daa16",
        "outputId": "8a287edd-7a01-4e56-e9be-d1fa8455cf4e"
      },
      "outputs": [
        {
          "data": {
            "text/plain": [
              "<bound method NDFrame.head of 0       subject naturally irresistible corporate ident...\n",
              "1       subject stock trading gunslinger fanny merrill...\n",
              "2       subject unbelievable new homes made easy im wa...\n",
              "3       subject color printing special request additio...\n",
              "4       subject money get software cds software compat...\n",
              "                              ...                        \n",
              "5723    subject research development charges gpg forwa...\n",
              "5724    subject receipts visit jim thanks invitation v...\n",
              "5725    subject enron case study update wow day super ...\n",
              "5726    subject interest david please call shirley cre...\n",
              "5727    subject news aurora update aurora version fast...\n",
              "Name: text, Length: 5695, dtype: object>"
            ]
          },
          "execution_count": 19,
          "metadata": {},
          "output_type": "execute_result"
        }
      ],
      "source": [
        "data[\"text\"].head"
      ]
    },
    {
      "cell_type": "markdown",
      "id": "ffad238c",
      "metadata": {
        "id": "ffad238c"
      },
      "source": [
        "**Remove Common words on Email**"
      ]
    },
    {
      "cell_type": "code",
      "execution_count": 20,
      "id": "7db445e0",
      "metadata": {
        "id": "7db445e0"
      },
      "outputs": [],
      "source": [
        "data['text'] = data['text'].str.replace(r'\\b(subject|cc|forward)\\b', '', regex=True)\n"
      ]
    },
    {
      "cell_type": "code",
      "execution_count": 21,
      "id": "0e23bd97",
      "metadata": {
        "colab": {
          "base_uri": "https://localhost:8080/",
          "height": 186
        },
        "id": "0e23bd97",
        "outputId": "17940302-d5c3-4730-be9e-ce10bc309883"
      },
      "outputs": [
        {
          "data": {
            "text/plain": [
              "<bound method NDFrame.head of 0        naturally irresistible corporate identity lt ...\n",
              "1        stock trading gunslinger fanny merrill muzo c...\n",
              "2        unbelievable new homes made easy im wanting s...\n",
              "3        color printing special request additional inf...\n",
              "4        money get software cds software compatibility...\n",
              "                              ...                        \n",
              "5723     research development charges gpg forwarded sh...\n",
              "5724     receipts visit jim thanks invitation visit ls...\n",
              "5725     enron case study update wow day super thank m...\n",
              "5726     interest david please call shirley crenshaw a...\n",
              "5727     news aurora update aurora version fastest mod...\n",
              "Name: text, Length: 5695, dtype: object>"
            ]
          },
          "execution_count": 21,
          "metadata": {},
          "output_type": "execute_result"
        }
      ],
      "source": [
        "data[\"text\"].head"
      ]
    },
    {
      "cell_type": "markdown",
      "id": "4ea58f34",
      "metadata": {
        "id": "4ea58f34"
      },
      "source": [
        "**Stamming**"
      ]
    },
    {
      "cell_type": "code",
      "execution_count": 22,
      "id": "a081bd8c",
      "metadata": {
        "id": "a081bd8c"
      },
      "outputs": [],
      "source": [
        "from nltk.stem import PorterStemmer\n",
        "ps = PorterStemmer()\n",
        "\n",
        "data[\"text\"] = data[\"text\"].apply(lambda x: \" \".join(ps.stem(x) for x in x.split()))"
      ]
    },
    {
      "cell_type": "code",
      "execution_count": 23,
      "id": "0e0580db",
      "metadata": {
        "colab": {
          "base_uri": "https://localhost:8080/",
          "height": 186
        },
        "id": "0e0580db",
        "outputId": "0eec6401-f7ea-4bb5-ce63-74ccb5fb6b44"
      },
      "outputs": [
        {
          "data": {
            "text/plain": [
              "<bound method NDFrame.head of 0       natur irresist corpor ident lt realli hard rec...\n",
              "1       stock trade gunsling fanni merril muzo colza a...\n",
              "2       unbeliev new home made easi im want show homeo...\n",
              "3       color print special request addit inform click...\n",
              "4       money get softwar cd softwar compat great grow...\n",
              "                              ...                        \n",
              "5723    research develop charg gpg forward shirley cre...\n",
              "5724    receipt visit jim thank invit visit lsu shirle...\n",
              "5725    enron case studi updat wow day super thank muc...\n",
              "5726    interest david pleas call shirley crenshaw ass...\n",
              "5727    news aurora updat aurora version fastest model...\n",
              "Name: text, Length: 5695, dtype: object>"
            ]
          },
          "execution_count": 23,
          "metadata": {},
          "output_type": "execute_result"
        }
      ],
      "source": [
        "data[\"text\"].head"
      ]
    },
    {
      "cell_type": "markdown",
      "id": "4ba9d158",
      "metadata": {
        "id": "4ba9d158"
      },
      "source": [
        "**Data after Text Preprocessing**"
      ]
    },
    {
      "cell_type": "code",
      "execution_count": 24,
      "id": "e16beb39",
      "metadata": {
        "colab": {
          "base_uri": "https://localhost:8080/",
          "height": 423
        },
        "id": "e16beb39",
        "outputId": "96ef4986-0056-49db-d488-00e889172004"
      },
      "outputs": [
        {
          "data": {
            "text/html": [
              "<div>\n",
              "<style scoped>\n",
              "    .dataframe tbody tr th:only-of-type {\n",
              "        vertical-align: middle;\n",
              "    }\n",
              "\n",
              "    .dataframe tbody tr th {\n",
              "        vertical-align: top;\n",
              "    }\n",
              "\n",
              "    .dataframe thead th {\n",
              "        text-align: right;\n",
              "    }\n",
              "</style>\n",
              "<table border=\"1\" class=\"dataframe\">\n",
              "  <thead>\n",
              "    <tr style=\"text-align: right;\">\n",
              "      <th></th>\n",
              "      <th>text</th>\n",
              "      <th>spam</th>\n",
              "    </tr>\n",
              "  </thead>\n",
              "  <tbody>\n",
              "    <tr>\n",
              "      <th>0</th>\n",
              "      <td>natur irresist corpor ident lt realli hard rec...</td>\n",
              "      <td>1</td>\n",
              "    </tr>\n",
              "    <tr>\n",
              "      <th>1</th>\n",
              "      <td>stock trade gunsling fanni merril muzo colza a...</td>\n",
              "      <td>1</td>\n",
              "    </tr>\n",
              "    <tr>\n",
              "      <th>2</th>\n",
              "      <td>unbeliev new home made easi im want show homeo...</td>\n",
              "      <td>1</td>\n",
              "    </tr>\n",
              "    <tr>\n",
              "      <th>3</th>\n",
              "      <td>color print special request addit inform click...</td>\n",
              "      <td>1</td>\n",
              "    </tr>\n",
              "    <tr>\n",
              "      <th>4</th>\n",
              "      <td>money get softwar cd softwar compat great grow...</td>\n",
              "      <td>1</td>\n",
              "    </tr>\n",
              "    <tr>\n",
              "      <th>...</th>\n",
              "      <td>...</td>\n",
              "      <td>...</td>\n",
              "    </tr>\n",
              "    <tr>\n",
              "      <th>5723</th>\n",
              "      <td>research develop charg gpg forward shirley cre...</td>\n",
              "      <td>0</td>\n",
              "    </tr>\n",
              "    <tr>\n",
              "      <th>5724</th>\n",
              "      <td>receipt visit jim thank invit visit lsu shirle...</td>\n",
              "      <td>0</td>\n",
              "    </tr>\n",
              "    <tr>\n",
              "      <th>5725</th>\n",
              "      <td>enron case studi updat wow day super thank muc...</td>\n",
              "      <td>0</td>\n",
              "    </tr>\n",
              "    <tr>\n",
              "      <th>5726</th>\n",
              "      <td>interest david pleas call shirley crenshaw ass...</td>\n",
              "      <td>0</td>\n",
              "    </tr>\n",
              "    <tr>\n",
              "      <th>5727</th>\n",
              "      <td>news aurora updat aurora version fastest model...</td>\n",
              "      <td>0</td>\n",
              "    </tr>\n",
              "  </tbody>\n",
              "</table>\n",
              "<p>5695 rows × 2 columns</p>\n",
              "</div>"
            ],
            "text/plain": [
              "                                                   text  spam\n",
              "0     natur irresist corpor ident lt realli hard rec...     1\n",
              "1     stock trade gunsling fanni merril muzo colza a...     1\n",
              "2     unbeliev new home made easi im want show homeo...     1\n",
              "3     color print special request addit inform click...     1\n",
              "4     money get softwar cd softwar compat great grow...     1\n",
              "...                                                 ...   ...\n",
              "5723  research develop charg gpg forward shirley cre...     0\n",
              "5724  receipt visit jim thank invit visit lsu shirle...     0\n",
              "5725  enron case studi updat wow day super thank muc...     0\n",
              "5726  interest david pleas call shirley crenshaw ass...     0\n",
              "5727  news aurora updat aurora version fastest model...     0\n",
              "\n",
              "[5695 rows x 2 columns]"
            ]
          },
          "execution_count": 24,
          "metadata": {},
          "output_type": "execute_result"
        }
      ],
      "source": [
        "data"
      ]
    },
    {
      "cell_type": "markdown",
      "id": "1200ad2e",
      "metadata": {
        "id": "1200ad2e"
      },
      "source": [
        "**Buliding a Vocabulary**"
      ]
    },
    {
      "cell_type": "code",
      "execution_count": 25,
      "id": "abd3de66",
      "metadata": {
        "colab": {
          "base_uri": "https://localhost:8080/"
        },
        "id": "abd3de66",
        "outputId": "f2a16a81-6448-49a2-e33e-06cf24c9af2f"
      },
      "outputs": [
        {
          "name": "stdout",
          "output_type": "stream",
          "text": [
            "Length of vocabulary :  25670\n",
            "Data shape :  (5695, 2)\n"
          ]
        }
      ],
      "source": [
        "from collections import Counter\n",
        "vocab = Counter()\n",
        "\n",
        "for sentence in data['text']:\n",
        "    vocab.update(sentence.split())\n",
        "\n",
        "print(\"Length of vocabulary : \" ,len(vocab))\n",
        "print(\"Data shape : \" , (data.shape))\n"
      ]
    },
    {
      "cell_type": "code",
      "execution_count": 26,
      "id": "9820778d",
      "metadata": {
        "colab": {
          "base_uri": "https://localhost:8080/"
        },
        "id": "9820778d",
        "outputId": "59a067b9-e543-4d0b-88db-bb6aa41d04e6"
      },
      "outputs": [
        {
          "name": "stdout",
          "output_type": "stream",
          "text": [
            "Vocabulary After Removing Rare Words: 8335\n"
          ]
        }
      ],
      "source": [
        "min_occurrence = 5\n",
        "filtered_vocab = {word: count for word, count in vocab.items() if count >= min_occurrence}\n",
        "print(\"Vocabulary After Removing Rare Words:\", len(filtered_vocab))"
      ]
    },
    {
      "cell_type": "code",
      "execution_count": 27,
      "id": "8fa2351b",
      "metadata": {
        "colab": {
          "base_uri": "https://localhost:8080/"
        },
        "id": "8fa2351b",
        "outputId": "116a631f-235d-4128-df13-2e28858c9e14"
      },
      "outputs": [
        {
          "name": "stdout",
          "output_type": "stream",
          "text": [
            "Vocabulary After Removing High-Frequency Words: 8331\n"
          ]
        }
      ],
      "source": [
        "max_docs = 0.95 * len(data)\n",
        "filtered_vocab = {word: count for word, count in filtered_vocab.items() if count <= max_docs}\n",
        "print(\"Vocabulary After Removing High-Frequency Words:\", len(filtered_vocab))\n"
      ]
    },
    {
      "cell_type": "code",
      "execution_count": 28,
      "id": "12828e8a",
      "metadata": {
        "colab": {
          "base_uri": "https://localhost:8080/"
        },
        "id": "12828e8a",
        "outputId": "b9df5c19-ac55-43ba-9ea8-5e649bea3389"
      },
      "outputs": [
        {
          "name": "stdout",
          "output_type": "stream",
          "text": [
            "Length of filterd vocabulary :  8331\n",
            "Data shape :  (5695, 2)\n"
          ]
        }
      ],
      "source": [
        "print(\"Length of filterd vocabulary : \" ,len(filtered_vocab))\n",
        "print(\"Data shape : \" , (data.shape))"
      ]
    },
    {
      "cell_type": "code",
      "execution_count": 29,
      "id": "5ea16419",
      "metadata": {
        "id": "5ea16419"
      },
      "outputs": [],
      "source": [
        "filtered_vocab = [key for key in filtered_vocab]\n"
      ]
    },
    {
      "cell_type": "code",
      "execution_count": 30,
      "id": "70421f68",
      "metadata": {
        "colab": {
          "base_uri": "https://localhost:8080/",
          "height": 423
        },
        "id": "70421f68",
        "outputId": "d482e927-8481-47a4-ea26-65e719f60119"
      },
      "outputs": [
        {
          "data": {
            "text/html": [
              "<div>\n",
              "<style scoped>\n",
              "    .dataframe tbody tr th:only-of-type {\n",
              "        vertical-align: middle;\n",
              "    }\n",
              "\n",
              "    .dataframe tbody tr th {\n",
              "        vertical-align: top;\n",
              "    }\n",
              "\n",
              "    .dataframe thead th {\n",
              "        text-align: right;\n",
              "    }\n",
              "</style>\n",
              "<table border=\"1\" class=\"dataframe\">\n",
              "  <thead>\n",
              "    <tr style=\"text-align: right;\">\n",
              "      <th></th>\n",
              "      <th>text</th>\n",
              "      <th>spam</th>\n",
              "    </tr>\n",
              "  </thead>\n",
              "  <tbody>\n",
              "    <tr>\n",
              "      <th>0</th>\n",
              "      <td>natur irresist corpor ident lt realli hard rec...</td>\n",
              "      <td>1</td>\n",
              "    </tr>\n",
              "    <tr>\n",
              "      <th>1</th>\n",
              "      <td>stock trade gunsling fanni merril muzo colza a...</td>\n",
              "      <td>1</td>\n",
              "    </tr>\n",
              "    <tr>\n",
              "      <th>2</th>\n",
              "      <td>unbeliev new home made easi im want show homeo...</td>\n",
              "      <td>1</td>\n",
              "    </tr>\n",
              "    <tr>\n",
              "      <th>3</th>\n",
              "      <td>color print special request addit inform click...</td>\n",
              "      <td>1</td>\n",
              "    </tr>\n",
              "    <tr>\n",
              "      <th>4</th>\n",
              "      <td>money get softwar cd softwar compat great grow...</td>\n",
              "      <td>1</td>\n",
              "    </tr>\n",
              "    <tr>\n",
              "      <th>...</th>\n",
              "      <td>...</td>\n",
              "      <td>...</td>\n",
              "    </tr>\n",
              "    <tr>\n",
              "      <th>5723</th>\n",
              "      <td>research develop charg gpg forward shirley cre...</td>\n",
              "      <td>0</td>\n",
              "    </tr>\n",
              "    <tr>\n",
              "      <th>5724</th>\n",
              "      <td>receipt visit jim thank invit visit lsu shirle...</td>\n",
              "      <td>0</td>\n",
              "    </tr>\n",
              "    <tr>\n",
              "      <th>5725</th>\n",
              "      <td>enron case studi updat wow day super thank muc...</td>\n",
              "      <td>0</td>\n",
              "    </tr>\n",
              "    <tr>\n",
              "      <th>5726</th>\n",
              "      <td>interest david pleas call shirley crenshaw ass...</td>\n",
              "      <td>0</td>\n",
              "    </tr>\n",
              "    <tr>\n",
              "      <th>5727</th>\n",
              "      <td>news aurora updat aurora version fastest model...</td>\n",
              "      <td>0</td>\n",
              "    </tr>\n",
              "  </tbody>\n",
              "</table>\n",
              "<p>5695 rows × 2 columns</p>\n",
              "</div>"
            ],
            "text/plain": [
              "                                                   text  spam\n",
              "0     natur irresist corpor ident lt realli hard rec...     1\n",
              "1     stock trade gunsling fanni merril muzo colza a...     1\n",
              "2     unbeliev new home made easi im want show homeo...     1\n",
              "3     color print special request addit inform click...     1\n",
              "4     money get softwar cd softwar compat great grow...     1\n",
              "...                                                 ...   ...\n",
              "5723  research develop charg gpg forward shirley cre...     0\n",
              "5724  receipt visit jim thank invit visit lsu shirle...     0\n",
              "5725  enron case studi updat wow day super thank muc...     0\n",
              "5726  interest david pleas call shirley crenshaw ass...     0\n",
              "5727  news aurora updat aurora version fastest model...     0\n",
              "\n",
              "[5695 rows x 2 columns]"
            ]
          },
          "execution_count": 30,
          "metadata": {},
          "output_type": "execute_result"
        }
      ],
      "source": [
        "data"
      ]
    },
    {
      "cell_type": "code",
      "execution_count": 31,
      "id": "f7ce9bd9",
      "metadata": {
        "id": "f7ce9bd9"
      },
      "outputs": [],
      "source": [
        "def save_vocabulary(lines, filename):\n",
        "    data = '\\n'.join(lines)\n",
        "    file = open(filename, 'w', encoding=\"utf-8\")\n",
        "    file.write(data)\n",
        "    file.close()\n",
        "\n",
        "save_vocabulary(filtered_vocab, '../vocabulary.txt')"
      ]
    },
    {
      "cell_type": "code",
      "execution_count": 32,
      "id": "4a32c8d5",
      "metadata": {
        "colab": {
          "base_uri": "https://localhost:8080/"
        },
        "id": "4a32c8d5",
        "outputId": "b5becb51-29b5-465d-aec4-922123fa3c79"
      },
      "outputs": [
        {
          "data": {
            "text/plain": [
              "['natur',\n",
              " 'corpor',\n",
              " 'ident',\n",
              " 'lt',\n",
              " 'realli',\n",
              " 'hard',\n",
              " 'recollect',\n",
              " 'compani',\n",
              " 'market',\n",
              " 'full',\n",
              " 'suqgest',\n",
              " 'inform',\n",
              " 'isoverwhelminq',\n",
              " 'good',\n",
              " 'catchi',\n",
              " 'logo',\n",
              " 'stylish',\n",
              " 'statloneri',\n",
              " 'outstand',\n",
              " 'websit',\n",
              " 'make',\n",
              " 'task',\n",
              " 'much',\n",
              " 'easier',\n",
              " 'promis',\n",
              " 'havinq',\n",
              " 'order',\n",
              " 'iogo',\n",
              " 'automaticaili',\n",
              " 'becom',\n",
              " 'world',\n",
              " 'ieader',\n",
              " 'isguit',\n",
              " 'ciear',\n",
              " 'without',\n",
              " 'product',\n",
              " 'effect',\n",
              " 'busi',\n",
              " 'organ',\n",
              " 'practic',\n",
              " 'aim',\n",
              " 'hotat',\n",
              " 'nowaday',\n",
              " 'effort',\n",
              " 'list',\n",
              " 'clear',\n",
              " 'benefit',\n",
              " 'creativ',\n",
              " 'hand',\n",
              " 'made',\n",
              " 'origin',\n",
              " 'special',\n",
              " 'done',\n",
              " 'reflect',\n",
              " 'distinct',\n",
              " 'imag',\n",
              " 'conveni',\n",
              " 'stationeri',\n",
              " 'provid',\n",
              " 'format',\n",
              " 'easi',\n",
              " 'use',\n",
              " 'content',\n",
              " 'manag',\n",
              " 'system',\n",
              " 'letsyou',\n",
              " 'chang',\n",
              " 'even',\n",
              " 'structur',\n",
              " 'prompt',\n",
              " 'see',\n",
              " 'draft',\n",
              " 'within',\n",
              " 'three',\n",
              " 'day',\n",
              " 'afford',\n",
              " 'break',\n",
              " 'gap',\n",
              " 'budget',\n",
              " 'satisfact',\n",
              " 'guarante',\n",
              " 'unlimit',\n",
              " 'amount',\n",
              " 'extra',\n",
              " 'fee',\n",
              " 'surethat',\n",
              " 'love',\n",
              " 'result',\n",
              " 'collabor',\n",
              " 'look',\n",
              " 'portfolio',\n",
              " 'interest',\n",
              " 'stock',\n",
              " 'trade',\n",
              " 'merril',\n",
              " 'like',\n",
              " 'group',\n",
              " 'tri',\n",
              " 'kansa',\n",
              " 'ye',\n",
              " 'continu',\n",
              " 'tight',\n",
              " 'superior',\n",
              " 'hall',\n",
              " 'incred',\n",
              " 'earmark',\n",
              " 'duan',\n",
              " 'plain',\n",
              " 'attir',\n",
              " 'edt',\n",
              " 'diffus',\n",
              " 'albeit',\n",
              " 'unbeliev',\n",
              " 'new',\n",
              " 'home',\n",
              " 'im',\n",
              " 'want',\n",
              " 'show',\n",
              " 'homeown',\n",
              " 'pre',\n",
              " 'approv',\n",
              " 'loan',\n",
              " 'fix',\n",
              " 'rate',\n",
              " 'offer',\n",
              " 'extend',\n",
              " 'uncondit',\n",
              " 'credit',\n",
              " 'way',\n",
              " 'factor',\n",
              " 'take',\n",
              " 'advantag',\n",
              " 'limit',\n",
              " 'time',\n",
              " 'opportun',\n",
              " 'ask',\n",
              " 'visit',\n",
              " 'complet',\n",
              " 'minut',\n",
              " 'post',\n",
              " 'form',\n",
              " 'foward',\n",
              " 'hear',\n",
              " 'color',\n",
              " 'print',\n",
              " 'request',\n",
              " 'addit',\n",
              " 'click',\n",
              " 'printabl',\n",
              " 'version',\n",
              " 'pdf',\n",
              " 'phone',\n",
              " 'fax',\n",
              " 'e',\n",
              " 'mail',\n",
              " 'com',\n",
              " 'golden',\n",
              " 'rd',\n",
              " 'ca',\n",
              " 'messag',\n",
              " 'advertis',\n",
              " 'solicit',\n",
              " 'money',\n",
              " 'get',\n",
              " 'softwar',\n",
              " 'cd',\n",
              " 'compat',\n",
              " 'great',\n",
              " 'grow',\n",
              " 'old',\n",
              " 'along',\n",
              " 'best',\n",
              " 'yet',\n",
              " 'finish',\n",
              " 'death',\n",
              " 'end',\n",
              " 'marriag',\n",
              " 'hello',\n",
              " 'welcom',\n",
              " 'sh',\n",
              " 'op',\n",
              " 'pleas',\n",
              " 'introduc',\n",
              " 'one',\n",
              " 'iead',\n",
              " 'onlin',\n",
              " 'phar',\n",
              " 'shop',\n",
              " 'v',\n",
              " 'r',\n",
              " 'l',\n",
              " 'ag',\n",
              " 'ac',\n",
              " 'va',\n",
              " 'confid',\n",
              " 'um',\n",
              " 'andmanyoth',\n",
              " 'sav',\n",
              " 'total',\n",
              " 'worldwid',\n",
              " 'polit',\n",
              " 'hlpplng',\n",
              " 'ov',\n",
              " 'er',\n",
              " 'miilion',\n",
              " 'custom',\n",
              " 'countri',\n",
              " 'nice',\n",
              " 'hot',\n",
              " 'play',\n",
              " 'motion',\n",
              " 'homeland',\n",
              " 'secur',\n",
              " 'invest',\n",
              " 'terror',\n",
              " 'attack',\n",
              " 'unit',\n",
              " 'state',\n",
              " 'septemb',\n",
              " 'ol',\n",
              " 'landscap',\n",
              " 'forese',\n",
              " 'futur',\n",
              " 'physic',\n",
              " 'paramount',\n",
              " 'industri',\n",
              " 'segment',\n",
              " 'bank',\n",
              " 'nationa',\n",
              " 'resourc',\n",
              " 'govern',\n",
              " 'sector',\n",
              " 'accord',\n",
              " 'giga',\n",
              " 'own',\n",
              " 'subsidiari',\n",
              " 'forrest',\n",
              " 'research',\n",
              " 'woridwid',\n",
              " 'demand',\n",
              " 'servic',\n",
              " 'set',\n",
              " 'eclips',\n",
              " 'b',\n",
              " 'homeiand',\n",
              " 'newsiett',\n",
              " 'dedic',\n",
              " 'reader',\n",
              " 'pertain',\n",
              " 'lucr',\n",
              " 'know',\n",
              " 'event',\n",
              " 'relat',\n",
              " 'happen',\n",
              " 'lightn',\n",
              " 'speed',\n",
              " 'investor',\n",
              " 'posit',\n",
              " 'current',\n",
              " 'trend',\n",
              " 'readi',\n",
              " 'capit',\n",
              " 'mind',\n",
              " 'excit',\n",
              " 'present',\n",
              " 'vinobl',\n",
              " 'inc',\n",
              " 'expect',\n",
              " 'big',\n",
              " 'thing',\n",
              " 'near',\n",
              " 'ong',\n",
              " 'term',\n",
              " 'symbol',\n",
              " 'vnbl',\n",
              " 'ob',\n",
              " 'price',\n",
              " 'short',\n",
              " 'target',\n",
              " 'month',\n",
              " 'believ',\n",
              " 'give',\n",
              " 'return',\n",
              " 'focu',\n",
              " 'rfid',\n",
              " 'radio',\n",
              " 'frequenc',\n",
              " 'identif',\n",
              " 'technoiogi',\n",
              " 'technolog',\n",
              " 'tini',\n",
              " 'sensor',\n",
              " 'transmit',\n",
              " 'person',\n",
              " 'object',\n",
              " 'wireiessli',\n",
              " 'aireadi',\n",
              " 'pioneer',\n",
              " 'locat',\n",
              " 'develop',\n",
              " 'allow',\n",
              " 'wirelessli',\n",
              " 'track',\n",
              " 'asset',\n",
              " 'huge',\n",
              " 'potentia',\n",
              " 'protect',\n",
              " 'transport',\n",
              " 'materiai',\n",
              " 'design',\n",
              " 'high',\n",
              " 'risk',\n",
              " 'fa',\n",
              " 'wrong',\n",
              " 'work',\n",
              " 'integr',\n",
              " 'two',\n",
              " 'afor',\n",
              " 'mention',\n",
              " 'creat',\n",
              " 'space',\n",
              " 'deem',\n",
              " 'necessari',\n",
              " 'may',\n",
              " 'airport',\n",
              " 'sea',\n",
              " 'port',\n",
              " 'mine',\n",
              " 'faciiiti',\n",
              " 'news',\n",
              " 'drive',\n",
              " 'fresh',\n",
              " 'buy',\n",
              " 'malibu',\n",
              " 'calif',\n",
              " 'wire',\n",
              " 'june',\n",
              " 'oo',\n",
              " 'otcbb',\n",
              " 'hold',\n",
              " 'seek',\n",
              " 'identifi',\n",
              " 'growth',\n",
              " 'area',\n",
              " 'announc',\n",
              " 'today',\n",
              " 'pian',\n",
              " 'wiil',\n",
              " 'assist',\n",
              " 'autom',\n",
              " 'control',\n",
              " 'equip',\n",
              " 'tooi',\n",
              " 'process',\n",
              " 'oi',\n",
              " 'ga',\n",
              " 'petrochem',\n",
              " 'although',\n",
              " 'smail',\n",
              " 'network',\n",
              " 'monitor',\n",
              " 'machin',\n",
              " 'detect',\n",
              " 'possibl',\n",
              " 'problem',\n",
              " 'seriou',\n",
              " 'aiso',\n",
              " 'safeti',\n",
              " 'featur',\n",
              " 'weli',\n",
              " 'mayb',\n",
              " 'trap',\n",
              " 'differ',\n",
              " 'ayer',\n",
              " 'rock',\n",
              " 'water',\n",
              " 'specif',\n",
              " 'oper',\n",
              " 'precis',\n",
              " 'moment',\n",
              " 'ensur',\n",
              " 'certain',\n",
              " 'advers',\n",
              " 'condit',\n",
              " 'occur',\n",
              " 'well',\n",
              " 'rf',\n",
              " 'base',\n",
              " 'applic',\n",
              " 'also',\n",
              " 'safe',\n",
              " 'transit',\n",
              " 'author',\n",
              " 'handler',\n",
              " 'entri',\n",
              " 'personn',\n",
              " 'ocat',\n",
              " 'personnel',\n",
              " 'essenti',\n",
              " 'emerg',\n",
              " 'tag',\n",
              " 'wouid',\n",
              " 'empioye',\n",
              " 'danger',\n",
              " 'requir',\n",
              " 'hardwar',\n",
              " 'harsh',\n",
              " 'hazard',\n",
              " 'valuabl',\n",
              " 'vita',\n",
              " 'suppli',\n",
              " 'chain',\n",
              " 'extract',\n",
              " 'refin',\n",
              " 'retai',\n",
              " 'viewpoint',\n",
              " 'measur',\n",
              " 'natura',\n",
              " 'commod',\n",
              " 'threat',\n",
              " 'preserv',\n",
              " 'import',\n",
              " 'u',\n",
              " 'economi',\n",
              " 'appiic',\n",
              " 'oil',\n",
              " 'wil',\n",
              " 'rapidli',\n",
              " 'expand',\n",
              " 'whiie',\n",
              " 'access',\n",
              " 'increas',\n",
              " 'spend',\n",
              " 'wi',\n",
              " 'goal',\n",
              " 'need',\n",
              " 'cost',\n",
              " 'sma',\n",
              " 'est',\n",
              " 'constant',\n",
              " 'potenti',\n",
              " 'except',\n",
              " 'alreadi',\n",
              " 'stand',\n",
              " 'innov',\n",
              " 'emai',\n",
              " 'contain',\n",
              " 'statement',\n",
              " 'mean',\n",
              " 'section',\n",
              " 'act',\n",
              " 'exchang',\n",
              " 'express',\n",
              " 'involv',\n",
              " 'discuss',\n",
              " 'respect',\n",
              " 'predict',\n",
              " 'belief',\n",
              " 'project',\n",
              " 'assumpt',\n",
              " 'perform',\n",
              " 'historica',\n",
              " 'fact',\n",
              " 'ook',\n",
              " 'estim',\n",
              " 'invoiv',\n",
              " 'number',\n",
              " 'uncertainti',\n",
              " 'couid',\n",
              " 'caus',\n",
              " 'materia',\n",
              " 'anticip',\n",
              " 'action',\n",
              " 'word',\n",
              " 'beiiev',\n",
              " 'understand',\n",
              " 'indic',\n",
              " 'might',\n",
              " 'mani',\n",
              " 'micro',\n",
              " 'cap',\n",
              " 'worth',\n",
              " 'note',\n",
              " 'inciud',\n",
              " 'histori',\n",
              " 'advanc',\n",
              " 'cash',\n",
              " 'reiat',\n",
              " 'parti',\n",
              " 'sharehold',\n",
              " 'unsecur',\n",
              " 'basi',\n",
              " 'vendor',\n",
              " 'major',\n",
              " 'nineti',\n",
              " 'seven',\n",
              " 'percent',\n",
              " 'raw',\n",
              " 'reiianc',\n",
              " 'fifti',\n",
              " 'numer',\n",
              " 'transact',\n",
              " 'rais',\n",
              " 'other',\n",
              " 'sec',\n",
              " 'fii',\n",
              " 'urg',\n",
              " 'read',\n",
              " 'file',\n",
              " 'rocket',\n",
              " 'report',\n",
              " 'repres',\n",
              " 'ail',\n",
              " 'omit',\n",
              " 'materi',\n",
              " 'therein',\n",
              " 'mislead',\n",
              " 'must',\n",
              " 'understood',\n",
              " 'advic',\n",
              " 'advis',\n",
              " 'subscrib',\n",
              " 'regist',\n",
              " 'decid',\n",
              " 'email',\n",
              " 'none',\n",
              " 'constru',\n",
              " 'kind',\n",
              " 'verg',\n",
              " 'bankruptci',\n",
              " 'lose',\n",
              " 'publish',\n",
              " 'advisor',\n",
              " 'view',\n",
              " 'herein',\n",
              " 'tax',\n",
              " 'account',\n",
              " 'refer',\n",
              " 'past',\n",
              " 'referenc',\n",
              " 'perfect',\n",
              " 'achiev',\n",
              " 'resuit',\n",
              " 'exampi',\n",
              " 'given',\n",
              " 'assur',\n",
              " 'rememb',\n",
              " 'aiway',\n",
              " 'never',\n",
              " 'thorough',\n",
              " 'due',\n",
              " 'includ',\n",
              " 'review',\n",
              " 'shouid',\n",
              " 'prior',\n",
              " 'receipt',\n",
              " 'thousand',\n",
              " 'third',\n",
              " 'gem',\n",
              " 'offic',\n",
              " 'director',\n",
              " 'affili',\n",
              " 'sharehoid',\n",
              " 'se',\n",
              " 'notic',\n",
              " 'awar',\n",
              " 'inher',\n",
              " 'confiict',\n",
              " 'compens',\n",
              " 'paid',\n",
              " 'conflict',\n",
              " 'al',\n",
              " 'gather',\n",
              " 'pubiic',\n",
              " 'sourc',\n",
              " 'press',\n",
              " 'releas',\n",
              " 'accuraci',\n",
              " 'compiet',\n",
              " 'constitut',\n",
              " 'accept',\n",
              " 'save',\n",
              " 'ciall',\n",
              " 'cannot',\n",
              " 'imagin',\n",
              " 'real',\n",
              " 'man',\n",
              " 'bed',\n",
              " 'errrectlon',\n",
              " 'exactiy',\n",
              " 'ciali',\n",
              " 'lot',\n",
              " 'viagra',\n",
              " 'iast',\n",
              " 'hour',\n",
              " 'start',\n",
              " 'mix',\n",
              " 'aicohol',\n",
              " 'ship',\n",
              " 'right',\n",
              " 'sent',\n",
              " 'sun',\n",
              " 'jan',\n",
              " 'reach',\n",
              " 'follow',\n",
              " 'recipi',\n",
              " 'mon',\n",
              " 'feb',\n",
              " 'name',\n",
              " 'recogn',\n",
              " 'mt',\n",
              " 'id',\n",
              " 'c',\n",
              " 'us',\n",
              " 'p',\n",
              " 'telecom',\n",
              " 'q',\n",
              " 'co',\n",
              " 'unknown',\n",
              " 'last',\n",
              " 'la',\n",
              " 'vega',\n",
              " 'rise',\n",
              " 'boom',\n",
              " 'fast',\n",
              " 'citi',\n",
              " 'tower',\n",
              " 'built',\n",
              " 'around',\n",
              " 'strip',\n",
              " 'next',\n",
              " 'year',\n",
              " 'begun',\n",
              " 'first',\n",
              " 'earli',\n",
              " 'phase',\n",
              " 'construct',\n",
              " 'avail',\n",
              " 'icon',\n",
              " 'sky',\n",
              " 'among',\n",
              " 'join',\n",
              " 'http',\n",
              " 'www',\n",
              " 'learn',\n",
              " 'wish',\n",
              " 'exclud',\n",
              " 'repli',\n",
              " 'remov',\n",
              " 'line',\n",
              " 'exactli',\n",
              " 'ciaii',\n",
              " 'iot',\n",
              " 'advantaq',\n",
              " 'riqht',\n",
              " 'teeth',\n",
              " 'bright',\n",
              " 'white',\n",
              " 'consid',\n",
              " 'profession',\n",
              " 'usual',\n",
              " 'local',\n",
              " 'site',\n",
              " 'exact',\n",
              " 'fraction',\n",
              " 'comparison',\n",
              " 'back',\n",
              " 'receiv',\n",
              " 'internet',\n",
              " 'member',\n",
              " 'would',\n",
              " 'longer',\n",
              " 'promot',\n",
              " 'via',\n",
              " 'unsubscrib',\n",
              " 'wall',\n",
              " 'street',\n",
              " 'reap',\n",
              " 'reward',\n",
              " 'small',\n",
              " 'finder',\n",
              " 'move',\n",
              " 'western',\n",
              " 'sierra',\n",
              " 'wsrm',\n",
              " 'find',\n",
              " 'top',\n",
              " 'pick',\n",
              " 'week',\n",
              " 'mode',\n",
              " 'avoid',\n",
              " 'highest',\n",
              " 'associ',\n",
              " 'explor',\n",
              " 'expior',\n",
              " 'found',\n",
              " 'produc',\n",
              " 'handsom',\n",
              " 'profit',\n",
              " 'impact',\n",
              " 'china',\n",
              " 'driven',\n",
              " 'suppiy',\n",
              " 'respons',\n",
              " 'lead',\n",
              " 'recent',\n",
              " 'phoenix',\n",
              " 'corp',\n",
              " 'pink',\n",
              " 'sheet',\n",
              " 'board',\n",
              " 'split',\n",
              " 'issu',\n",
              " 'common',\n",
              " 'tock',\n",
              " 'record',\n",
              " 'reason',\n",
              " 'ow',\n",
              " 'particip',\n",
              " 'long',\n",
              " 'oretech',\n",
              " 'agre',\n",
              " 'enter',\n",
              " 'agreement',\n",
              " 'silver',\n",
              " 'comment',\n",
              " 'propos',\n",
              " 'presid',\n",
              " 'michael',\n",
              " 'said',\n",
              " 'util',\n",
              " 'expertis',\n",
              " 'maximum',\n",
              " 'activ',\n",
              " 'dilig',\n",
              " 'properti',\n",
              " 'sign',\n",
              " 'letter',\n",
              " 'intent',\n",
              " 'asdi',\n",
              " 'deveiop',\n",
              " 'battl',\n",
              " 'mountain',\n",
              " 'stress',\n",
              " 'enough',\n",
              " 'signific',\n",
              " 'oniy',\n",
              " 'date',\n",
              " 'rich',\n",
              " 'speak',\n",
              " 'volum',\n",
              " 'earn',\n",
              " 'fortun',\n",
              " 'noth',\n",
              " 'extraordinari',\n",
              " 'highli',\n",
              " 'recommend',\n",
              " 'outperform',\n",
              " 'dow',\n",
              " 'jone',\n",
              " 'averag',\n",
              " 'doubl',\n",
              " 'second',\n",
              " 'row',\n",
              " 'equiti',\n",
              " 'nearli',\n",
              " 'fold',\n",
              " 'waterhous',\n",
              " 'cooper',\n",
              " 'anoth',\n",
              " 'global',\n",
              " 'go',\n",
              " 'say',\n",
              " 'sustain',\n",
              " 'caught',\n",
              " 'attent',\n",
              " 'dash',\n",
              " 'add',\n",
              " 'unpreced',\n",
              " 'free',\n",
              " 'flow',\n",
              " 'dragon',\n",
              " 'pwcglobal',\n",
              " 'disclaim',\n",
              " 'histor',\n",
              " 'actual',\n",
              " 'imit',\n",
              " 'fulli',\n",
              " 'spell',\n",
              " 'mone',\n",
              " 'select',\n",
              " 'favor',\n",
              " 'disclos',\n",
              " 'twelv',\n",
              " 'affiiiat',\n",
              " 'circul',\n",
              " 'stoc',\n",
              " 'k',\n",
              " 'reieas',\n",
              " 'sto',\n",
              " 'ck',\n",
              " 'fpa',\n",
              " 'ebay',\n",
              " 'user',\n",
              " 'suspens',\n",
              " 'dear',\n",
              " 'suspend',\n",
              " 'restor',\n",
              " 'taken',\n",
              " 'compromis',\n",
              " 'investig',\n",
              " 'procedur',\n",
              " 'led',\n",
              " 'conclus',\n",
              " 'took',\n",
              " 'maintain',\n",
              " 'instruct',\n",
              " 'reinstat',\n",
              " 'button',\n",
              " 'thank',\n",
              " 'patienc',\n",
              " 'regard',\n",
              " 'safeharbor',\n",
              " 'search',\n",
              " 'engin',\n",
              " 'immedi',\n",
              " 'place',\n",
              " 'qualifi',\n",
              " 'perman',\n",
              " 'ex',\n",
              " 'yahoo',\n",
              " 'msn',\n",
              " 'etc',\n",
              " 'traffic',\n",
              " 'contact',\n",
              " 'promptli',\n",
              " 'net',\n",
              " 'pe',\n",
              " 'url',\n",
              " 'pay',\n",
              " 'per',\n",
              " 'exampl',\n",
              " 'valid',\n",
              " 'usa',\n",
              " 'canada',\n",
              " 'sincer',\n",
              " 'placement',\n",
              " 'specialist',\n",
              " 'respond',\n",
              " 'address',\n",
              " 'type',\n",
              " 'speedi',\n",
              " 'legal',\n",
              " 'brand',\n",
              " 'low',\n",
              " 'everyth',\n",
              " 'come',\n",
              " 'wait',\n",
              " 'courag',\n",
              " 'languag',\n",
              " 'qerman',\n",
              " 'french',\n",
              " 'spanish',\n",
              " 'uk',\n",
              " 'iist',\n",
              " 'availabi',\n",
              " 'download',\n",
              " 'deiiveri',\n",
              " 'norton',\n",
              " 'lnternet',\n",
              " 'pro',\n",
              " 'window',\n",
              " 'xp',\n",
              " 'sp',\n",
              " 'fuil',\n",
              " 'corei',\n",
              " 'draw',\n",
              " 'graphic',\n",
              " 'suit',\n",
              " 'dreamweav',\n",
              " 'mx',\n",
              " 'homesit',\n",
              " 'macromedia',\n",
              " 'studio',\n",
              " 'brows',\n",
              " 'nativ',\n",
              " 'reqard',\n",
              " 'alert',\n",
              " 'confirm',\n",
              " 'nation',\n",
              " 'union',\n",
              " 'st',\n",
              " 'centuri',\n",
              " 'web',\n",
              " 'idea',\n",
              " 'solut',\n",
              " 'sure',\n",
              " 'accordingli',\n",
              " 'detail',\n",
              " 'send',\n",
              " 'scope',\n",
              " 'quot',\n",
              " 'variabl',\n",
              " 'glad',\n",
              " 'deliv',\n",
              " 'cut',\n",
              " 'edg',\n",
              " 'challeng',\n",
              " 'qualiti',\n",
              " 'equival',\n",
              " 'domest',\n",
              " 'establish',\n",
              " 'staf',\n",
              " 'success',\n",
              " 'hundr',\n",
              " 'ten',\n",
              " 'wide',\n",
              " 'scale',\n",
              " 'analysi',\n",
              " 'consult',\n",
              " 'code',\n",
              " 'test',\n",
              " 'cycl',\n",
              " 'offshor',\n",
              " 'intranet',\n",
              " 'crm',\n",
              " 'mobil',\n",
              " 'wireless',\n",
              " 'desktop',\n",
              " 'data',\n",
              " 'warehous',\n",
              " 'partnership',\n",
              " 'modern',\n",
              " 'exclus',\n",
              " 'human',\n",
              " 'info',\n",
              " 'happi',\n",
              " 'call',\n",
              " 'experienc',\n",
              " 'team',\n",
              " 'fair',\n",
              " 'platform',\n",
              " 'employ',\n",
              " 'bring',\n",
              " 'effici',\n",
              " 'java',\n",
              " 'ee',\n",
              " 'ibm',\n",
              " 'lotu',\n",
              " 'domino',\n",
              " 'unix',\n",
              " 'databas',\n",
              " 'ms',\n",
              " 'sql',\n",
              " 'oracl',\n",
              " 'db',\n",
              " 'standard',\n",
              " 'asp',\n",
              " 'odbc',\n",
              " 'mistak',\n",
              " 'transmiss',\n",
              " 'stop',\n",
              " 'ref',\n",
              " 'senat',\n",
              " 'bill',\n",
              " 'titl',\n",
              " 'med',\n",
              " 'girl',\n",
              " 'unsatisfi',\n",
              " 'potenc',\n",
              " 'men',\n",
              " 'choos',\n",
              " 'varieti',\n",
              " 'llcens',\n",
              " 'bs',\n",
              " 'pri',\n",
              " 'es',\n",
              " 'shippinq',\n",
              " 'store',\n",
              " 'verifi',\n",
              " 'bbb',\n",
              " 'visa',\n",
              " 'electron',\n",
              " 'hi',\n",
              " 'jason',\n",
              " 'fi',\n",
              " 'could',\n",
              " 'help',\n",
              " 'part',\n",
              " 'initi',\n",
              " 'setup',\n",
              " 'friendli',\n",
              " 'master',\n",
              " 'panel',\n",
              " 'abil',\n",
              " 'easili',\n",
              " 'copi',\n",
              " 'text',\n",
              " 'pictur',\n",
              " 'brainstorm',\n",
              " ...]"
            ]
          },
          "execution_count": 32,
          "metadata": {},
          "output_type": "execute_result"
        }
      ],
      "source": [
        "filtered_vocab"
      ]
    },
    {
      "cell_type": "markdown",
      "id": "648925ae",
      "metadata": {
        "id": "648925ae"
      },
      "source": [
        "### Divide Dataset"
      ]
    },
    {
      "cell_type": "code",
      "execution_count": 33,
      "id": "bbdc1c0f",
      "metadata": {
        "colab": {
          "base_uri": "https://localhost:8080/",
          "height": 423
        },
        "id": "bbdc1c0f",
        "outputId": "11dbfeea-2c53-40fd-cc77-c4ddea35fc7b"
      },
      "outputs": [
        {
          "data": {
            "text/html": [
              "<div>\n",
              "<style scoped>\n",
              "    .dataframe tbody tr th:only-of-type {\n",
              "        vertical-align: middle;\n",
              "    }\n",
              "\n",
              "    .dataframe tbody tr th {\n",
              "        vertical-align: top;\n",
              "    }\n",
              "\n",
              "    .dataframe thead th {\n",
              "        text-align: right;\n",
              "    }\n",
              "</style>\n",
              "<table border=\"1\" class=\"dataframe\">\n",
              "  <thead>\n",
              "    <tr style=\"text-align: right;\">\n",
              "      <th></th>\n",
              "      <th>text</th>\n",
              "      <th>spam</th>\n",
              "    </tr>\n",
              "  </thead>\n",
              "  <tbody>\n",
              "    <tr>\n",
              "      <th>0</th>\n",
              "      <td>natur irresist corpor ident lt realli hard rec...</td>\n",
              "      <td>1</td>\n",
              "    </tr>\n",
              "    <tr>\n",
              "      <th>1</th>\n",
              "      <td>stock trade gunsling fanni merril muzo colza a...</td>\n",
              "      <td>1</td>\n",
              "    </tr>\n",
              "    <tr>\n",
              "      <th>2</th>\n",
              "      <td>unbeliev new home made easi im want show homeo...</td>\n",
              "      <td>1</td>\n",
              "    </tr>\n",
              "    <tr>\n",
              "      <th>3</th>\n",
              "      <td>color print special request addit inform click...</td>\n",
              "      <td>1</td>\n",
              "    </tr>\n",
              "    <tr>\n",
              "      <th>4</th>\n",
              "      <td>money get softwar cd softwar compat great grow...</td>\n",
              "      <td>1</td>\n",
              "    </tr>\n",
              "    <tr>\n",
              "      <th>...</th>\n",
              "      <td>...</td>\n",
              "      <td>...</td>\n",
              "    </tr>\n",
              "    <tr>\n",
              "      <th>5723</th>\n",
              "      <td>research develop charg gpg forward shirley cre...</td>\n",
              "      <td>0</td>\n",
              "    </tr>\n",
              "    <tr>\n",
              "      <th>5724</th>\n",
              "      <td>receipt visit jim thank invit visit lsu shirle...</td>\n",
              "      <td>0</td>\n",
              "    </tr>\n",
              "    <tr>\n",
              "      <th>5725</th>\n",
              "      <td>enron case studi updat wow day super thank muc...</td>\n",
              "      <td>0</td>\n",
              "    </tr>\n",
              "    <tr>\n",
              "      <th>5726</th>\n",
              "      <td>interest david pleas call shirley crenshaw ass...</td>\n",
              "      <td>0</td>\n",
              "    </tr>\n",
              "    <tr>\n",
              "      <th>5727</th>\n",
              "      <td>news aurora updat aurora version fastest model...</td>\n",
              "      <td>0</td>\n",
              "    </tr>\n",
              "  </tbody>\n",
              "</table>\n",
              "<p>5695 rows × 2 columns</p>\n",
              "</div>"
            ],
            "text/plain": [
              "                                                   text  spam\n",
              "0     natur irresist corpor ident lt realli hard rec...     1\n",
              "1     stock trade gunsling fanni merril muzo colza a...     1\n",
              "2     unbeliev new home made easi im want show homeo...     1\n",
              "3     color print special request addit inform click...     1\n",
              "4     money get softwar cd softwar compat great grow...     1\n",
              "...                                                 ...   ...\n",
              "5723  research develop charg gpg forward shirley cre...     0\n",
              "5724  receipt visit jim thank invit visit lsu shirle...     0\n",
              "5725  enron case studi updat wow day super thank muc...     0\n",
              "5726  interest david pleas call shirley crenshaw ass...     0\n",
              "5727  news aurora updat aurora version fastest model...     0\n",
              "\n",
              "[5695 rows x 2 columns]"
            ]
          },
          "execution_count": 33,
          "metadata": {},
          "output_type": "execute_result"
        }
      ],
      "source": [
        "data"
      ]
    },
    {
      "cell_type": "code",
      "execution_count": 34,
      "id": "dfde200c",
      "metadata": {
        "id": "dfde200c"
      },
      "outputs": [],
      "source": [
        "X = data['text']\n",
        "Y = data['spam']"
      ]
    },
    {
      "cell_type": "code",
      "execution_count": 35,
      "id": "8cd1f858",
      "metadata": {
        "colab": {
          "base_uri": "https://localhost:8080/",
          "height": 633
        },
        "id": "8cd1f858",
        "outputId": "a7c138e2-140b-46fc-dbe2-4d7c6a956f52"
      },
      "outputs": [
        {
          "name": "stdout",
          "output_type": "stream",
          "text": [
            "size of train data :  (4556,)\n",
            "size of test data :  (1139,)\n"
          ]
        },
        {
          "data": {
            "image/png": "[encoded data removed]",
            "text/plain": [
              "<Figure size 700x700 with 1 Axes>"
            ]
          },
          "metadata": {},
          "output_type": "display_data"
        }
      ],
      "source": [
        "from sklearn.model_selection import train_test_split\n",
        "X_train, X_test, Y_train, Y_test = train_test_split(X, Y, test_size=0.2)\n",
        "\n",
        "print(\"size of train data : \" , X_train.shape)\n",
        "print(\"size of test data : \" , X_test.shape)\n",
        "\n",
        "# Pie chart for train-test split\n",
        "sizes = [X_train.shape[0], X_test.shape[0]]\n",
        "labels = ['Train Data', 'Test Data']\n",
        "colors = ['skyblue', 'orange']\n",
        "explode = (0.1, 0)\n",
        "\n",
        "plt.figure(figsize=(7, 7))\n",
        "plt.pie(\n",
        "    sizes, labels=labels, colors=colors, explode=explode, autopct='%1.1f%%', startangle=140\n",
        ")\n",
        "plt.title(\"Train-Test Data Split\")\n",
        "plt.show()"
      ]
    },
    {
      "cell_type": "markdown",
      "id": "016c3e78",
      "metadata": {
        "id": "016c3e78"
      },
      "source": [
        "### Vectorization"
      ]
    },
    {
      "cell_type": "code",
      "execution_count": 36,
      "id": "1be4c7b4",
      "metadata": {
        "id": "1be4c7b4"
      },
      "outputs": [],
      "source": [
        "def vectorizer(ds, vocabulary):\n",
        "    vectorized_lst = []\n",
        "\n",
        "    for sentence in ds:\n",
        "        sentence_lst = np.zeros(len(vocabulary))\n",
        "\n",
        "        for i in range(len(vocabulary)):\n",
        "            if vocabulary[i] in sentence.split():\n",
        "                sentence_lst[i] = 1\n",
        "\n",
        "        vectorized_lst.append(sentence_lst)\n",
        "\n",
        "    vectorized_lst_new = np.asarray(vectorized_lst, dtype=np.float32)\n",
        "\n",
        "    return vectorized_lst_new\n"
      ]
    },
    {
      "cell_type": "code",
      "execution_count": 37,
      "id": "6ed00c3e",
      "metadata": {
        "id": "6ed00c3e"
      },
      "outputs": [],
      "source": [
        "vectorized_x_train = vectorizer(X_train, filtered_vocab)"
      ]
    },
    {
      "cell_type": "code",
      "execution_count": 38,
      "id": "a13f19e0",
      "metadata": {
        "id": "a13f19e0"
      },
      "outputs": [],
      "source": [
        "vectorized_x_test = vectorizer(X_test, filtered_vocab)"
      ]
    },
    {
      "cell_type": "markdown",
      "id": "7f4d49b6",
      "metadata": {
        "id": "7f4d49b6"
      },
      "source": [
        "### Balanced Imbalanced Dataset"
      ]
    },
    {
      "cell_type": "code",
      "execution_count": 39,
      "id": "8ebf9a38",
      "metadata": {
        "colab": {
          "base_uri": "https://localhost:8080/",
          "height": 475
        },
        "id": "8ebf9a38",
        "outputId": "8539bd30-5108-4e14-98f1-9d9dc6a54aa0"
      },
      "outputs": [
        {
          "name": "stdout",
          "output_type": "stream",
          "text": [
            "spam\n",
            "0    3488\n",
            "1    1068\n",
            "Name: count, dtype: int64\n"
          ]
        },
        {
          "data": {
            "image/png": "[encoded data removed]",
            "text/plain": [
              "<Figure size 640x480 with 1 Axes>"
            ]
          },
          "metadata": {},
          "output_type": "display_data"
        }
      ],
      "source": [
        "print(Y_train.value_counts())\n",
        "\n",
        "plt.pie(np.array([Y_train.value_counts()[0], Y_train.value_counts()[1]]), labels=['Not a Spam', 'Spam'])\n",
        "plt.show()"
      ]
    },
    {
      "cell_type": "code",
      "execution_count": 40,
      "id": "20feeb1e",
      "metadata": {
        "colab": {
          "base_uri": "https://localhost:8080/"
        },
        "id": "20feeb1e",
        "outputId": "780c835e-5504-4c9c-abe5-26a8f0a3b37a"
      },
      "outputs": [
        {
          "name": "stdout",
          "output_type": "stream",
          "text": [
            "(6976, 8331) (6976,)\n"
          ]
        }
      ],
      "source": [
        "from imblearn.over_sampling import SMOTE\n",
        "smote = SMOTE()\n",
        "vectorized_x_train_smote, Y_train_smote = smote.fit_resample(vectorized_x_train, Y_train)\n",
        "print(vectorized_x_train_smote.shape, Y_train_smote.shape)"
      ]
    },
    {
      "cell_type": "code",
      "execution_count": 41,
      "id": "9da7c2be",
      "metadata": {
        "colab": {
          "base_uri": "https://localhost:8080/",
          "height": 475
        },
        "id": "9da7c2be",
        "outputId": "f4d7df59-478b-46b0-f346-34e6c21a42f6"
      },
      "outputs": [
        {
          "name": "stdout",
          "output_type": "stream",
          "text": [
            "spam\n",
            "0    3488\n",
            "1    3488\n",
            "Name: count, dtype: int64\n"
          ]
        },
        {
          "data": {
            "image/png": "[encoded data removed]",
            "text/plain": [
              "<Figure size 640x480 with 1 Axes>"
            ]
          },
          "metadata": {},
          "output_type": "display_data"
        }
      ],
      "source": [
        "print(Y_train_smote.value_counts())\n",
        "\n",
        "plt.pie(np.array([Y_train_smote.value_counts()[0], Y_train_smote.value_counts()[1]]), labels=['Not a Spam', 'Spam'])\n",
        "plt.show()"
      ]
    },
    {
      "cell_type": "code",
      "execution_count": 42,
      "id": "ec760c34",
      "metadata": {
        "colab": {
          "base_uri": "https://localhost:8080/"
        },
        "id": "ec760c34",
        "outputId": "435ca3de-6f16-4de1-d90d-41e805ceefc4"
      },
      "outputs": [
        {
          "data": {
            "text/plain": [
              "array([[0., 0., 0., ..., 0., 0., 0.],\n",
              "       [0., 0., 0., ..., 0., 0., 0.],\n",
              "       [0., 0., 0., ..., 0., 0., 0.],\n",
              "       ...,\n",
              "       [0., 0., 0., ..., 0., 0., 0.],\n",
              "       [0., 0., 0., ..., 0., 0., 0.],\n",
              "       [0., 0., 0., ..., 0., 0., 0.]], shape=(6976, 8331), dtype=float32)"
            ]
          },
          "execution_count": 42,
          "metadata": {},
          "output_type": "execute_result"
        }
      ],
      "source": [
        "vectorized_x_train_smote"
      ]
    },
    {
      "cell_type": "code",
      "execution_count": 43,
      "id": "eaaed645",
      "metadata": {
        "colab": {
          "base_uri": "https://localhost:8080/",
          "height": 458
        },
        "id": "eaaed645",
        "outputId": "d40c9160-ea52-46c3-ad7c-600fdde9c27b"
      },
      "outputs": [
        {
          "data": {
            "text/plain": [
              "0       0\n",
              "1       0\n",
              "2       0\n",
              "3       0\n",
              "4       0\n",
              "       ..\n",
              "6971    1\n",
              "6972    1\n",
              "6973    1\n",
              "6974    1\n",
              "6975    1\n",
              "Name: spam, Length: 6976, dtype: int64"
            ]
          },
          "execution_count": 43,
          "metadata": {},
          "output_type": "execute_result"
        }
      ],
      "source": [
        "Y_train_smote"
      ]
    },
    {
      "cell_type": "code",
      "execution_count": 44,
      "id": "8b1680ff",
      "metadata": {
        "colab": {
          "base_uri": "https://localhost:8080/"
        },
        "id": "8b1680ff",
        "outputId": "5b7108c4-e925-4968-b00a-5e8abc11fb44"
      },
      "outputs": [
        {
          "data": {
            "text/plain": [
              "array([[1., 0., 0., ..., 0., 0., 0.],\n",
              "       [0., 0., 0., ..., 0., 0., 0.],\n",
              "       [0., 1., 0., ..., 0., 0., 0.],\n",
              "       ...,\n",
              "       [0., 0., 0., ..., 0., 0., 0.],\n",
              "       [0., 0., 0., ..., 0., 0., 0.],\n",
              "       [0., 0., 0., ..., 0., 0., 0.]], shape=(1139, 8331), dtype=float32)"
            ]
          },
          "execution_count": 44,
          "metadata": {},
          "output_type": "execute_result"
        }
      ],
      "source": [
        "vectorized_x_test"
      ]
    },
    {
      "cell_type": "code",
      "execution_count": 45,
      "id": "6b2be0c9",
      "metadata": {
        "colab": {
          "base_uri": "https://localhost:8080/",
          "height": 458
        },
        "id": "6b2be0c9",
        "outputId": "c8ad680f-3cd6-4f4e-f316-ac3cbc5025e9"
      },
      "outputs": [
        {
          "data": {
            "text/plain": [
              "3263    0\n",
              "3804    0\n",
              "5518    0\n",
              "5011    0\n",
              "3699    0\n",
              "       ..\n",
              "2736    0\n",
              "79      1\n",
              "2786    0\n",
              "1163    1\n",
              "77      1\n",
              "Name: spam, Length: 1139, dtype: int64"
            ]
          },
          "execution_count": 45,
          "metadata": {},
          "output_type": "execute_result"
        }
      ],
      "source": [
        "Y_test"
      ]
    },
    {
      "cell_type": "markdown",
      "id": "874769c8",
      "metadata": {
        "id": "874769c8"
      },
      "source": [
        "### Perform Feature Selection"
      ]
    },
    {
      "cell_type": "code",
      "execution_count": 46,
      "id": "accdcdbb",
      "metadata": {
        "colab": {
          "base_uri": "https://localhost:8080/"
        },
        "id": "accdcdbb",
        "outputId": "9b7b6dad-04ec-4933-8e2d-40673691bde3"
      },
      "outputs": [
        {
          "name": "stdout",
          "output_type": "stream",
          "text": [
            "Shape After Chi-Square (Training): (6976, 1000)\n",
            "Shape After Chi-Square (Testing): (1139, 1000)\n"
          ]
        }
      ],
      "source": [
        "from sklearn.feature_selection import SelectKBest, chi2\n",
        "\n",
        "# # Apply Chi-Square feature selection\n",
        "# k = 1000  # Number of top features to select\n",
        "# chi2_selector = SelectKBest(chi2, k=k)\n",
        "# X_train_selected = chi2_selector.fit_transform(vectorized_x_train_smote, Y_train_smote)\n",
        "# X_test_selected = chi2_selector.transform(vectorized_x_test)\n",
        "\n",
        "# print(\"Shape After Chi-Square Selection (Training):\", X_train_selected.shape)\n",
        "# print(\"Shape After Chi-Square Selection (Testing):\", X_test_selected.shape)\n",
        "\n",
        "k = 1000  # Number of top features to select\n",
        "chi2_selector = SelectKBest(chi2, k=k)\n",
        "X_train_chi2_selected = chi2_selector.fit_transform(vectorized_x_train_smote, Y_train_smote)\n",
        "X_test_chi2_selected = chi2_selector.transform(vectorized_x_test)\n",
        "\n",
        "print(\"Shape After Chi-Square (Training):\", X_train_chi2_selected.shape)\n",
        "print(\"Shape After Chi-Square (Testing):\", X_test_chi2_selected.shape)\n",
        "\n",
        "\n",
        "\n"
      ]
    },
    {
      "cell_type": "code",
      "execution_count": 47,
      "id": "9e9dea74",
      "metadata": {
        "id": "9e9dea74"
      },
      "outputs": [],
      "source": [
        "from sklearn.feature_selection import SelectKBest, chi2\n",
        "from sklearn.linear_model import LogisticRegression\n",
        "from sklearn.feature_selection import SelectFromModel\n",
        "from imblearn.over_sampling import RandomOverSampler"
      ]
    },
    {
      "cell_type": "code",
      "execution_count": 48,
      "id": "17565b73",
      "metadata": {
        "colab": {
          "base_uri": "https://localhost:8080/"
        },
        "id": "17565b73",
        "outputId": "d18f341a-04a9-423b-e58c-9b667e6d5df5"
      },
      "outputs": [
        {
          "name": "stdout",
          "output_type": "stream",
          "text": [
            "Shape After L1 Regularization (Training): (6976, 267)\n",
            "Shape After L1 Regularization (Testing): (1139, 267)\n"
          ]
        }
      ],
      "source": [
        "# Step 2: Apply L1 Regularization\n",
        "# Ensure class imbalance is handled (oversampling in this case)\n",
        "ros = RandomOverSampler(random_state=42)\n",
        "X_train_balanced, y_train_balanced = ros.fit_resample(X_train_chi2_selected, Y_train_smote)\n",
        "\n",
        "# Train Logistic Regression with L1 Regularization\n",
        "model_l1 = LogisticRegression(penalty='l1', solver='liblinear', C=1.0)\n",
        "model_l1.fit(X_train_balanced, y_train_balanced)\n",
        "\n",
        "# Use SelectFromModel to keep important features\n",
        "sfm = SelectFromModel(model_l1, prefit=True)\n",
        "X_train_l1_selected = sfm.transform(X_train_balanced)\n",
        "X_test_l1_selected = sfm.transform(X_test_chi2_selected)\n",
        "\n",
        "print(\"Shape After L1 Regularization (Training):\", X_train_l1_selected.shape)\n",
        "print(\"Shape After L1 Regularization (Testing):\", X_test_l1_selected.shape)"
      ]
    },
    {
      "cell_type": "markdown",
      "id": "7a177dad",
      "metadata": {
        "id": "7a177dad"
      },
      "source": [
        "### Model training"
      ]
    },
    {
      "cell_type": "code",
      "execution_count": 49,
      "id": "f6b1df0d",
      "metadata": {
        "id": "f6b1df0d"
      },
      "outputs": [],
      "source": [
        "from sklearn.linear_model import LogisticRegression\n",
        "from sklearn.naive_bayes import MultinomialNB\n",
        "from sklearn.tree import DecisionTreeClassifier\n",
        "from sklearn.ensemble import RandomForestClassifier\n",
        "from sklearn.svm import SVC"
      ]
    },
    {
      "cell_type": "code",
      "execution_count": 50,
      "id": "5af9d241",
      "metadata": {
        "id": "5af9d241"
      },
      "outputs": [],
      "source": [
        "from sklearn.metrics import accuracy_score, f1_score, precision_score, recall_score\n",
        "\n",
        "def training_scores(y_act, y_pred):\n",
        "    acc = round(accuracy_score(y_act, y_pred), 3)\n",
        "    pr = round(precision_score(y_act, y_pred), 3)\n",
        "    rec = round(recall_score(y_act, y_pred), 3)\n",
        "    f1 = round(f1_score(y_act, y_pred), 3)\n",
        "    print(f'Training Scores:\\n\\tAccuracy = {acc}\\n\\tPrecision = {pr}\\n\\tRecall = {rec}\\n\\tF1-Score = {f1}')\n",
        "\n",
        "def validation_scores(y_act, y_pred):\n",
        "    acc = round(accuracy_score(y_act, y_pred), 3)\n",
        "    pr = round(precision_score(y_act, y_pred), 3)\n",
        "    rec = round(recall_score(y_act, y_pred), 3)\n",
        "    f1 = round(f1_score(y_act, y_pred), 3)\n",
        "    print(f'Testing Scores:\\n\\tAccuracy = {acc}\\n\\tPrecision = {pr}\\n\\tRecall = {rec}\\n\\tF1-Score = {f1}')"
      ]
    },
    {
      "cell_type": "markdown",
      "id": "s0wfQ94Lhsw2",
      "metadata": {
        "id": "s0wfQ94Lhsw2"
      },
      "source": [
        "### Evaluate results"
      ]
    },
    {
      "cell_type": "code",
      "execution_count": 51,
      "id": "be3b7d7d",
      "metadata": {
        "colab": {
          "base_uri": "https://localhost:8080/"
        },
        "id": "be3b7d7d",
        "outputId": "9c464e1f-37c3-4802-bdd0-9a5909821c04"
      },
      "outputs": [
        {
          "name": "stdout",
          "output_type": "stream",
          "text": [
            "Training Scores:\n",
            "\tAccuracy = 0.995\n",
            "\tPrecision = 0.992\n",
            "\tRecall = 0.999\n",
            "\tF1-Score = 0.995\n",
            "Testing Scores:\n",
            "\tAccuracy = 0.974\n",
            "\tPrecision = 0.93\n",
            "\tRecall = 0.973\n",
            "\tF1-Score = 0.951\n"
          ]
        }
      ],
      "source": [
        "lr = LogisticRegression()\n",
        "lr.fit(X_train_l1_selected, Y_train_smote)\n",
        "\n",
        "y_train_pred = lr.predict(X_train_l1_selected)\n",
        "\n",
        "y_test_pred = lr.predict(X_test_l1_selected)\n",
        "\n",
        "training_scores(Y_train_smote, y_train_pred)\n",
        "\n",
        "validation_scores(Y_test, y_test_pred)"
      ]
    },
    {
      "cell_type": "code",
      "execution_count": 53,
      "id": "7a843d72",
      "metadata": {
        "colab": {
          "base_uri": "https://localhost:8080/",
          "height": 297
        },
        "id": "7a843d72",
        "outputId": "2bf43c88-5b8c-4b07-a3f8-a464c910030c"
      },
      "outputs": [
        {
          "name": "stderr",
          "output_type": "stream",
          "text": [
            "e:\\Applied AI\\CW\\Email-spam-classification\\.env\\Lib\\site-packages\\sklearn\\model_selection\\_validation.py:528: FitFailedWarning: \n",
            "1 fits failed out of a total of 25.\n",
            "The score on these train-test partitions for these parameters will be set to nan.\n",
            "If these failures are not expected, you can try to debug them by setting error_score='raise'.\n",
            "\n",
            "Below are more details about the failures:\n",
            "--------------------------------------------------------------------------------\n",
            "1 fits failed with the following error:\n",
            "Traceback (most recent call last):\n",
            "  File \"e:\\Applied AI\\CW\\Email-spam-classification\\.env\\Lib\\site-packages\\sklearn\\model_selection\\_validation.py\", line 866, in _fit_and_score\n",
            "    estimator.fit(X_train, y_train, **fit_params)\n",
            "  File \"e:\\Applied AI\\CW\\Email-spam-classification\\.env\\Lib\\site-packages\\sklearn\\base.py\", line 1389, in wrapper\n",
            "    return fit_method(estimator, *args, **kwargs)\n",
            "           ^^^^^^^^^^^^^^^^^^^^^^^^^^^^^^^^^^^^^^\n",
            "  File \"e:\\Applied AI\\CW\\Email-spam-classification\\.env\\Lib\\site-packages\\sklearn\\linear_model\\_logistic.py\", line 1301, in fit\n",
            "    raise ValueError(\n",
            "ValueError: This solver needs samples of at least 2 classes in the data, but the data contains only one class: np.int64(0)\n",
            "\n",
            "  warnings.warn(some_fits_failed_message, FitFailedWarning)\n"
          ]
        },
        {
          "data": {
            "image/png": "[encoded data removed]",
            "text/plain": [
              "<Figure size 640x480 with 1 Axes>"
            ]
          },
          "metadata": {},
          "output_type": "display_data"
        }
      ],
      "source": [
        "import matplotlib.pyplot as plt\n",
        "from sklearn.model_selection import learning_curve\n",
        "import numpy as np\n",
        "\n",
        "def plot_learning_curve(model, X_train, y_train, X_test, y_test):\n",
        "    train_sizes, train_scores, test_scores = learning_curve(\n",
        "        model, X_train, y_train, cv=5, n_jobs=-1, train_sizes=np.linspace(0.1, 1.0, 5)\n",
        "    )\n",
        "\n",
        "    train_scores_mean = np.mean(train_scores, axis=1)\n",
        "    train_scores_std = np.std(train_scores, axis=1)\n",
        "    test_scores_mean = np.mean(test_scores, axis=1)\n",
        "    test_scores_std = np.std(test_scores, axis=1)\n",
        "\n",
        "    plt.figure()\n",
        "    plt.title(\"Learning Curve\")\n",
        "    plt.xlabel(\"Training examples\")\n",
        "    plt.ylabel(\"Score\")\n",
        "    plt.grid()\n",
        "\n",
        "    plt.fill_between(train_sizes, train_scores_mean - train_scores_std,\n",
        "                     train_scores_mean + train_scores_std, alpha=0.1,\n",
        "                     color=\"r\")\n",
        "    plt.fill_between(train_sizes, test_scores_mean - test_scores_std,\n",
        "                     test_scores_mean + test_scores_std, alpha=0.1, color=\"g\")\n",
        "    plt.plot(train_sizes, train_scores_mean, 'o-', color=\"r\",\n",
        "             label=\"Training score\")\n",
        "    plt.plot(train_sizes, test_scores_mean, 'o-', color=\"g\",\n",
        "             label=\"Cross-validation score\")\n",
        "\n",
        "    plt.legend(loc=\"best\")\n",
        "    plt.show()\n",
        "\n",
        "# Example usage\n",
        "plot_learning_curve(lr, vectorized_x_train_smote, Y_train_smote, vectorized_x_test, Y_test)"
      ]
    },
    {
      "cell_type": "code",
      "execution_count": null,
      "id": "14843a86",
      "metadata": {},
      "outputs": [],
      "source": []
    },
    {
      "cell_type": "markdown",
      "id": "B-ONOESuibly",
      "metadata": {
        "id": "B-ONOESuibly"
      },
      "source": [
        "# Part D – Software Testing"
      ]
    },
    {
      "cell_type": "markdown",
      "id": "3O-U_WN5ifsx",
      "metadata": {
        "id": "3O-U_WN5ifsx"
      },
      "source": [
        "# Part E – Evaluate results."
      ]
    }
  ],
  "metadata": {
    "colab": {
      "provenance": [],
      "toc_visible": true
    },
    "kernelspec": {
      "display_name": ".env",
      "language": "python",
      "name": "python3"
    },
    "language_info": {
      "codemirror_mode": {
        "name": "ipython",
        "version": 3
      },
      "file_extension": ".py",
      "mimetype": "text/x-python",
      "name": "python",
      "nbconvert_exporter": "python",
      "pygments_lexer": "ipython3",
      "version": "3.12.8"
    }
  },
  "nbformat": 4,
  "nbformat_minor": 5
}
