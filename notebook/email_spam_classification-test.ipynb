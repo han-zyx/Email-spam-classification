{
  "cells": [
    {
      "cell_type": "markdown",
      "id": "pt7BVNs0h5-M",
      "metadata": {
        "id": "pt7BVNs0h5-M"
      },
      "source": [
        "# Part A – Application area review."
      ]
    },
    {
      "cell_type": "markdown",
      "id": "JA8hdGueZ_Gs",
      "metadata": {
        "id": "JA8hdGueZ_Gs"
      },
      "source": [
        "**Binary Classification of Emails (Spam vs. Ham)**\n",
        "\n",
        "Spam emails, also known as junk emails, are a major problem in online communication, as they fill up inboxes and put users at risk from phishing attacks, identity theft, and malware. These unwanted emails, though, will never go away; hence, stronger spam detection systems have been developed. One of the most common and effective methods used in spam filtering is binary classification. It classifies emails into two classes: spam, which is 1, and ham, which is not spam and hence 0.\n",
        "\n",
        "The Naive Bayes machine learning algorithm is indeed among the most implemented in spam detection systems. This is a good choice for tasks like spam filtering due to its simplicity, efficiency, and effectiveness. Naive Bayes are based on Bayes' theorem. It assumes that, given the knowledge of the class label, features are independent, and in many cases, such an assumption does not hold true. However, in real scenarios, Naive Bayes does perform very well usually. The effectiveness of the naive Bayes improves when good feature selection methods or L1 regularization techniques are used.\n",
        "\n",
        "To check if the Naive Bayes model works well, researchers used a dataset that had labeled spam and ham emails. The preprocessing phase was very important to make sure the data was ready for training and testing the model. This preprocessing had several important steps, like cleaning the text, breaking it into words, removing common words, and changing words to their base forms. These steps were meant to change the raw email text into a clear format. It then applied techniques Vectorization to convert text data into numbers so that the algorithm could work with them.\n",
        "\n",
        "The dataset was then trained and tested using the Naive Bayes model after preprocessing. Its performance was measured with the use of accuracy, which details how many emails it did correctly classify out of all the emails. The Naive Bayes classifier, though simplistic, showed high accuracy and proved to be a reliable tool in classifying emails. This result highlights its skill in telling spam apart from ham with fairly low computational power.\n",
        "\n",
        "One of the big advantages of Naive Bayes is that it trains very quickly and it requires little computer power. Unlike some much more complicated algorithms, such as deep learning models, Naive Bayes represents a good balance between simplicity and acceptable performance, especially with medium-sized datasets. Deep learning techniques can find complex patterns and relationships in data but usually require much computer power and many labeled examples, which are not always available. Naive Bayes, on the other hand, offers an easy and simple alternative that still retains good accuracy.\n",
        "\n",
        "Feature selection can be one of the most important steps in boosting performance for Naive Bayes models. The classification performance of the model can be further improved by choosing relevant features carefully and reducing noise.\n",
        "\n",
        "Finally, the Naive Bayes algorithm remains a popular and efficient solution for spam detection. Its ability to produce reliable results using minimal computing power makes it an excellent choice in situations where efficiency is a high priority. Although new techniques, such as deep learning, may outperform Naive Bayes in finding complex patterns in data, Naive Bayes is still a very useful tool for the task of sorting emails into two categories due to its simplicity, speed, and strength. With the continuing improvement in feature engineering and preprocessing methods, Naive Bayes-based spam filters can be even more effective and help users around the globe have safer and more organized email communication.\n",
        "\n",
        "\n",
        "Refernces :\n",
        "\n",
        "Anandpara, R. (2021) ‘Spam E-Mail Filtering: A Review of Techniques’, International Journal for Research in Applied Science and Engineering Technology, 9(VI), pp. 5098–5101. Available at: https://doi.org/10.22214/ijraset.2021.35992.\n",
        "\n",
        "Ahmed, N. et al. (2022) ‘Machine Learning Techniques for Spam Detection in Email and IoT Platforms: Analysis and Research Challenges’, Security and Communication Networks, 2022(1), p. 1862888. Available at: https://doi.org/10.1155/2022/1862888.\n"
      ]
    },
    {
      "cell_type": "markdown",
      "id": "ND-yB37QiG6S",
      "metadata": {
        "id": "ND-yB37QiG6S"
      },
      "source": [
        "# Part B – Compare and evaluate AI techniques."
      ]
    },
    {
      "cell_type": "markdown",
      "id": "TotPPm0F30wl",
      "metadata": {
        "id": "TotPPm0F30wl"
      },
      "source": [
        "### **Logistic Regression (LR)**\n",
        "\n",
        "*Strengths:*\n",
        "\n",
        "*   Provides probabilistic outputs, making it easier to adjust spam thresholds.\n",
        "*   Can handle correlated features.\n",
        "*   Efficient for training and inference on moderately sized datasets.\n",
        "\n",
        "*Weaknesses:*\n",
        "*   Limited to linear decision boundaries, which may reduce accuracy if spam patterns are nonlinear.\n",
        "*   Requires feature engineering to improve performance.\n",
        "\n",
        "*Advantages:*\n",
        "\n",
        "*   Logistic Regression is computationally efficient and relatively easy to implement compared to more complex models like deep learning.\n",
        "*   It provides probabilities that can be easily adjusted to fine-tune the classifier’s performance (e.g., deciding the threshold for labeling an email as spam).\n",
        "\n",
        "*Disadvantages:*\n",
        "\n",
        "\n",
        "*   It may not perform well if the underlying relationship between features and labels is nonlinear, which is a common scenario in spam detection with advanced spamming techniques.\n",
        "\n",
        "*Input Data:*\n",
        "\n",
        "*   Preprocessed and tokenized email content, transformed into numerical features such as TF-IDF vectors or word embeddings.\n",
        "\n",
        "*Output Data:*\n",
        "*   Binary classification (spam or ham) with a probability score.\n"
      ]
    },
    {
      "cell_type": "markdown",
      "id": "FNKLXE0MDPnS",
      "metadata": {
        "id": "FNKLXE0MDPnS"
      },
      "source": [
        "### **Naive Bayes (NB)**\n",
        "\n",
        "*Strengths:*\n",
        "\n",
        "*   Simple and computationally efficient, making it suitable for moderately sized datasets.\n",
        "*   Well-suited for text classification tasks due to its probabilistic nature.\n",
        "*   Performs well even with sparse features, such as vectors.\n",
        "\n",
        "*Weaknesses:*\n",
        "*   Assumes feature independence, which may not hold true in real-world text data.\n",
        "*  Limited adaptability to complex spam patterns or evolving datasets.\n",
        "\n",
        "*Advantages:*\n",
        "\n",
        "*   Naive Bayes is one of the fastest algorithms for training on a dataset, making it suitable for real-time or low-latency applications.\n",
        "*   The model provides clear probabilistic outputs, allowing for easy interpretation and decision-making based on spam likelihood.\n",
        "\n",
        "*Disadvantages:*\n",
        "\n",
        "*   The algorithm’s performance can degrade if irrelevant or noisy features are included. Feature selection or engineering is crucial for optimal performance.\n",
        "\n",
        "*Input Data:*\n",
        "\n",
        "*   Vectorised email text, where each email is represented by a vector of word counts.\n",
        "\n",
        "*Output Data:*\n",
        "*   Binary classification (spam or ham) with a probabilistic score.\n"
      ]
    },
    {
      "cell_type": "markdown",
      "id": "Jy8A-E5QHqjO",
      "metadata": {
        "id": "Jy8A-E5QHqjO"
      },
      "source": [
        "### **Deep Neural Networks (DNNs)**\n",
        "\n",
        "*Strengths:*\n",
        "\n",
        "*   Can model complex and nonlinear relationships in data, capturing intricate spam patterns.\n",
        "*   Scalable to large datasets and can generalize well with sufficient training.\n",
        "*   Effective when combined with advanced text representations like word embeddings.\n",
        "\n",
        "*Weaknesses:*\n",
        "*   Computationally expensive, requiring more resources for training and inference.\n",
        "*  Susceptible to overfitting on small datasets without proper regularization.\n",
        "*   Requires significant preprocessing and hyperparameter tuning.\n",
        "\n",
        "*Advantages:*\n",
        "\n",
        "*   DNNs can achieve superior accuracy, especially when dealing with large, complex datasets.\n",
        "*   They can learn and adapt to evolving spam tactics by retraining on new data, making them well-suited for long-term deployment in dynamic environments.\n",
        "\n",
        "*Disadvantages:*\n",
        "\n",
        "*    Training a deep neural network can take a long time, especially if large amounts of data and complex models are involved.\n",
        "*   DNNs typically require large labeled datasets to achieve high performance, which may not always be available for spam filtering tasks.\n",
        "\n",
        "*Input Data:*\n",
        "\n",
        "*   Word embeddings or tokenized text.\n",
        "\n",
        "*Output Data:*\n",
        "*   Binary classification (spam or ham) with probabilities.\n"
      ]
    },
    {
      "cell_type": "markdown",
      "id": "60bd7eff",
      "metadata": {},
      "source": [
        "### **Justification for Selecting Naive Bayes**"
      ]
    },
    {
      "cell_type": "markdown",
      "id": "260a6e73",
      "metadata": {},
      "source": [
        "*Naive Bayes is an excellent choice for email classification tasks due to the following reasons:*\n",
        "\n",
        "*   Suitability for Text Data - Naive Bayes is well-suited for text data. Emails can be easily represented as word frequency counts and vectorization.\n",
        "*   Simplicity and Speed - Naive Bayes is computationally efficient, making it ideal for real-time applications such as spam filtering.\n",
        "*   Proven Effectiveness in Spam Filtering - Naive Bayes assumes feature independence , this simplification often provides reliable results in email classification.\n",
        "*   Ability to Handle Class Imbalance - Naive Bayes is helping it adjust predictions in such imbalanced scenarios."
      ]
    },
    {
      "cell_type": "markdown",
      "id": "brdsJwRJ-fpJ",
      "metadata": {
        "id": "brdsJwRJ-fpJ"
      },
      "source": [
        "# Part C : Implementation"
      ]
    },
    {
      "cell_type": "markdown",
      "id": "A0FX19yxIA07",
      "metadata": {
        "id": "A0FX19yxIA07"
      },
      "source": [
        "### High Level Diagram"
      ]
    },
    {
      "cell_type": "markdown",
      "id": "wulxTanjH2gk",
      "metadata": {
        "id": "wulxTanjH2gk"
      },
      "source": [
        "![image.png](data:image/png;base64,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)"
      ]
    },
    {
      "cell_type": "markdown",
      "id": "ARrfxZGn_2mH",
      "metadata": {
        "id": "ARrfxZGn_2mH"
      },
      "source": [
        "### Model Development"
      ]
    },
    {
      "cell_type": "code",
      "execution_count": 6,
      "id": "e49c72e8-37b5-46f4-873b-9e073cada82c",
      "metadata": {
        "id": "e49c72e8-37b5-46f4-873b-9e073cada82c"
      },
      "outputs": [],
      "source": [
        "#Import Liabraries\n",
        "import pandas as pd\n",
        "import numpy as np\n",
        "import matplotlib.pyplot as plt"
      ]
    },
    {
      "cell_type": "markdown",
      "id": "bZuqRKrt-2jZ",
      "metadata": {
        "id": "bZuqRKrt-2jZ"
      },
      "source": [
        "### Load Dataset"
      ]
    },
    {
      "cell_type": "code",
      "execution_count": 7,
      "id": "231e6c20-891c-46a2-8e65-59e541202276",
      "metadata": {
        "colab": {
          "base_uri": "https://localhost:8080/"
        },
        "id": "231e6c20-891c-46a2-8e65-59e541202276",
        "outputId": "172a21cd-3918-4503-bce9-01ec85c4996b"
      },
      "outputs": [
        {
          "name": "stdout",
          "output_type": "stream",
          "text": [
            "Dataset loaded successfully\n"
          ]
        }
      ],
      "source": [
        "#used Dataset : https://www.kaggle.com/datasets/noeyislearning/spam-emails/data\n",
        "\n",
        "data = pd.read_csv('../dataset/emails.csv')\n",
        "\n",
        "print(\"Dataset loaded successfully\")"
      ]
    },
    {
      "cell_type": "code",
      "execution_count": 8,
      "id": "c1de393e-528a-456a-b267-7fd394267e20",
      "metadata": {
        "colab": {
          "base_uri": "https://localhost:8080/",
          "height": 206
        },
        "id": "c1de393e-528a-456a-b267-7fd394267e20",
        "outputId": "9ad68236-3cc3-4d3e-a71e-4e93a0c3cc46"
      },
      "outputs": [
        {
          "data": {
            "text/html": [
              "<div>\n",
              "<style scoped>\n",
              "    .dataframe tbody tr th:only-of-type {\n",
              "        vertical-align: middle;\n",
              "    }\n",
              "\n",
              "    .dataframe tbody tr th {\n",
              "        vertical-align: top;\n",
              "    }\n",
              "\n",
              "    .dataframe thead th {\n",
              "        text-align: right;\n",
              "    }\n",
              "</style>\n",
              "<table border=\"1\" class=\"dataframe\">\n",
              "  <thead>\n",
              "    <tr style=\"text-align: right;\">\n",
              "      <th></th>\n",
              "      <th>text</th>\n",
              "      <th>spam</th>\n",
              "    </tr>\n",
              "  </thead>\n",
              "  <tbody>\n",
              "    <tr>\n",
              "      <th>0</th>\n",
              "      <td>Subject: naturally irresistible your corporate...</td>\n",
              "      <td>1</td>\n",
              "    </tr>\n",
              "    <tr>\n",
              "      <th>1</th>\n",
              "      <td>Subject: the stock trading gunslinger  fanny i...</td>\n",
              "      <td>1</td>\n",
              "    </tr>\n",
              "    <tr>\n",
              "      <th>2</th>\n",
              "      <td>Subject: unbelievable new homes made easy  im ...</td>\n",
              "      <td>1</td>\n",
              "    </tr>\n",
              "    <tr>\n",
              "      <th>3</th>\n",
              "      <td>Subject: 4 color printing special  request add...</td>\n",
              "      <td>1</td>\n",
              "    </tr>\n",
              "    <tr>\n",
              "      <th>4</th>\n",
              "      <td>Subject: do not have money , get software cds ...</td>\n",
              "      <td>1</td>\n",
              "    </tr>\n",
              "  </tbody>\n",
              "</table>\n",
              "</div>"
            ],
            "text/plain": [
              "                                                text  spam\n",
              "0  Subject: naturally irresistible your corporate...     1\n",
              "1  Subject: the stock trading gunslinger  fanny i...     1\n",
              "2  Subject: unbelievable new homes made easy  im ...     1\n",
              "3  Subject: 4 color printing special  request add...     1\n",
              "4  Subject: do not have money , get software cds ...     1"
            ]
          },
          "execution_count": 8,
          "metadata": {},
          "output_type": "execute_result"
        }
      ],
      "source": [
        "data.head()"
      ]
    },
    {
      "cell_type": "markdown",
      "id": "SUS6nVnh_Nxe",
      "metadata": {
        "id": "SUS6nVnh_Nxe"
      },
      "source": [
        "### Data Preprocessing"
      ]
    },
    {
      "cell_type": "code",
      "execution_count": 9,
      "id": "8f13c049-e0ba-440e-a5e9-097ef672c6c9",
      "metadata": {
        "colab": {
          "base_uri": "https://localhost:8080/"
        },
        "id": "8f13c049-e0ba-440e-a5e9-097ef672c6c9",
        "outputId": "36bbb250-deaf-4040-93b8-5e7151625d97"
      },
      "outputs": [
        {
          "data": {
            "text/plain": [
              "(5728, 2)"
            ]
          },
          "execution_count": 9,
          "metadata": {},
          "output_type": "execute_result"
        }
      ],
      "source": [
        "data.shape"
      ]
    },
    {
      "cell_type": "code",
      "execution_count": 10,
      "id": "441d1d9a-29be-4c2e-9d91-0a1dd8162d75",
      "metadata": {
        "colab": {
          "base_uri": "https://localhost:8080/"
        },
        "id": "441d1d9a-29be-4c2e-9d91-0a1dd8162d75",
        "outputId": "0153496e-9dd2-4616-f135-b3883f96df85"
      },
      "outputs": [
        {
          "name": "stdout",
          "output_type": "stream",
          "text": [
            "Duplicate data before drop: 33\n",
            "Duplicated Data Drop Done\n",
            "Duplicate data after drop: 0\n"
          ]
        }
      ],
      "source": [
        "# Identify duplicates\n",
        "duplicates = data[data.duplicated()]\n",
        "print(\"Duplicate data before drop:\", len(duplicates))\n",
        "\n",
        "# Drop duplicates\n",
        "data = data.drop_duplicates()\n",
        "print(\"Duplicated Data Drop Done\")\n",
        "\n",
        "# Check for duplicates after dropping\n",
        "print(\"Duplicate data after drop:\", data.duplicated().sum())"
      ]
    },
    {
      "cell_type": "code",
      "execution_count": 11,
      "id": "153d0027",
      "metadata": {
        "colab": {
          "base_uri": "https://localhost:8080/",
          "height": 147
        },
        "id": "153d0027",
        "outputId": "d038df25-0604-49f6-c40b-acdcb66bdad2"
      },
      "outputs": [
        {
          "data": {
            "text/plain": [
              "text    0\n",
              "spam    0\n",
              "dtype: int64"
            ]
          },
          "execution_count": 11,
          "metadata": {},
          "output_type": "execute_result"
        }
      ],
      "source": [
        "#Check Data Null\n",
        "data.isnull().sum()"
      ]
    },
    {
      "cell_type": "markdown",
      "id": "783d2bdf",
      "metadata": {
        "id": "783d2bdf"
      },
      "source": [
        "### Text Preprocessing"
      ]
    },
    {
      "cell_type": "code",
      "execution_count": 12,
      "id": "8d40939b-a93f-4c51-a949-010f622a4cf8",
      "metadata": {
        "id": "8d40939b-a93f-4c51-a949-010f622a4cf8"
      },
      "outputs": [],
      "source": [
        "import re\n",
        "import string"
      ]
    },
    {
      "cell_type": "markdown",
      "id": "aa5ff9e7-90cf-4363-9efa-b7e8e4c9e5e9",
      "metadata": {
        "id": "aa5ff9e7-90cf-4363-9efa-b7e8e4c9e5e9"
      },
      "source": [
        "**Convert Uppercase to Lowercase**"
      ]
    },
    {
      "cell_type": "code",
      "execution_count": 13,
      "id": "dc8c4d3d-5700-4d7b-8c18-047ff5294ae9",
      "metadata": {
        "colab": {
          "base_uri": "https://localhost:8080/",
          "height": 186
        },
        "id": "dc8c4d3d-5700-4d7b-8c18-047ff5294ae9",
        "outputId": "b7e3fd48-d71f-4ecb-b529-8c891ce36662"
      },
      "outputs": [
        {
          "data": {
            "text/plain": [
              "<bound method NDFrame.head of 0       Subject: naturally irresistible your corporate...\n",
              "1       Subject: the stock trading gunslinger  fanny i...\n",
              "2       Subject: unbelievable new homes made easy  im ...\n",
              "3       Subject: 4 color printing special  request add...\n",
              "4       Subject: do not have money , get software cds ...\n",
              "                              ...                        \n",
              "5723    Subject: re : research and development charges...\n",
              "5724    Subject: re : receipts from visit  jim ,  than...\n",
              "5725    Subject: re : enron case study update  wow ! a...\n",
              "5726    Subject: re : interest  david ,  please , call...\n",
              "5727    Subject: news : aurora 5 . 2 update  aurora ve...\n",
              "Name: text, Length: 5695, dtype: object>"
            ]
          },
          "execution_count": 13,
          "metadata": {},
          "output_type": "execute_result"
        }
      ],
      "source": [
        "data[\"text\"].head"
      ]
    },
    {
      "cell_type": "code",
      "execution_count": 14,
      "id": "79165d4b",
      "metadata": {
        "id": "79165d4b"
      },
      "outputs": [],
      "source": [
        "data[\"text\"] = data[\"text\"].apply(lambda x: \" \".join(x.lower() for x in x.split()))"
      ]
    },
    {
      "cell_type": "code",
      "execution_count": 15,
      "id": "3b3f96af",
      "metadata": {
        "colab": {
          "base_uri": "https://localhost:8080/",
          "height": 186
        },
        "id": "3b3f96af",
        "outputId": "31c8252a-637c-4df1-dcd9-fae1be70e753"
      },
      "outputs": [
        {
          "data": {
            "text/plain": [
              "<bound method NDFrame.head of 0       subject: naturally irresistible your corporate...\n",
              "1       subject: the stock trading gunslinger fanny is...\n",
              "2       subject: unbelievable new homes made easy im w...\n",
              "3       subject: 4 color printing special request addi...\n",
              "4       subject: do not have money , get software cds ...\n",
              "                              ...                        \n",
              "5723    subject: re : research and development charges...\n",
              "5724    subject: re : receipts from visit jim , thanks...\n",
              "5725    subject: re : enron case study update wow ! al...\n",
              "5726    subject: re : interest david , please , call s...\n",
              "5727    subject: news : aurora 5 . 2 update aurora ver...\n",
              "Name: text, Length: 5695, dtype: object>"
            ]
          },
          "execution_count": 15,
          "metadata": {},
          "output_type": "execute_result"
        }
      ],
      "source": [
        "data[\"text\"].head"
      ]
    },
    {
      "cell_type": "markdown",
      "id": "c6259be4",
      "metadata": {
        "id": "c6259be4"
      },
      "source": [
        "**Remove Links**"
      ]
    },
    {
      "cell_type": "code",
      "execution_count": 16,
      "id": "e4aba26c",
      "metadata": {
        "id": "e4aba26c"
      },
      "outputs": [],
      "source": [
        "data[\"text\"] = data[\"text\"].apply(lambda x: \" \".join(re.sub(r'^https?:\\/\\/.*[\\r\\n]*', '', x, flags=re.MULTILINE) for x in x.split()))"
      ]
    },
    {
      "cell_type": "code",
      "execution_count": 17,
      "id": "4edb907f",
      "metadata": {
        "colab": {
          "base_uri": "https://localhost:8080/",
          "height": 186
        },
        "id": "4edb907f",
        "outputId": "ab6771fa-fa04-4265-f1ab-3f908e1b5b31"
      },
      "outputs": [
        {
          "data": {
            "text/plain": [
              "<bound method NDFrame.head of 0       subject: naturally irresistible your corporate...\n",
              "1       subject: the stock trading gunslinger fanny is...\n",
              "2       subject: unbelievable new homes made easy im w...\n",
              "3       subject: 4 color printing special request addi...\n",
              "4       subject: do not have money , get software cds ...\n",
              "                              ...                        \n",
              "5723    subject: re : research and development charges...\n",
              "5724    subject: re : receipts from visit jim , thanks...\n",
              "5725    subject: re : enron case study update wow ! al...\n",
              "5726    subject: re : interest david , please , call s...\n",
              "5727    subject: news : aurora 5 . 2 update aurora ver...\n",
              "Name: text, Length: 5695, dtype: object>"
            ]
          },
          "execution_count": 17,
          "metadata": {},
          "output_type": "execute_result"
        }
      ],
      "source": [
        "data[\"text\"].head"
      ]
    },
    {
      "cell_type": "markdown",
      "id": "25e1c1e6",
      "metadata": {
        "id": "25e1c1e6"
      },
      "source": [
        "**Remove Punctuations**"
      ]
    },
    {
      "cell_type": "code",
      "execution_count": 18,
      "id": "2bf42206",
      "metadata": {
        "id": "2bf42206"
      },
      "outputs": [],
      "source": [
        "def remove_punctuations(text):\n",
        "    for punctuation in string.punctuation:\n",
        "        text = text.replace(punctuation, '')\n",
        "    return text\n",
        "\n",
        "data[\"text\"] = data[\"text\"].apply(remove_punctuations)"
      ]
    },
    {
      "cell_type": "code",
      "execution_count": 19,
      "id": "eca31da2",
      "metadata": {
        "colab": {
          "base_uri": "https://localhost:8080/",
          "height": 186
        },
        "id": "eca31da2",
        "outputId": "3ada73e5-4fad-41e6-e47a-d401bcd291fe"
      },
      "outputs": [
        {
          "data": {
            "text/plain": [
              "<bound method NDFrame.head of 0       subject naturally irresistible your corporate ...\n",
              "1       subject the stock trading gunslinger fanny is ...\n",
              "2       subject unbelievable new homes made easy im wa...\n",
              "3       subject 4 color printing special request addit...\n",
              "4       subject do not have money  get software cds fr...\n",
              "                              ...                        \n",
              "5723    subject re  research and development charges t...\n",
              "5724    subject re  receipts from visit jim  thanks ag...\n",
              "5725    subject re  enron case study update wow  all o...\n",
              "5726    subject re  interest david  please  call shirl...\n",
              "5727    subject news  aurora 5  2 update aurora versio...\n",
              "Name: text, Length: 5695, dtype: object>"
            ]
          },
          "execution_count": 19,
          "metadata": {},
          "output_type": "execute_result"
        }
      ],
      "source": [
        "data[\"text\"].head"
      ]
    },
    {
      "cell_type": "markdown",
      "id": "6697e01c",
      "metadata": {
        "id": "6697e01c"
      },
      "source": [
        "**Remove Numbers**"
      ]
    },
    {
      "cell_type": "code",
      "execution_count": 20,
      "id": "1a7eaf6d",
      "metadata": {
        "id": "1a7eaf6d"
      },
      "outputs": [],
      "source": [
        "data[\"text\"] = data['text'].str.replace(r'\\d+', '', regex=True)\n"
      ]
    },
    {
      "cell_type": "code",
      "execution_count": 21,
      "id": "dafc4bb2",
      "metadata": {
        "colab": {
          "base_uri": "https://localhost:8080/",
          "height": 186
        },
        "id": "dafc4bb2",
        "outputId": "5458005a-2bf0-4d68-bbe7-b4724b53a408"
      },
      "outputs": [
        {
          "data": {
            "text/plain": [
              "<bound method NDFrame.head of 0       subject naturally irresistible your corporate ...\n",
              "1       subject the stock trading gunslinger fanny is ...\n",
              "2       subject unbelievable new homes made easy im wa...\n",
              "3       subject  color printing special request additi...\n",
              "4       subject do not have money  get software cds fr...\n",
              "                              ...                        \n",
              "5723    subject re  research and development charges t...\n",
              "5724    subject re  receipts from visit jim  thanks ag...\n",
              "5725    subject re  enron case study update wow  all o...\n",
              "5726    subject re  interest david  please  call shirl...\n",
              "5727    subject news  aurora    update aurora version ...\n",
              "Name: text, Length: 5695, dtype: object>"
            ]
          },
          "execution_count": 21,
          "metadata": {},
          "output_type": "execute_result"
        }
      ],
      "source": [
        "data[\"text\"].head"
      ]
    },
    {
      "cell_type": "markdown",
      "id": "e8286295",
      "metadata": {
        "id": "e8286295"
      },
      "source": [
        "**Remove Stopwords**"
      ]
    },
    {
      "cell_type": "code",
      "execution_count": 22,
      "id": "4bb6dec1",
      "metadata": {
        "colab": {
          "base_uri": "https://localhost:8080/"
        },
        "id": "4bb6dec1",
        "outputId": "6faa34ad-fa9c-46d6-db18-a39e1ed8fa11"
      },
      "outputs": [
        {
          "name": "stderr",
          "output_type": "stream",
          "text": [
            "[nltk_data] Downloading package stopwords to ../stopwordsMain...\n",
            "[nltk_data]   Package stopwords is already up-to-date!\n"
          ]
        }
      ],
      "source": [
        "import nltk\n",
        "import os\n",
        "\n",
        "#check the folder\n",
        "download_dir = '../stopwordsMain'\n",
        "os.makedirs(download_dir, exist_ok=True)\n",
        "\n",
        "#download stopwords\n",
        "nltk.download('stopwords', download_dir='../stopwordsMain')\n",
        "\n",
        "#open Stopwords\n",
        "with open('../stopwordsMain/corpora/stopwords/english', 'r') as file:\n",
        "    sw = file.read().splitlines()\n",
        "\n",
        "# print(sw)\n"
      ]
    },
    {
      "cell_type": "code",
      "execution_count": 23,
      "id": "e0fb1b7e",
      "metadata": {
        "id": "e0fb1b7e"
      },
      "outputs": [],
      "source": [
        "data[\"text\"] = data[\"text\"].apply(lambda x: \" \".join(x for x in x.split() if x not in sw))"
      ]
    },
    {
      "cell_type": "code",
      "execution_count": 24,
      "id": "fd3daa16",
      "metadata": {
        "colab": {
          "base_uri": "https://localhost:8080/",
          "height": 186
        },
        "id": "fd3daa16",
        "outputId": "96ab2ccd-b15d-4a69-a333-6ef470b1aefb"
      },
      "outputs": [
        {
          "data": {
            "text/plain": [
              "<bound method NDFrame.head of 0       subject naturally irresistible corporate ident...\n",
              "1       subject stock trading gunslinger fanny merrill...\n",
              "2       subject unbelievable new homes made easy im wa...\n",
              "3       subject color printing special request additio...\n",
              "4       subject money get software cds software compat...\n",
              "                              ...                        \n",
              "5723    subject research development charges gpg forwa...\n",
              "5724    subject receipts visit jim thanks invitation v...\n",
              "5725    subject enron case study update wow day super ...\n",
              "5726    subject interest david please call shirley cre...\n",
              "5727    subject news aurora update aurora version fast...\n",
              "Name: text, Length: 5695, dtype: object>"
            ]
          },
          "execution_count": 24,
          "metadata": {},
          "output_type": "execute_result"
        }
      ],
      "source": [
        "data[\"text\"].head"
      ]
    },
    {
      "cell_type": "markdown",
      "id": "ffad238c",
      "metadata": {
        "id": "ffad238c"
      },
      "source": [
        "**Remove Common words on Email**"
      ]
    },
    {
      "cell_type": "code",
      "execution_count": 25,
      "id": "7db445e0",
      "metadata": {
        "id": "7db445e0"
      },
      "outputs": [],
      "source": [
        "data['text'] = data['text'].str.replace(r'\\b(subject|cc|forward)\\b', '', regex=True)"
      ]
    },
    {
      "cell_type": "code",
      "execution_count": 26,
      "id": "0e23bd97",
      "metadata": {
        "colab": {
          "base_uri": "https://localhost:8080/",
          "height": 186
        },
        "id": "0e23bd97",
        "outputId": "ae7d0abb-73de-4ea1-98de-97a238bba723"
      },
      "outputs": [
        {
          "data": {
            "text/plain": [
              "<bound method NDFrame.head of 0        naturally irresistible corporate identity lt ...\n",
              "1        stock trading gunslinger fanny merrill muzo c...\n",
              "2        unbelievable new homes made easy im wanting s...\n",
              "3        color printing special request additional inf...\n",
              "4        money get software cds software compatibility...\n",
              "                              ...                        \n",
              "5723     research development charges gpg forwarded sh...\n",
              "5724     receipts visit jim thanks invitation visit ls...\n",
              "5725     enron case study update wow day super thank m...\n",
              "5726     interest david please call shirley crenshaw a...\n",
              "5727     news aurora update aurora version fastest mod...\n",
              "Name: text, Length: 5695, dtype: object>"
            ]
          },
          "execution_count": 26,
          "metadata": {},
          "output_type": "execute_result"
        }
      ],
      "source": [
        "data[\"text\"].head"
      ]
    },
    {
      "cell_type": "markdown",
      "id": "4ea58f34",
      "metadata": {
        "id": "4ea58f34"
      },
      "source": [
        "**Stamming**"
      ]
    },
    {
      "cell_type": "code",
      "execution_count": 27,
      "id": "a081bd8c",
      "metadata": {
        "id": "a081bd8c"
      },
      "outputs": [],
      "source": [
        "from nltk.stem import PorterStemmer\n",
        "ps = PorterStemmer()\n",
        "\n",
        "data[\"text\"] = data[\"text\"].apply(lambda x: \" \".join(ps.stem(x) for x in x.split()))"
      ]
    },
    {
      "cell_type": "code",
      "execution_count": 28,
      "id": "0e0580db",
      "metadata": {
        "colab": {
          "base_uri": "https://localhost:8080/",
          "height": 186
        },
        "id": "0e0580db",
        "outputId": "aff29f49-11e2-4e24-ece4-897f240cbfd2"
      },
      "outputs": [
        {
          "data": {
            "text/plain": [
              "<bound method NDFrame.head of 0       natur irresist corpor ident lt realli hard rec...\n",
              "1       stock trade gunsling fanni merril muzo colza a...\n",
              "2       unbeliev new home made easi im want show homeo...\n",
              "3       color print special request addit inform click...\n",
              "4       money get softwar cd softwar compat great grow...\n",
              "                              ...                        \n",
              "5723    research develop charg gpg forward shirley cre...\n",
              "5724    receipt visit jim thank invit visit lsu shirle...\n",
              "5725    enron case studi updat wow day super thank muc...\n",
              "5726    interest david pleas call shirley crenshaw ass...\n",
              "5727    news aurora updat aurora version fastest model...\n",
              "Name: text, Length: 5695, dtype: object>"
            ]
          },
          "execution_count": 28,
          "metadata": {},
          "output_type": "execute_result"
        }
      ],
      "source": [
        "data[\"text\"].head"
      ]
    },
    {
      "cell_type": "markdown",
      "id": "4ba9d158",
      "metadata": {
        "id": "4ba9d158"
      },
      "source": [
        "**Data after Text Preprocessing**"
      ]
    },
    {
      "cell_type": "code",
      "execution_count": 29,
      "id": "e16beb39",
      "metadata": {
        "colab": {
          "base_uri": "https://localhost:8080/",
          "height": 423
        },
        "id": "e16beb39",
        "outputId": "87b231ac-d37d-4937-d5f3-ab2c6393a9a4"
      },
      "outputs": [
        {
          "data": {
            "text/html": [
              "<div>\n",
              "<style scoped>\n",
              "    .dataframe tbody tr th:only-of-type {\n",
              "        vertical-align: middle;\n",
              "    }\n",
              "\n",
              "    .dataframe tbody tr th {\n",
              "        vertical-align: top;\n",
              "    }\n",
              "\n",
              "    .dataframe thead th {\n",
              "        text-align: right;\n",
              "    }\n",
              "</style>\n",
              "<table border=\"1\" class=\"dataframe\">\n",
              "  <thead>\n",
              "    <tr style=\"text-align: right;\">\n",
              "      <th></th>\n",
              "      <th>text</th>\n",
              "      <th>spam</th>\n",
              "    </tr>\n",
              "  </thead>\n",
              "  <tbody>\n",
              "    <tr>\n",
              "      <th>0</th>\n",
              "      <td>natur irresist corpor ident lt realli hard rec...</td>\n",
              "      <td>1</td>\n",
              "    </tr>\n",
              "    <tr>\n",
              "      <th>1</th>\n",
              "      <td>stock trade gunsling fanni merril muzo colza a...</td>\n",
              "      <td>1</td>\n",
              "    </tr>\n",
              "    <tr>\n",
              "      <th>2</th>\n",
              "      <td>unbeliev new home made easi im want show homeo...</td>\n",
              "      <td>1</td>\n",
              "    </tr>\n",
              "    <tr>\n",
              "      <th>3</th>\n",
              "      <td>color print special request addit inform click...</td>\n",
              "      <td>1</td>\n",
              "    </tr>\n",
              "    <tr>\n",
              "      <th>4</th>\n",
              "      <td>money get softwar cd softwar compat great grow...</td>\n",
              "      <td>1</td>\n",
              "    </tr>\n",
              "    <tr>\n",
              "      <th>...</th>\n",
              "      <td>...</td>\n",
              "      <td>...</td>\n",
              "    </tr>\n",
              "    <tr>\n",
              "      <th>5723</th>\n",
              "      <td>research develop charg gpg forward shirley cre...</td>\n",
              "      <td>0</td>\n",
              "    </tr>\n",
              "    <tr>\n",
              "      <th>5724</th>\n",
              "      <td>receipt visit jim thank invit visit lsu shirle...</td>\n",
              "      <td>0</td>\n",
              "    </tr>\n",
              "    <tr>\n",
              "      <th>5725</th>\n",
              "      <td>enron case studi updat wow day super thank muc...</td>\n",
              "      <td>0</td>\n",
              "    </tr>\n",
              "    <tr>\n",
              "      <th>5726</th>\n",
              "      <td>interest david pleas call shirley crenshaw ass...</td>\n",
              "      <td>0</td>\n",
              "    </tr>\n",
              "    <tr>\n",
              "      <th>5727</th>\n",
              "      <td>news aurora updat aurora version fastest model...</td>\n",
              "      <td>0</td>\n",
              "    </tr>\n",
              "  </tbody>\n",
              "</table>\n",
              "<p>5695 rows × 2 columns</p>\n",
              "</div>"
            ],
            "text/plain": [
              "                                                   text  spam\n",
              "0     natur irresist corpor ident lt realli hard rec...     1\n",
              "1     stock trade gunsling fanni merril muzo colza a...     1\n",
              "2     unbeliev new home made easi im want show homeo...     1\n",
              "3     color print special request addit inform click...     1\n",
              "4     money get softwar cd softwar compat great grow...     1\n",
              "...                                                 ...   ...\n",
              "5723  research develop charg gpg forward shirley cre...     0\n",
              "5724  receipt visit jim thank invit visit lsu shirle...     0\n",
              "5725  enron case studi updat wow day super thank muc...     0\n",
              "5726  interest david pleas call shirley crenshaw ass...     0\n",
              "5727  news aurora updat aurora version fastest model...     0\n",
              "\n",
              "[5695 rows x 2 columns]"
            ]
          },
          "execution_count": 29,
          "metadata": {},
          "output_type": "execute_result"
        }
      ],
      "source": [
        "data"
      ]
    },
    {
      "cell_type": "markdown",
      "id": "1200ad2e",
      "metadata": {
        "id": "1200ad2e"
      },
      "source": [
        "**Buliding a Vocabulary**"
      ]
    },
    {
      "cell_type": "code",
      "execution_count": 30,
      "id": "abd3de66",
      "metadata": {
        "colab": {
          "base_uri": "https://localhost:8080/"
        },
        "id": "abd3de66",
        "outputId": "c3b3dc9c-833c-4bbc-a0b4-9bb5e749ca00"
      },
      "outputs": [
        {
          "name": "stdout",
          "output_type": "stream",
          "text": [
            "Length of vocabulary :  25670\n",
            "Data shape :  (5695, 2)\n"
          ]
        }
      ],
      "source": [
        "from collections import Counter\n",
        "vocab = Counter()\n",
        "\n",
        "for sentence in data['text']:\n",
        "    vocab.update(sentence.split())\n",
        "\n",
        "print(\"Length of vocabulary : \" ,len(vocab))\n",
        "print(\"Data shape : \" , (data.shape))\n"
      ]
    },
    {
      "cell_type": "code",
      "execution_count": 31,
      "id": "9820778d",
      "metadata": {
        "colab": {
          "base_uri": "https://localhost:8080/"
        },
        "id": "9820778d",
        "outputId": "0d1c261d-daca-4eca-bcd0-b705f025511b"
      },
      "outputs": [
        {
          "name": "stdout",
          "output_type": "stream",
          "text": [
            "Vocabulary After Removing Rare Words: 8335\n"
          ]
        }
      ],
      "source": [
        "min_occurrence = 5\n",
        "filtered_vocab = {word: count for word, count in vocab.items() if count >= min_occurrence}\n",
        "print(\"Vocabulary After Removing Rare Words:\", len(filtered_vocab))"
      ]
    },
    {
      "cell_type": "code",
      "execution_count": 32,
      "id": "8fa2351b",
      "metadata": {
        "colab": {
          "base_uri": "https://localhost:8080/"
        },
        "id": "8fa2351b",
        "outputId": "6262e75a-88b0-46ef-c158-3ac93445c61e"
      },
      "outputs": [
        {
          "name": "stdout",
          "output_type": "stream",
          "text": [
            "Vocabulary After Removing High-Frequency Words: 8331\n"
          ]
        }
      ],
      "source": [
        "max_docs = 0.95 * len(data)\n",
        "filtered_vocab = {word: count for word, count in filtered_vocab.items() if count <= max_docs}\n",
        "print(\"Vocabulary After Removing High-Frequency Words:\", len(filtered_vocab))\n"
      ]
    },
    {
      "cell_type": "code",
      "execution_count": 33,
      "id": "12828e8a",
      "metadata": {
        "colab": {
          "base_uri": "https://localhost:8080/"
        },
        "id": "12828e8a",
        "outputId": "01a7c0ec-5992-4f91-d51f-8cbf52ef4f3f"
      },
      "outputs": [
        {
          "name": "stdout",
          "output_type": "stream",
          "text": [
            "Length of filterd vocabulary :  8331\n",
            "Data shape :  (5695, 2)\n"
          ]
        }
      ],
      "source": [
        "print(\"Length of filterd vocabulary : \" ,len(filtered_vocab))\n",
        "print(\"Data shape : \" , (data.shape))"
      ]
    },
    {
      "cell_type": "code",
      "execution_count": 34,
      "id": "5ea16419",
      "metadata": {
        "id": "5ea16419"
      },
      "outputs": [],
      "source": [
        "filtered_vocab = [key for key in filtered_vocab]\n"
      ]
    },
    {
      "cell_type": "code",
      "execution_count": 35,
      "id": "70421f68",
      "metadata": {
        "colab": {
          "base_uri": "https://localhost:8080/",
          "height": 423
        },
        "id": "70421f68",
        "outputId": "de4fe841-33a7-4644-fe2a-598396feacff"
      },
      "outputs": [
        {
          "data": {
            "text/html": [
              "<div>\n",
              "<style scoped>\n",
              "    .dataframe tbody tr th:only-of-type {\n",
              "        vertical-align: middle;\n",
              "    }\n",
              "\n",
              "    .dataframe tbody tr th {\n",
              "        vertical-align: top;\n",
              "    }\n",
              "\n",
              "    .dataframe thead th {\n",
              "        text-align: right;\n",
              "    }\n",
              "</style>\n",
              "<table border=\"1\" class=\"dataframe\">\n",
              "  <thead>\n",
              "    <tr style=\"text-align: right;\">\n",
              "      <th></th>\n",
              "      <th>text</th>\n",
              "      <th>spam</th>\n",
              "    </tr>\n",
              "  </thead>\n",
              "  <tbody>\n",
              "    <tr>\n",
              "      <th>0</th>\n",
              "      <td>natur irresist corpor ident lt realli hard rec...</td>\n",
              "      <td>1</td>\n",
              "    </tr>\n",
              "    <tr>\n",
              "      <th>1</th>\n",
              "      <td>stock trade gunsling fanni merril muzo colza a...</td>\n",
              "      <td>1</td>\n",
              "    </tr>\n",
              "    <tr>\n",
              "      <th>2</th>\n",
              "      <td>unbeliev new home made easi im want show homeo...</td>\n",
              "      <td>1</td>\n",
              "    </tr>\n",
              "    <tr>\n",
              "      <th>3</th>\n",
              "      <td>color print special request addit inform click...</td>\n",
              "      <td>1</td>\n",
              "    </tr>\n",
              "    <tr>\n",
              "      <th>4</th>\n",
              "      <td>money get softwar cd softwar compat great grow...</td>\n",
              "      <td>1</td>\n",
              "    </tr>\n",
              "    <tr>\n",
              "      <th>...</th>\n",
              "      <td>...</td>\n",
              "      <td>...</td>\n",
              "    </tr>\n",
              "    <tr>\n",
              "      <th>5723</th>\n",
              "      <td>research develop charg gpg forward shirley cre...</td>\n",
              "      <td>0</td>\n",
              "    </tr>\n",
              "    <tr>\n",
              "      <th>5724</th>\n",
              "      <td>receipt visit jim thank invit visit lsu shirle...</td>\n",
              "      <td>0</td>\n",
              "    </tr>\n",
              "    <tr>\n",
              "      <th>5725</th>\n",
              "      <td>enron case studi updat wow day super thank muc...</td>\n",
              "      <td>0</td>\n",
              "    </tr>\n",
              "    <tr>\n",
              "      <th>5726</th>\n",
              "      <td>interest david pleas call shirley crenshaw ass...</td>\n",
              "      <td>0</td>\n",
              "    </tr>\n",
              "    <tr>\n",
              "      <th>5727</th>\n",
              "      <td>news aurora updat aurora version fastest model...</td>\n",
              "      <td>0</td>\n",
              "    </tr>\n",
              "  </tbody>\n",
              "</table>\n",
              "<p>5695 rows × 2 columns</p>\n",
              "</div>"
            ],
            "text/plain": [
              "                                                   text  spam\n",
              "0     natur irresist corpor ident lt realli hard rec...     1\n",
              "1     stock trade gunsling fanni merril muzo colza a...     1\n",
              "2     unbeliev new home made easi im want show homeo...     1\n",
              "3     color print special request addit inform click...     1\n",
              "4     money get softwar cd softwar compat great grow...     1\n",
              "...                                                 ...   ...\n",
              "5723  research develop charg gpg forward shirley cre...     0\n",
              "5724  receipt visit jim thank invit visit lsu shirle...     0\n",
              "5725  enron case studi updat wow day super thank muc...     0\n",
              "5726  interest david pleas call shirley crenshaw ass...     0\n",
              "5727  news aurora updat aurora version fastest model...     0\n",
              "\n",
              "[5695 rows x 2 columns]"
            ]
          },
          "execution_count": 35,
          "metadata": {},
          "output_type": "execute_result"
        }
      ],
      "source": [
        "data"
      ]
    },
    {
      "cell_type": "code",
      "execution_count": 36,
      "id": "f7ce9bd9",
      "metadata": {
        "id": "f7ce9bd9"
      },
      "outputs": [],
      "source": [
        "def save_vocabulary(lines, filename):\n",
        "    data = '\\n'.join(lines)\n",
        "    file = open(filename, 'w', encoding=\"utf-8\")\n",
        "    file.write(data)\n",
        "    file.close()\n",
        "\n",
        "save_vocabulary(filtered_vocab, '../vocabulary.txt')"
      ]
    },
    {
      "cell_type": "code",
      "execution_count": 37,
      "id": "4a32c8d5",
      "metadata": {
        "colab": {
          "base_uri": "https://localhost:8080/"
        },
        "id": "4a32c8d5",
        "outputId": "4968c745-130f-4314-a987-e36992bd4356"
      },
      "outputs": [
        {
          "data": {
            "text/plain": [
              "['natur',\n",
              " 'corpor',\n",
              " 'ident',\n",
              " 'lt',\n",
              " 'realli',\n",
              " 'hard',\n",
              " 'recollect',\n",
              " 'compani',\n",
              " 'market',\n",
              " 'full',\n",
              " 'suqgest',\n",
              " 'inform',\n",
              " 'isoverwhelminq',\n",
              " 'good',\n",
              " 'catchi',\n",
              " 'logo',\n",
              " 'stylish',\n",
              " 'statloneri',\n",
              " 'outstand',\n",
              " 'websit',\n",
              " 'make',\n",
              " 'task',\n",
              " 'much',\n",
              " 'easier',\n",
              " 'promis',\n",
              " 'havinq',\n",
              " 'order',\n",
              " 'iogo',\n",
              " 'automaticaili',\n",
              " 'becom',\n",
              " 'world',\n",
              " 'ieader',\n",
              " 'isguit',\n",
              " 'ciear',\n",
              " 'without',\n",
              " 'product',\n",
              " 'effect',\n",
              " 'busi',\n",
              " 'organ',\n",
              " 'practic',\n",
              " 'aim',\n",
              " 'hotat',\n",
              " 'nowaday',\n",
              " 'effort',\n",
              " 'list',\n",
              " 'clear',\n",
              " 'benefit',\n",
              " 'creativ',\n",
              " 'hand',\n",
              " 'made',\n",
              " 'origin',\n",
              " 'special',\n",
              " 'done',\n",
              " 'reflect',\n",
              " 'distinct',\n",
              " 'imag',\n",
              " 'conveni',\n",
              " 'stationeri',\n",
              " 'provid',\n",
              " 'format',\n",
              " 'easi',\n",
              " 'use',\n",
              " 'content',\n",
              " 'manag',\n",
              " 'system',\n",
              " 'letsyou',\n",
              " 'chang',\n",
              " 'even',\n",
              " 'structur',\n",
              " 'prompt',\n",
              " 'see',\n",
              " 'draft',\n",
              " 'within',\n",
              " 'three',\n",
              " 'day',\n",
              " 'afford',\n",
              " 'break',\n",
              " 'gap',\n",
              " 'budget',\n",
              " 'satisfact',\n",
              " 'guarante',\n",
              " 'unlimit',\n",
              " 'amount',\n",
              " 'extra',\n",
              " 'fee',\n",
              " 'surethat',\n",
              " 'love',\n",
              " 'result',\n",
              " 'collabor',\n",
              " 'look',\n",
              " 'portfolio',\n",
              " 'interest',\n",
              " 'stock',\n",
              " 'trade',\n",
              " 'merril',\n",
              " 'like',\n",
              " 'group',\n",
              " 'tri',\n",
              " 'kansa',\n",
              " 'ye',\n",
              " 'continu',\n",
              " 'tight',\n",
              " 'superior',\n",
              " 'hall',\n",
              " 'incred',\n",
              " 'earmark',\n",
              " 'duan',\n",
              " 'plain',\n",
              " 'attir',\n",
              " 'edt',\n",
              " 'diffus',\n",
              " 'albeit',\n",
              " 'unbeliev',\n",
              " 'new',\n",
              " 'home',\n",
              " 'im',\n",
              " 'want',\n",
              " 'show',\n",
              " 'homeown',\n",
              " 'pre',\n",
              " 'approv',\n",
              " 'loan',\n",
              " 'fix',\n",
              " 'rate',\n",
              " 'offer',\n",
              " 'extend',\n",
              " 'uncondit',\n",
              " 'credit',\n",
              " 'way',\n",
              " 'factor',\n",
              " 'take',\n",
              " 'advantag',\n",
              " 'limit',\n",
              " 'time',\n",
              " 'opportun',\n",
              " 'ask',\n",
              " 'visit',\n",
              " 'complet',\n",
              " 'minut',\n",
              " 'post',\n",
              " 'form',\n",
              " 'foward',\n",
              " 'hear',\n",
              " 'color',\n",
              " 'print',\n",
              " 'request',\n",
              " 'addit',\n",
              " 'click',\n",
              " 'printabl',\n",
              " 'version',\n",
              " 'pdf',\n",
              " 'phone',\n",
              " 'fax',\n",
              " 'e',\n",
              " 'mail',\n",
              " 'com',\n",
              " 'golden',\n",
              " 'rd',\n",
              " 'ca',\n",
              " 'messag',\n",
              " 'advertis',\n",
              " 'solicit',\n",
              " 'money',\n",
              " 'get',\n",
              " 'softwar',\n",
              " 'cd',\n",
              " 'compat',\n",
              " 'great',\n",
              " 'grow',\n",
              " 'old',\n",
              " 'along',\n",
              " 'best',\n",
              " 'yet',\n",
              " 'finish',\n",
              " 'death',\n",
              " 'end',\n",
              " 'marriag',\n",
              " 'hello',\n",
              " 'welcom',\n",
              " 'sh',\n",
              " 'op',\n",
              " 'pleas',\n",
              " 'introduc',\n",
              " 'one',\n",
              " 'iead',\n",
              " 'onlin',\n",
              " 'phar',\n",
              " 'shop',\n",
              " 'v',\n",
              " 'r',\n",
              " 'l',\n",
              " 'ag',\n",
              " 'ac',\n",
              " 'va',\n",
              " 'confid',\n",
              " 'um',\n",
              " 'andmanyoth',\n",
              " 'sav',\n",
              " 'total',\n",
              " 'worldwid',\n",
              " 'polit',\n",
              " 'hlpplng',\n",
              " 'ov',\n",
              " 'er',\n",
              " 'miilion',\n",
              " 'custom',\n",
              " 'countri',\n",
              " 'nice',\n",
              " 'hot',\n",
              " 'play',\n",
              " 'motion',\n",
              " 'homeland',\n",
              " 'secur',\n",
              " 'invest',\n",
              " 'terror',\n",
              " 'attack',\n",
              " 'unit',\n",
              " 'state',\n",
              " 'septemb',\n",
              " 'ol',\n",
              " 'landscap',\n",
              " 'forese',\n",
              " 'futur',\n",
              " 'physic',\n",
              " 'paramount',\n",
              " 'industri',\n",
              " 'segment',\n",
              " 'bank',\n",
              " 'nationa',\n",
              " 'resourc',\n",
              " 'govern',\n",
              " 'sector',\n",
              " 'accord',\n",
              " 'giga',\n",
              " 'own',\n",
              " 'subsidiari',\n",
              " 'forrest',\n",
              " 'research',\n",
              " 'woridwid',\n",
              " 'demand',\n",
              " 'servic',\n",
              " 'set',\n",
              " 'eclips',\n",
              " 'b',\n",
              " 'homeiand',\n",
              " 'newsiett',\n",
              " 'dedic',\n",
              " 'reader',\n",
              " 'pertain',\n",
              " 'lucr',\n",
              " 'know',\n",
              " 'event',\n",
              " 'relat',\n",
              " 'happen',\n",
              " 'lightn',\n",
              " 'speed',\n",
              " 'investor',\n",
              " 'posit',\n",
              " 'current',\n",
              " 'trend',\n",
              " 'readi',\n",
              " 'capit',\n",
              " 'mind',\n",
              " 'excit',\n",
              " 'present',\n",
              " 'vinobl',\n",
              " 'inc',\n",
              " 'expect',\n",
              " 'big',\n",
              " 'thing',\n",
              " 'near',\n",
              " 'ong',\n",
              " 'term',\n",
              " 'symbol',\n",
              " 'vnbl',\n",
              " 'ob',\n",
              " 'price',\n",
              " 'short',\n",
              " 'target',\n",
              " 'month',\n",
              " 'believ',\n",
              " 'give',\n",
              " 'return',\n",
              " 'focu',\n",
              " 'rfid',\n",
              " 'radio',\n",
              " 'frequenc',\n",
              " 'identif',\n",
              " 'technoiogi',\n",
              " 'technolog',\n",
              " 'tini',\n",
              " 'sensor',\n",
              " 'transmit',\n",
              " 'person',\n",
              " 'object',\n",
              " 'wireiessli',\n",
              " 'aireadi',\n",
              " 'pioneer',\n",
              " 'locat',\n",
              " 'develop',\n",
              " 'allow',\n",
              " 'wirelessli',\n",
              " 'track',\n",
              " 'asset',\n",
              " 'huge',\n",
              " 'potentia',\n",
              " 'protect',\n",
              " 'transport',\n",
              " 'materiai',\n",
              " 'design',\n",
              " 'high',\n",
              " 'risk',\n",
              " 'fa',\n",
              " 'wrong',\n",
              " 'work',\n",
              " 'integr',\n",
              " 'two',\n",
              " 'afor',\n",
              " 'mention',\n",
              " 'creat',\n",
              " 'space',\n",
              " 'deem',\n",
              " 'necessari',\n",
              " 'may',\n",
              " 'airport',\n",
              " 'sea',\n",
              " 'port',\n",
              " 'mine',\n",
              " 'faciiiti',\n",
              " 'news',\n",
              " 'drive',\n",
              " 'fresh',\n",
              " 'buy',\n",
              " 'malibu',\n",
              " 'calif',\n",
              " 'wire',\n",
              " 'june',\n",
              " 'oo',\n",
              " 'otcbb',\n",
              " 'hold',\n",
              " 'seek',\n",
              " 'identifi',\n",
              " 'growth',\n",
              " 'area',\n",
              " 'announc',\n",
              " 'today',\n",
              " 'pian',\n",
              " 'wiil',\n",
              " 'assist',\n",
              " 'autom',\n",
              " 'control',\n",
              " 'equip',\n",
              " 'tooi',\n",
              " 'process',\n",
              " 'oi',\n",
              " 'ga',\n",
              " 'petrochem',\n",
              " 'although',\n",
              " 'smail',\n",
              " 'network',\n",
              " 'monitor',\n",
              " 'machin',\n",
              " 'detect',\n",
              " 'possibl',\n",
              " 'problem',\n",
              " 'seriou',\n",
              " 'aiso',\n",
              " 'safeti',\n",
              " 'featur',\n",
              " 'weli',\n",
              " 'mayb',\n",
              " 'trap',\n",
              " 'differ',\n",
              " 'ayer',\n",
              " 'rock',\n",
              " 'water',\n",
              " 'specif',\n",
              " 'oper',\n",
              " 'precis',\n",
              " 'moment',\n",
              " 'ensur',\n",
              " 'certain',\n",
              " 'advers',\n",
              " 'condit',\n",
              " 'occur',\n",
              " 'well',\n",
              " 'rf',\n",
              " 'base',\n",
              " 'applic',\n",
              " 'also',\n",
              " 'safe',\n",
              " 'transit',\n",
              " 'author',\n",
              " 'handler',\n",
              " 'entri',\n",
              " 'personn',\n",
              " 'ocat',\n",
              " 'personnel',\n",
              " 'essenti',\n",
              " 'emerg',\n",
              " 'tag',\n",
              " 'wouid',\n",
              " 'empioye',\n",
              " 'danger',\n",
              " 'requir',\n",
              " 'hardwar',\n",
              " 'harsh',\n",
              " 'hazard',\n",
              " 'valuabl',\n",
              " 'vita',\n",
              " 'suppli',\n",
              " 'chain',\n",
              " 'extract',\n",
              " 'refin',\n",
              " 'retai',\n",
              " 'viewpoint',\n",
              " 'measur',\n",
              " 'natura',\n",
              " 'commod',\n",
              " 'threat',\n",
              " 'preserv',\n",
              " 'import',\n",
              " 'u',\n",
              " 'economi',\n",
              " 'appiic',\n",
              " 'oil',\n",
              " 'wil',\n",
              " 'rapidli',\n",
              " 'expand',\n",
              " 'whiie',\n",
              " 'access',\n",
              " 'increas',\n",
              " 'spend',\n",
              " 'wi',\n",
              " 'goal',\n",
              " 'need',\n",
              " 'cost',\n",
              " 'sma',\n",
              " 'est',\n",
              " 'constant',\n",
              " 'potenti',\n",
              " 'except',\n",
              " 'alreadi',\n",
              " 'stand',\n",
              " 'innov',\n",
              " 'emai',\n",
              " 'contain',\n",
              " 'statement',\n",
              " 'mean',\n",
              " 'section',\n",
              " 'act',\n",
              " 'exchang',\n",
              " 'express',\n",
              " 'involv',\n",
              " 'discuss',\n",
              " 'respect',\n",
              " 'predict',\n",
              " 'belief',\n",
              " 'project',\n",
              " 'assumpt',\n",
              " 'perform',\n",
              " 'historica',\n",
              " 'fact',\n",
              " 'ook',\n",
              " 'estim',\n",
              " 'invoiv',\n",
              " 'number',\n",
              " 'uncertainti',\n",
              " 'couid',\n",
              " 'caus',\n",
              " 'materia',\n",
              " 'anticip',\n",
              " 'action',\n",
              " 'word',\n",
              " 'beiiev',\n",
              " 'understand',\n",
              " 'indic',\n",
              " 'might',\n",
              " 'mani',\n",
              " 'micro',\n",
              " 'cap',\n",
              " 'worth',\n",
              " 'note',\n",
              " 'inciud',\n",
              " 'histori',\n",
              " 'advanc',\n",
              " 'cash',\n",
              " 'reiat',\n",
              " 'parti',\n",
              " 'sharehold',\n",
              " 'unsecur',\n",
              " 'basi',\n",
              " 'vendor',\n",
              " 'major',\n",
              " 'nineti',\n",
              " 'seven',\n",
              " 'percent',\n",
              " 'raw',\n",
              " 'reiianc',\n",
              " 'fifti',\n",
              " 'numer',\n",
              " 'transact',\n",
              " 'rais',\n",
              " 'other',\n",
              " 'sec',\n",
              " 'fii',\n",
              " 'urg',\n",
              " 'read',\n",
              " 'file',\n",
              " 'rocket',\n",
              " 'report',\n",
              " 'repres',\n",
              " 'ail',\n",
              " 'omit',\n",
              " 'materi',\n",
              " 'therein',\n",
              " 'mislead',\n",
              " 'must',\n",
              " 'understood',\n",
              " 'advic',\n",
              " 'advis',\n",
              " 'subscrib',\n",
              " 'regist',\n",
              " 'decid',\n",
              " 'email',\n",
              " 'none',\n",
              " 'constru',\n",
              " 'kind',\n",
              " 'verg',\n",
              " 'bankruptci',\n",
              " 'lose',\n",
              " 'publish',\n",
              " 'advisor',\n",
              " 'view',\n",
              " 'herein',\n",
              " 'tax',\n",
              " 'account',\n",
              " 'refer',\n",
              " 'past',\n",
              " 'referenc',\n",
              " 'perfect',\n",
              " 'achiev',\n",
              " 'resuit',\n",
              " 'exampi',\n",
              " 'given',\n",
              " 'assur',\n",
              " 'rememb',\n",
              " 'aiway',\n",
              " 'never',\n",
              " 'thorough',\n",
              " 'due',\n",
              " 'includ',\n",
              " 'review',\n",
              " 'shouid',\n",
              " 'prior',\n",
              " 'receipt',\n",
              " 'thousand',\n",
              " 'third',\n",
              " 'gem',\n",
              " 'offic',\n",
              " 'director',\n",
              " 'affili',\n",
              " 'sharehoid',\n",
              " 'se',\n",
              " 'notic',\n",
              " 'awar',\n",
              " 'inher',\n",
              " 'confiict',\n",
              " 'compens',\n",
              " 'paid',\n",
              " 'conflict',\n",
              " 'al',\n",
              " 'gather',\n",
              " 'pubiic',\n",
              " 'sourc',\n",
              " 'press',\n",
              " 'releas',\n",
              " 'accuraci',\n",
              " 'compiet',\n",
              " 'constitut',\n",
              " 'accept',\n",
              " 'save',\n",
              " 'ciall',\n",
              " 'cannot',\n",
              " 'imagin',\n",
              " 'real',\n",
              " 'man',\n",
              " 'bed',\n",
              " 'errrectlon',\n",
              " 'exactiy',\n",
              " 'ciali',\n",
              " 'lot',\n",
              " 'viagra',\n",
              " 'iast',\n",
              " 'hour',\n",
              " 'start',\n",
              " 'mix',\n",
              " 'aicohol',\n",
              " 'ship',\n",
              " 'right',\n",
              " 'sent',\n",
              " 'sun',\n",
              " 'jan',\n",
              " 'reach',\n",
              " 'follow',\n",
              " 'recipi',\n",
              " 'mon',\n",
              " 'feb',\n",
              " 'name',\n",
              " 'recogn',\n",
              " 'mt',\n",
              " 'id',\n",
              " 'c',\n",
              " 'us',\n",
              " 'p',\n",
              " 'telecom',\n",
              " 'q',\n",
              " 'co',\n",
              " 'unknown',\n",
              " 'last',\n",
              " 'la',\n",
              " 'vega',\n",
              " 'rise',\n",
              " 'boom',\n",
              " 'fast',\n",
              " 'citi',\n",
              " 'tower',\n",
              " 'built',\n",
              " 'around',\n",
              " 'strip',\n",
              " 'next',\n",
              " 'year',\n",
              " 'begun',\n",
              " 'first',\n",
              " 'earli',\n",
              " 'phase',\n",
              " 'construct',\n",
              " 'avail',\n",
              " 'icon',\n",
              " 'sky',\n",
              " 'among',\n",
              " 'join',\n",
              " 'http',\n",
              " 'www',\n",
              " 'learn',\n",
              " 'wish',\n",
              " 'exclud',\n",
              " 'repli',\n",
              " 'remov',\n",
              " 'line',\n",
              " 'exactli',\n",
              " 'ciaii',\n",
              " 'iot',\n",
              " 'advantaq',\n",
              " 'riqht',\n",
              " 'teeth',\n",
              " 'bright',\n",
              " 'white',\n",
              " 'consid',\n",
              " 'profession',\n",
              " 'usual',\n",
              " 'local',\n",
              " 'site',\n",
              " 'exact',\n",
              " 'fraction',\n",
              " 'comparison',\n",
              " 'back',\n",
              " 'receiv',\n",
              " 'internet',\n",
              " 'member',\n",
              " 'would',\n",
              " 'longer',\n",
              " 'promot',\n",
              " 'via',\n",
              " 'unsubscrib',\n",
              " 'wall',\n",
              " 'street',\n",
              " 'reap',\n",
              " 'reward',\n",
              " 'small',\n",
              " 'finder',\n",
              " 'move',\n",
              " 'western',\n",
              " 'sierra',\n",
              " 'wsrm',\n",
              " 'find',\n",
              " 'top',\n",
              " 'pick',\n",
              " 'week',\n",
              " 'mode',\n",
              " 'avoid',\n",
              " 'highest',\n",
              " 'associ',\n",
              " 'explor',\n",
              " 'expior',\n",
              " 'found',\n",
              " 'produc',\n",
              " 'handsom',\n",
              " 'profit',\n",
              " 'impact',\n",
              " 'china',\n",
              " 'driven',\n",
              " 'suppiy',\n",
              " 'respons',\n",
              " 'lead',\n",
              " 'recent',\n",
              " 'phoenix',\n",
              " 'corp',\n",
              " 'pink',\n",
              " 'sheet',\n",
              " 'board',\n",
              " 'split',\n",
              " 'issu',\n",
              " 'common',\n",
              " 'tock',\n",
              " 'record',\n",
              " 'reason',\n",
              " 'ow',\n",
              " 'particip',\n",
              " 'long',\n",
              " 'oretech',\n",
              " 'agre',\n",
              " 'enter',\n",
              " 'agreement',\n",
              " 'silver',\n",
              " 'comment',\n",
              " 'propos',\n",
              " 'presid',\n",
              " 'michael',\n",
              " 'said',\n",
              " 'util',\n",
              " 'expertis',\n",
              " 'maximum',\n",
              " 'activ',\n",
              " 'dilig',\n",
              " 'properti',\n",
              " 'sign',\n",
              " 'letter',\n",
              " 'intent',\n",
              " 'asdi',\n",
              " 'deveiop',\n",
              " 'battl',\n",
              " 'mountain',\n",
              " 'stress',\n",
              " 'enough',\n",
              " 'signific',\n",
              " 'oniy',\n",
              " 'date',\n",
              " 'rich',\n",
              " 'speak',\n",
              " 'volum',\n",
              " 'earn',\n",
              " 'fortun',\n",
              " 'noth',\n",
              " 'extraordinari',\n",
              " 'highli',\n",
              " 'recommend',\n",
              " 'outperform',\n",
              " 'dow',\n",
              " 'jone',\n",
              " 'averag',\n",
              " 'doubl',\n",
              " 'second',\n",
              " 'row',\n",
              " 'equiti',\n",
              " 'nearli',\n",
              " 'fold',\n",
              " 'waterhous',\n",
              " 'cooper',\n",
              " 'anoth',\n",
              " 'global',\n",
              " 'go',\n",
              " 'say',\n",
              " 'sustain',\n",
              " 'caught',\n",
              " 'attent',\n",
              " 'dash',\n",
              " 'add',\n",
              " 'unpreced',\n",
              " 'free',\n",
              " 'flow',\n",
              " 'dragon',\n",
              " 'pwcglobal',\n",
              " 'disclaim',\n",
              " 'histor',\n",
              " 'actual',\n",
              " 'imit',\n",
              " 'fulli',\n",
              " 'spell',\n",
              " 'mone',\n",
              " 'select',\n",
              " 'favor',\n",
              " 'disclos',\n",
              " 'twelv',\n",
              " 'affiiiat',\n",
              " 'circul',\n",
              " 'stoc',\n",
              " 'k',\n",
              " 'reieas',\n",
              " 'sto',\n",
              " 'ck',\n",
              " 'fpa',\n",
              " 'ebay',\n",
              " 'user',\n",
              " 'suspens',\n",
              " 'dear',\n",
              " 'suspend',\n",
              " 'restor',\n",
              " 'taken',\n",
              " 'compromis',\n",
              " 'investig',\n",
              " 'procedur',\n",
              " 'led',\n",
              " 'conclus',\n",
              " 'took',\n",
              " 'maintain',\n",
              " 'instruct',\n",
              " 'reinstat',\n",
              " 'button',\n",
              " 'thank',\n",
              " 'patienc',\n",
              " 'regard',\n",
              " 'safeharbor',\n",
              " 'search',\n",
              " 'engin',\n",
              " 'immedi',\n",
              " 'place',\n",
              " 'qualifi',\n",
              " 'perman',\n",
              " 'ex',\n",
              " 'yahoo',\n",
              " 'msn',\n",
              " 'etc',\n",
              " 'traffic',\n",
              " 'contact',\n",
              " 'promptli',\n",
              " 'net',\n",
              " 'pe',\n",
              " 'url',\n",
              " 'pay',\n",
              " 'per',\n",
              " 'exampl',\n",
              " 'valid',\n",
              " 'usa',\n",
              " 'canada',\n",
              " 'sincer',\n",
              " 'placement',\n",
              " 'specialist',\n",
              " 'respond',\n",
              " 'address',\n",
              " 'type',\n",
              " 'speedi',\n",
              " 'legal',\n",
              " 'brand',\n",
              " 'low',\n",
              " 'everyth',\n",
              " 'come',\n",
              " 'wait',\n",
              " 'courag',\n",
              " 'languag',\n",
              " 'qerman',\n",
              " 'french',\n",
              " 'spanish',\n",
              " 'uk',\n",
              " 'iist',\n",
              " 'availabi',\n",
              " 'download',\n",
              " 'deiiveri',\n",
              " 'norton',\n",
              " 'lnternet',\n",
              " 'pro',\n",
              " 'window',\n",
              " 'xp',\n",
              " 'sp',\n",
              " 'fuil',\n",
              " 'corei',\n",
              " 'draw',\n",
              " 'graphic',\n",
              " 'suit',\n",
              " 'dreamweav',\n",
              " 'mx',\n",
              " 'homesit',\n",
              " 'macromedia',\n",
              " 'studio',\n",
              " 'brows',\n",
              " 'nativ',\n",
              " 'reqard',\n",
              " 'alert',\n",
              " 'confirm',\n",
              " 'nation',\n",
              " 'union',\n",
              " 'st',\n",
              " 'centuri',\n",
              " 'web',\n",
              " 'idea',\n",
              " 'solut',\n",
              " 'sure',\n",
              " 'accordingli',\n",
              " 'detail',\n",
              " 'send',\n",
              " 'scope',\n",
              " 'quot',\n",
              " 'variabl',\n",
              " 'glad',\n",
              " 'deliv',\n",
              " 'cut',\n",
              " 'edg',\n",
              " 'challeng',\n",
              " 'qualiti',\n",
              " 'equival',\n",
              " 'domest',\n",
              " 'establish',\n",
              " 'staf',\n",
              " 'success',\n",
              " 'hundr',\n",
              " 'ten',\n",
              " 'wide',\n",
              " 'scale',\n",
              " 'analysi',\n",
              " 'consult',\n",
              " 'code',\n",
              " 'test',\n",
              " 'cycl',\n",
              " 'offshor',\n",
              " 'intranet',\n",
              " 'crm',\n",
              " 'mobil',\n",
              " 'wireless',\n",
              " 'desktop',\n",
              " 'data',\n",
              " 'warehous',\n",
              " 'partnership',\n",
              " 'modern',\n",
              " 'exclus',\n",
              " 'human',\n",
              " 'info',\n",
              " 'happi',\n",
              " 'call',\n",
              " 'experienc',\n",
              " 'team',\n",
              " 'fair',\n",
              " 'platform',\n",
              " 'employ',\n",
              " 'bring',\n",
              " 'effici',\n",
              " 'java',\n",
              " 'ee',\n",
              " 'ibm',\n",
              " 'lotu',\n",
              " 'domino',\n",
              " 'unix',\n",
              " 'databas',\n",
              " 'ms',\n",
              " 'sql',\n",
              " 'oracl',\n",
              " 'db',\n",
              " 'standard',\n",
              " 'asp',\n",
              " 'odbc',\n",
              " 'mistak',\n",
              " 'transmiss',\n",
              " 'stop',\n",
              " 'ref',\n",
              " 'senat',\n",
              " 'bill',\n",
              " 'titl',\n",
              " 'med',\n",
              " 'girl',\n",
              " 'unsatisfi',\n",
              " 'potenc',\n",
              " 'men',\n",
              " 'choos',\n",
              " 'varieti',\n",
              " 'llcens',\n",
              " 'bs',\n",
              " 'pri',\n",
              " 'es',\n",
              " 'shippinq',\n",
              " 'store',\n",
              " 'verifi',\n",
              " 'bbb',\n",
              " 'visa',\n",
              " 'electron',\n",
              " 'hi',\n",
              " 'jason',\n",
              " 'fi',\n",
              " 'could',\n",
              " 'help',\n",
              " 'part',\n",
              " 'initi',\n",
              " 'setup',\n",
              " 'friendli',\n",
              " 'master',\n",
              " 'panel',\n",
              " 'abil',\n",
              " 'easili',\n",
              " 'copi',\n",
              " 'text',\n",
              " 'pictur',\n",
              " 'brainstorm',\n",
              " ...]"
            ]
          },
          "execution_count": 37,
          "metadata": {},
          "output_type": "execute_result"
        }
      ],
      "source": [
        "filtered_vocab"
      ]
    },
    {
      "cell_type": "markdown",
      "id": "648925ae",
      "metadata": {
        "id": "648925ae"
      },
      "source": [
        "### Divide Dataset"
      ]
    },
    {
      "cell_type": "code",
      "execution_count": 38,
      "id": "bbdc1c0f",
      "metadata": {
        "colab": {
          "base_uri": "https://localhost:8080/",
          "height": 423
        },
        "id": "bbdc1c0f",
        "outputId": "4a3a9be8-a419-4496-bba5-5e147ee8f110"
      },
      "outputs": [
        {
          "data": {
            "text/html": [
              "<div>\n",
              "<style scoped>\n",
              "    .dataframe tbody tr th:only-of-type {\n",
              "        vertical-align: middle;\n",
              "    }\n",
              "\n",
              "    .dataframe tbody tr th {\n",
              "        vertical-align: top;\n",
              "    }\n",
              "\n",
              "    .dataframe thead th {\n",
              "        text-align: right;\n",
              "    }\n",
              "</style>\n",
              "<table border=\"1\" class=\"dataframe\">\n",
              "  <thead>\n",
              "    <tr style=\"text-align: right;\">\n",
              "      <th></th>\n",
              "      <th>text</th>\n",
              "      <th>spam</th>\n",
              "    </tr>\n",
              "  </thead>\n",
              "  <tbody>\n",
              "    <tr>\n",
              "      <th>0</th>\n",
              "      <td>natur irresist corpor ident lt realli hard rec...</td>\n",
              "      <td>1</td>\n",
              "    </tr>\n",
              "    <tr>\n",
              "      <th>1</th>\n",
              "      <td>stock trade gunsling fanni merril muzo colza a...</td>\n",
              "      <td>1</td>\n",
              "    </tr>\n",
              "    <tr>\n",
              "      <th>2</th>\n",
              "      <td>unbeliev new home made easi im want show homeo...</td>\n",
              "      <td>1</td>\n",
              "    </tr>\n",
              "    <tr>\n",
              "      <th>3</th>\n",
              "      <td>color print special request addit inform click...</td>\n",
              "      <td>1</td>\n",
              "    </tr>\n",
              "    <tr>\n",
              "      <th>4</th>\n",
              "      <td>money get softwar cd softwar compat great grow...</td>\n",
              "      <td>1</td>\n",
              "    </tr>\n",
              "    <tr>\n",
              "      <th>...</th>\n",
              "      <td>...</td>\n",
              "      <td>...</td>\n",
              "    </tr>\n",
              "    <tr>\n",
              "      <th>5723</th>\n",
              "      <td>research develop charg gpg forward shirley cre...</td>\n",
              "      <td>0</td>\n",
              "    </tr>\n",
              "    <tr>\n",
              "      <th>5724</th>\n",
              "      <td>receipt visit jim thank invit visit lsu shirle...</td>\n",
              "      <td>0</td>\n",
              "    </tr>\n",
              "    <tr>\n",
              "      <th>5725</th>\n",
              "      <td>enron case studi updat wow day super thank muc...</td>\n",
              "      <td>0</td>\n",
              "    </tr>\n",
              "    <tr>\n",
              "      <th>5726</th>\n",
              "      <td>interest david pleas call shirley crenshaw ass...</td>\n",
              "      <td>0</td>\n",
              "    </tr>\n",
              "    <tr>\n",
              "      <th>5727</th>\n",
              "      <td>news aurora updat aurora version fastest model...</td>\n",
              "      <td>0</td>\n",
              "    </tr>\n",
              "  </tbody>\n",
              "</table>\n",
              "<p>5695 rows × 2 columns</p>\n",
              "</div>"
            ],
            "text/plain": [
              "                                                   text  spam\n",
              "0     natur irresist corpor ident lt realli hard rec...     1\n",
              "1     stock trade gunsling fanni merril muzo colza a...     1\n",
              "2     unbeliev new home made easi im want show homeo...     1\n",
              "3     color print special request addit inform click...     1\n",
              "4     money get softwar cd softwar compat great grow...     1\n",
              "...                                                 ...   ...\n",
              "5723  research develop charg gpg forward shirley cre...     0\n",
              "5724  receipt visit jim thank invit visit lsu shirle...     0\n",
              "5725  enron case studi updat wow day super thank muc...     0\n",
              "5726  interest david pleas call shirley crenshaw ass...     0\n",
              "5727  news aurora updat aurora version fastest model...     0\n",
              "\n",
              "[5695 rows x 2 columns]"
            ]
          },
          "execution_count": 38,
          "metadata": {},
          "output_type": "execute_result"
        }
      ],
      "source": [
        "data"
      ]
    },
    {
      "cell_type": "code",
      "execution_count": 39,
      "id": "dfde200c",
      "metadata": {
        "id": "dfde200c"
      },
      "outputs": [],
      "source": [
        "X = data['text']\n",
        "Y = data['spam']"
      ]
    },
    {
      "cell_type": "code",
      "execution_count": 40,
      "id": "8cd1f858",
      "metadata": {
        "colab": {
          "base_uri": "https://localhost:8080/",
          "height": 633
        },
        "id": "8cd1f858",
        "outputId": "0640c5fb-06d6-4e24-fc36-c4bb4f99d429"
      },
      "outputs": [
        {
          "name": "stdout",
          "output_type": "stream",
          "text": [
            "size of train data :  (4556,)\n",
            "size of test data :  (1139,)\n"
          ]
        },
        {
          "data": {
            "image/png": "[encoded data removed]",
            "text/plain": [
              "<Figure size 700x700 with 1 Axes>"
            ]
          },
          "metadata": {},
          "output_type": "display_data"
        }
      ],
      "source": [
        "from sklearn.model_selection import train_test_split\n",
        "X_train, X_test, Y_train, Y_test = train_test_split(X, Y, test_size=0.2)\n",
        "\n",
        "print(\"size of train data : \" , X_train.shape)\n",
        "print(\"size of test data : \" , X_test.shape)\n",
        "\n",
        "# Pie chart for train-test split\n",
        "sizes = [X_train.shape[0], X_test.shape[0]]\n",
        "labels = ['Train Data', 'Test Data']\n",
        "colors = ['skyblue', 'orange']\n",
        "explode = (0.1, 0)\n",
        "\n",
        "plt.figure(figsize=(7, 7))\n",
        "plt.pie(\n",
        "    sizes, labels=labels, colors=colors, explode=explode, autopct='%1.1f%%', startangle=140\n",
        ")\n",
        "plt.title(\"Train-Test Data Split\")\n",
        "plt.show()"
      ]
    },
    {
      "cell_type": "markdown",
      "id": "016c3e78",
      "metadata": {
        "id": "016c3e78"
      },
      "source": [
        "### Vectorization"
      ]
    },
    {
      "cell_type": "code",
      "execution_count": 41,
      "id": "1be4c7b4",
      "metadata": {
        "id": "1be4c7b4"
      },
      "outputs": [],
      "source": [
        "def vectorizer(ds, vocabulary):\n",
        "    vectorized_lst = []\n",
        "\n",
        "    for sentence in ds:\n",
        "        sentence_lst = np.zeros(len(vocabulary))\n",
        "\n",
        "        for i in range(len(vocabulary)):\n",
        "            if vocabulary[i] in sentence.split():\n",
        "                sentence_lst[i] = 1\n",
        "\n",
        "        vectorized_lst.append(sentence_lst)\n",
        "\n",
        "    vectorized_lst_new = np.asarray(vectorized_lst, dtype=np.float32)\n",
        "\n",
        "    return vectorized_lst_new\n"
      ]
    },
    {
      "cell_type": "code",
      "execution_count": 42,
      "id": "6ed00c3e",
      "metadata": {
        "id": "6ed00c3e"
      },
      "outputs": [],
      "source": [
        "vectorized_X_train = vectorizer(X_train, filtered_vocab)"
      ]
    },
    {
      "cell_type": "code",
      "execution_count": 43,
      "id": "a13f19e0",
      "metadata": {
        "id": "a13f19e0"
      },
      "outputs": [],
      "source": [
        "vectorized_X_test = vectorizer(X_test, filtered_vocab)"
      ]
    },
    {
      "cell_type": "markdown",
      "id": "7f4d49b6",
      "metadata": {
        "id": "7f4d49b6"
      },
      "source": [
        "### Balanced , Imbalanced Dataset"
      ]
    },
    {
      "cell_type": "code",
      "execution_count": 44,
      "id": "8ebf9a38",
      "metadata": {
        "id": "8ebf9a38"
      },
      "outputs": [
        {
          "name": "stdout",
          "output_type": "stream",
          "text": [
            "spam\n",
            "0    3466\n",
            "1    1090\n",
            "Name: count, dtype: int64\n"
          ]
        },
        {
          "data": {
            "image/png": "[encoded data removed]",
            "text/plain": [
              "<Figure size 640x480 with 1 Axes>"
            ]
          },
          "metadata": {},
          "output_type": "display_data"
        }
      ],
      "source": [
        "print(Y_train.value_counts())\n",
        "\n",
        "plt.pie(np.array([Y_train.value_counts()[0], Y_train.value_counts()[1]]), labels=['Not a Spam', 'Spam'])\n",
        "plt.show()"
      ]
    },
    {
      "cell_type": "code",
      "execution_count": 45,
      "id": "20feeb1e",
      "metadata": {
        "id": "20feeb1e"
      },
      "outputs": [
        {
          "name": "stdout",
          "output_type": "stream",
          "text": [
            "(6932, 8331) (6932,)\n"
          ]
        }
      ],
      "source": [
        "from imblearn.over_sampling import SMOTE\n",
        "smote = SMOTE()\n",
        "vectorized_X_train_smote, Y_train_smote = smote.fit_resample(vectorized_X_train, Y_train)\n",
        "print(vectorized_X_train_smote.shape, Y_train_smote.shape)"
      ]
    },
    {
      "cell_type": "code",
      "execution_count": 46,
      "id": "9da7c2be",
      "metadata": {
        "id": "9da7c2be"
      },
      "outputs": [
        {
          "name": "stdout",
          "output_type": "stream",
          "text": [
            "spam\n",
            "0    3466\n",
            "1    3466\n",
            "Name: count, dtype: int64\n"
          ]
        },
        {
          "data": {
            "image/png": "[encoded data removed]",
            "text/plain": [
              "<Figure size 640x480 with 1 Axes>"
            ]
          },
          "metadata": {},
          "output_type": "display_data"
        }
      ],
      "source": [
        "print(Y_train_smote.value_counts())\n",
        "\n",
        "plt.pie(np.array([Y_train_smote.value_counts()[0], Y_train_smote.value_counts()[1]]), labels=['Not a Spam', 'Spam'])\n",
        "plt.show()"
      ]
    },
    {
      "cell_type": "code",
      "execution_count": 47,
      "id": "ec760c34",
      "metadata": {
        "id": "ec760c34"
      },
      "outputs": [
        {
          "data": {
            "text/plain": [
              "array([[0.       , 0.       , 0.       , ..., 0.       , 0.       ,\n",
              "        0.       ],\n",
              "       [0.       , 0.       , 0.       , ..., 0.       , 0.       ,\n",
              "        0.       ],\n",
              "       [1.       , 0.       , 0.       , ..., 0.       , 0.       ,\n",
              "        0.       ],\n",
              "       ...,\n",
              "       [0.       , 0.       , 0.       , ..., 0.       , 0.       ,\n",
              "        0.       ],\n",
              "       [0.       , 0.       , 0.       , ..., 0.       , 0.       ,\n",
              "        0.       ],\n",
              "       [0.4212785, 0.4212785, 0.       , ..., 0.       , 0.       ,\n",
              "        0.       ]], shape=(6932, 8331), dtype=float32)"
            ]
          },
          "execution_count": 47,
          "metadata": {},
          "output_type": "execute_result"
        }
      ],
      "source": [
        "vectorized_X_train_smote"
      ]
    },
    {
      "cell_type": "code",
      "execution_count": 48,
      "id": "eaaed645",
      "metadata": {
        "id": "eaaed645"
      },
      "outputs": [
        {
          "data": {
            "text/plain": [
              "0       0\n",
              "1       0\n",
              "2       0\n",
              "3       0\n",
              "4       0\n",
              "       ..\n",
              "6927    1\n",
              "6928    1\n",
              "6929    1\n",
              "6930    1\n",
              "6931    1\n",
              "Name: spam, Length: 6932, dtype: int64"
            ]
          },
          "execution_count": 48,
          "metadata": {},
          "output_type": "execute_result"
        }
      ],
      "source": [
        "Y_train_smote"
      ]
    },
    {
      "cell_type": "code",
      "execution_count": 49,
      "id": "8b1680ff",
      "metadata": {
        "id": "8b1680ff"
      },
      "outputs": [
        {
          "data": {
            "text/plain": [
              "array([[0., 0., 0., ..., 0., 0., 0.],\n",
              "       [0., 0., 0., ..., 0., 0., 0.],\n",
              "       [0., 0., 0., ..., 0., 0., 0.],\n",
              "       ...,\n",
              "       [0., 0., 0., ..., 0., 0., 0.],\n",
              "       [0., 0., 0., ..., 0., 0., 0.],\n",
              "       [0., 0., 0., ..., 0., 0., 0.]], shape=(1139, 8331), dtype=float32)"
            ]
          },
          "execution_count": 49,
          "metadata": {},
          "output_type": "execute_result"
        }
      ],
      "source": [
        "vectorized_X_test"
      ]
    },
    {
      "cell_type": "code",
      "execution_count": 50,
      "id": "6b2be0c9",
      "metadata": {
        "id": "6b2be0c9"
      },
      "outputs": [
        {
          "data": {
            "text/plain": [
              "5614    0\n",
              "5446    0\n",
              "3022    0\n",
              "1691    0\n",
              "4271    0\n",
              "       ..\n",
              "3947    0\n",
              "4674    0\n",
              "5472    0\n",
              "893     1\n",
              "2371    0\n",
              "Name: spam, Length: 1139, dtype: int64"
            ]
          },
          "execution_count": 50,
          "metadata": {},
          "output_type": "execute_result"
        }
      ],
      "source": [
        "Y_test"
      ]
    },
    {
      "cell_type": "code",
      "execution_count": 51,
      "id": "418d5b56",
      "metadata": {
        "id": "418d5b56"
      },
      "outputs": [
        {
          "data": {
            "text/plain": [
              "5614    option visual vinc stinson reserach option vis...\n",
              "5446    avistar user alloc charg sever queri avist cha...\n",
              "3022    ect enron com email notif one enron com pleas ...\n",
              "1691    phone number comput support help comput connec...\n",
              "4271    interview candid research steve speak confer e...\n",
              "Name: text, dtype: object"
            ]
          },
          "execution_count": 51,
          "metadata": {},
          "output_type": "execute_result"
        }
      ],
      "source": [
        "X_test[:5]\n"
      ]
    },
    {
      "cell_type": "markdown",
      "id": "874769c8",
      "metadata": {
        "id": "874769c8"
      },
      "source": [
        "### Perform Feature Selection"
      ]
    },
    {
      "cell_type": "code",
      "execution_count": 52,
      "id": "accdcdbb",
      "metadata": {
        "id": "accdcdbb"
      },
      "outputs": [
        {
          "name": "stdout",
          "output_type": "stream",
          "text": [
            "Shape After Chi-Square (Training): (6932, 1000)\n",
            "Shape After Chi-Square (Testing): (1139, 1000)\n"
          ]
        }
      ],
      "source": [
        "from sklearn.feature_selection import SelectKBest, chi2\n",
        "from sklearn.linear_model import LogisticRegression\n",
        "from sklearn.feature_selection import SelectFromModel\n",
        "from imblearn.over_sampling import RandomOverSampler\n",
        "\n",
        "# Step 1: Chi-squared\n",
        "k = 1000\n",
        "chi2_selector = SelectKBest(chi2, k=k)\n",
        "X_train_chi2_selected = chi2_selector.fit_transform(vectorized_X_train_smote, Y_train_smote)\n",
        "X_test_chi2_selected = chi2_selector.transform(vectorized_X_test)\n",
        "\n",
        "print(\"Shape After Chi-Square (Training):\", X_train_chi2_selected.shape)\n",
        "print(\"Shape After Chi-Square (Testing):\", X_test_chi2_selected.shape)\n"
      ]
    },
    {
      "cell_type": "code",
      "execution_count": 53,
      "id": "17565b73",
      "metadata": {
        "id": "17565b73"
      },
      "outputs": [
        {
          "name": "stdout",
          "output_type": "stream",
          "text": [
            "Shape After L1 Regularization (Training): (6932, 255)\n",
            "Shape After L1 Regularization (Testing): (1139, 255)\n"
          ]
        }
      ],
      "source": [
        "# Step 2: Apply L1 Regularization\n",
        "\n",
        "ros = RandomOverSampler(random_state=42)\n",
        "X_train_balanced, Y_train_balanced = ros.fit_resample(X_train_chi2_selected, Y_train_smote)\n",
        "\n",
        "model_l1 = LogisticRegression(penalty='l1', solver='liblinear', C=1.0)\n",
        "model_l1.fit(X_train_balanced, Y_train_balanced)\n",
        "\n",
        "sfm = SelectFromModel(model_l1, prefit=True)\n",
        "X_train_l1_selected = sfm.transform(X_train_balanced)\n",
        "X_test_l1_selected = sfm.transform(X_test_chi2_selected)\n",
        "\n",
        "print(\"Shape After L1 Regularization (Training):\", X_train_l1_selected.shape)\n",
        "print(\"Shape After L1 Regularization (Testing):\", X_test_l1_selected.shape)"
      ]
    },
    {
      "cell_type": "markdown",
      "id": "7a177dad",
      "metadata": {
        "id": "7a177dad"
      },
      "source": [
        "### Model training"
      ]
    },
    {
      "cell_type": "code",
      "execution_count": 54,
      "id": "f6b1df0d",
      "metadata": {
        "id": "f6b1df0d"
      },
      "outputs": [
        {
          "data": {
            "text/html": [
              "<style>#sk-container-id-1 {\n",
              "  /* Definition of color scheme common for light and dark mode */\n",
              "  --sklearn-color-text: #000;\n",
              "  --sklearn-color-text-muted: #666;\n",
              "  --sklearn-color-line: gray;\n",
              "  /* Definition of color scheme for unfitted estimators */\n",
              "  --sklearn-color-unfitted-level-0: #fff5e6;\n",
              "  --sklearn-color-unfitted-level-1: #f6e4d2;\n",
              "  --sklearn-color-unfitted-level-2: #ffe0b3;\n",
              "  --sklearn-color-unfitted-level-3: chocolate;\n",
              "  /* Definition of color scheme for fitted estimators */\n",
              "  --sklearn-color-fitted-level-0: #f0f8ff;\n",
              "  --sklearn-color-fitted-level-1: #d4ebff;\n",
              "  --sklearn-color-fitted-level-2: #b3dbfd;\n",
              "  --sklearn-color-fitted-level-3: cornflowerblue;\n",
              "\n",
              "  /* Specific color for light theme */\n",
              "  --sklearn-color-text-on-default-background: var(--sg-text-color, var(--theme-code-foreground, var(--jp-content-font-color1, black)));\n",
              "  --sklearn-color-background: var(--sg-background-color, var(--theme-background, var(--jp-layout-color0, white)));\n",
              "  --sklearn-color-border-box: var(--sg-text-color, var(--theme-code-foreground, var(--jp-content-font-color1, black)));\n",
              "  --sklearn-color-icon: #696969;\n",
              "\n",
              "  @media (prefers-color-scheme: dark) {\n",
              "    /* Redefinition of color scheme for dark theme */\n",
              "    --sklearn-color-text-on-default-background: var(--sg-text-color, var(--theme-code-foreground, var(--jp-content-font-color1, white)));\n",
              "    --sklearn-color-background: var(--sg-background-color, var(--theme-background, var(--jp-layout-color0, #111)));\n",
              "    --sklearn-color-border-box: var(--sg-text-color, var(--theme-code-foreground, var(--jp-content-font-color1, white)));\n",
              "    --sklearn-color-icon: #878787;\n",
              "  }\n",
              "}\n",
              "\n",
              "#sk-container-id-1 {\n",
              "  color: var(--sklearn-color-text);\n",
              "}\n",
              "\n",
              "#sk-container-id-1 pre {\n",
              "  padding: 0;\n",
              "}\n",
              "\n",
              "#sk-container-id-1 input.sk-hidden--visually {\n",
              "  border: 0;\n",
              "  clip: rect(1px 1px 1px 1px);\n",
              "  clip: rect(1px, 1px, 1px, 1px);\n",
              "  height: 1px;\n",
              "  margin: -1px;\n",
              "  overflow: hidden;\n",
              "  padding: 0;\n",
              "  position: absolute;\n",
              "  width: 1px;\n",
              "}\n",
              "\n",
              "#sk-container-id-1 div.sk-dashed-wrapped {\n",
              "  border: 1px dashed var(--sklearn-color-line);\n",
              "  margin: 0 0.4em 0.5em 0.4em;\n",
              "  box-sizing: border-box;\n",
              "  padding-bottom: 0.4em;\n",
              "  background-color: var(--sklearn-color-background);\n",
              "}\n",
              "\n",
              "#sk-container-id-1 div.sk-container {\n",
              "  /* jupyter's `normalize.less` sets `[hidden] { display: none; }`\n",
              "     but bootstrap.min.css set `[hidden] { display: none !important; }`\n",
              "     so we also need the `!important` here to be able to override the\n",
              "     default hidden behavior on the sphinx rendered scikit-learn.org.\n",
              "     See: https://github.com/scikit-learn/scikit-learn/issues/21755 */\n",
              "  display: inline-block !important;\n",
              "  position: relative;\n",
              "}\n",
              "\n",
              "#sk-container-id-1 div.sk-text-repr-fallback {\n",
              "  display: none;\n",
              "}\n",
              "\n",
              "div.sk-parallel-item,\n",
              "div.sk-serial,\n",
              "div.sk-item {\n",
              "  /* draw centered vertical line to link estimators */\n",
              "  background-image: linear-gradient(var(--sklearn-color-text-on-default-background), var(--sklearn-color-text-on-default-background));\n",
              "  background-size: 2px 100%;\n",
              "  background-repeat: no-repeat;\n",
              "  background-position: center center;\n",
              "}\n",
              "\n",
              "/* Parallel-specific style estimator block */\n",
              "\n",
              "#sk-container-id-1 div.sk-parallel-item::after {\n",
              "  content: \"\";\n",
              "  width: 100%;\n",
              "  border-bottom: 2px solid var(--sklearn-color-text-on-default-background);\n",
              "  flex-grow: 1;\n",
              "}\n",
              "\n",
              "#sk-container-id-1 div.sk-parallel {\n",
              "  display: flex;\n",
              "  align-items: stretch;\n",
              "  justify-content: center;\n",
              "  background-color: var(--sklearn-color-background);\n",
              "  position: relative;\n",
              "}\n",
              "\n",
              "#sk-container-id-1 div.sk-parallel-item {\n",
              "  display: flex;\n",
              "  flex-direction: column;\n",
              "}\n",
              "\n",
              "#sk-container-id-1 div.sk-parallel-item:first-child::after {\n",
              "  align-self: flex-end;\n",
              "  width: 50%;\n",
              "}\n",
              "\n",
              "#sk-container-id-1 div.sk-parallel-item:last-child::after {\n",
              "  align-self: flex-start;\n",
              "  width: 50%;\n",
              "}\n",
              "\n",
              "#sk-container-id-1 div.sk-parallel-item:only-child::after {\n",
              "  width: 0;\n",
              "}\n",
              "\n",
              "/* Serial-specific style estimator block */\n",
              "\n",
              "#sk-container-id-1 div.sk-serial {\n",
              "  display: flex;\n",
              "  flex-direction: column;\n",
              "  align-items: center;\n",
              "  background-color: var(--sklearn-color-background);\n",
              "  padding-right: 1em;\n",
              "  padding-left: 1em;\n",
              "}\n",
              "\n",
              "\n",
              "/* Toggleable style: style used for estimator/Pipeline/ColumnTransformer box that is\n",
              "clickable and can be expanded/collapsed.\n",
              "- Pipeline and ColumnTransformer use this feature and define the default style\n",
              "- Estimators will overwrite some part of the style using the `sk-estimator` class\n",
              "*/\n",
              "\n",
              "/* Pipeline and ColumnTransformer style (default) */\n",
              "\n",
              "#sk-container-id-1 div.sk-toggleable {\n",
              "  /* Default theme specific background. It is overwritten whether we have a\n",
              "  specific estimator or a Pipeline/ColumnTransformer */\n",
              "  background-color: var(--sklearn-color-background);\n",
              "}\n",
              "\n",
              "/* Toggleable label */\n",
              "#sk-container-id-1 label.sk-toggleable__label {\n",
              "  cursor: pointer;\n",
              "  display: flex;\n",
              "  width: 100%;\n",
              "  margin-bottom: 0;\n",
              "  padding: 0.5em;\n",
              "  box-sizing: border-box;\n",
              "  text-align: center;\n",
              "  align-items: start;\n",
              "  justify-content: space-between;\n",
              "  gap: 0.5em;\n",
              "}\n",
              "\n",
              "#sk-container-id-1 label.sk-toggleable__label .caption {\n",
              "  font-size: 0.6rem;\n",
              "  font-weight: lighter;\n",
              "  color: var(--sklearn-color-text-muted);\n",
              "}\n",
              "\n",
              "#sk-container-id-1 label.sk-toggleable__label-arrow:before {\n",
              "  /* Arrow on the left of the label */\n",
              "  content: \"▸\";\n",
              "  float: left;\n",
              "  margin-right: 0.25em;\n",
              "  color: var(--sklearn-color-icon);\n",
              "}\n",
              "\n",
              "#sk-container-id-1 label.sk-toggleable__label-arrow:hover:before {\n",
              "  color: var(--sklearn-color-text);\n",
              "}\n",
              "\n",
              "/* Toggleable content - dropdown */\n",
              "\n",
              "#sk-container-id-1 div.sk-toggleable__content {\n",
              "  max-height: 0;\n",
              "  max-width: 0;\n",
              "  overflow: hidden;\n",
              "  text-align: left;\n",
              "  /* unfitted */\n",
              "  background-color: var(--sklearn-color-unfitted-level-0);\n",
              "}\n",
              "\n",
              "#sk-container-id-1 div.sk-toggleable__content.fitted {\n",
              "  /* fitted */\n",
              "  background-color: var(--sklearn-color-fitted-level-0);\n",
              "}\n",
              "\n",
              "#sk-container-id-1 div.sk-toggleable__content pre {\n",
              "  margin: 0.2em;\n",
              "  border-radius: 0.25em;\n",
              "  color: var(--sklearn-color-text);\n",
              "  /* unfitted */\n",
              "  background-color: var(--sklearn-color-unfitted-level-0);\n",
              "}\n",
              "\n",
              "#sk-container-id-1 div.sk-toggleable__content.fitted pre {\n",
              "  /* unfitted */\n",
              "  background-color: var(--sklearn-color-fitted-level-0);\n",
              "}\n",
              "\n",
              "#sk-container-id-1 input.sk-toggleable__control:checked~div.sk-toggleable__content {\n",
              "  /* Expand drop-down */\n",
              "  max-height: 200px;\n",
              "  max-width: 100%;\n",
              "  overflow: auto;\n",
              "}\n",
              "\n",
              "#sk-container-id-1 input.sk-toggleable__control:checked~label.sk-toggleable__label-arrow:before {\n",
              "  content: \"▾\";\n",
              "}\n",
              "\n",
              "/* Pipeline/ColumnTransformer-specific style */\n",
              "\n",
              "#sk-container-id-1 div.sk-label input.sk-toggleable__control:checked~label.sk-toggleable__label {\n",
              "  color: var(--sklearn-color-text);\n",
              "  background-color: var(--sklearn-color-unfitted-level-2);\n",
              "}\n",
              "\n",
              "#sk-container-id-1 div.sk-label.fitted input.sk-toggleable__control:checked~label.sk-toggleable__label {\n",
              "  background-color: var(--sklearn-color-fitted-level-2);\n",
              "}\n",
              "\n",
              "/* Estimator-specific style */\n",
              "\n",
              "/* Colorize estimator box */\n",
              "#sk-container-id-1 div.sk-estimator input.sk-toggleable__control:checked~label.sk-toggleable__label {\n",
              "  /* unfitted */\n",
              "  background-color: var(--sklearn-color-unfitted-level-2);\n",
              "}\n",
              "\n",
              "#sk-container-id-1 div.sk-estimator.fitted input.sk-toggleable__control:checked~label.sk-toggleable__label {\n",
              "  /* fitted */\n",
              "  background-color: var(--sklearn-color-fitted-level-2);\n",
              "}\n",
              "\n",
              "#sk-container-id-1 div.sk-label label.sk-toggleable__label,\n",
              "#sk-container-id-1 div.sk-label label {\n",
              "  /* The background is the default theme color */\n",
              "  color: var(--sklearn-color-text-on-default-background);\n",
              "}\n",
              "\n",
              "/* On hover, darken the color of the background */\n",
              "#sk-container-id-1 div.sk-label:hover label.sk-toggleable__label {\n",
              "  color: var(--sklearn-color-text);\n",
              "  background-color: var(--sklearn-color-unfitted-level-2);\n",
              "}\n",
              "\n",
              "/* Label box, darken color on hover, fitted */\n",
              "#sk-container-id-1 div.sk-label.fitted:hover label.sk-toggleable__label.fitted {\n",
              "  color: var(--sklearn-color-text);\n",
              "  background-color: var(--sklearn-color-fitted-level-2);\n",
              "}\n",
              "\n",
              "/* Estimator label */\n",
              "\n",
              "#sk-container-id-1 div.sk-label label {\n",
              "  font-family: monospace;\n",
              "  font-weight: bold;\n",
              "  display: inline-block;\n",
              "  line-height: 1.2em;\n",
              "}\n",
              "\n",
              "#sk-container-id-1 div.sk-label-container {\n",
              "  text-align: center;\n",
              "}\n",
              "\n",
              "/* Estimator-specific */\n",
              "#sk-container-id-1 div.sk-estimator {\n",
              "  font-family: monospace;\n",
              "  border: 1px dotted var(--sklearn-color-border-box);\n",
              "  border-radius: 0.25em;\n",
              "  box-sizing: border-box;\n",
              "  margin-bottom: 0.5em;\n",
              "  /* unfitted */\n",
              "  background-color: var(--sklearn-color-unfitted-level-0);\n",
              "}\n",
              "\n",
              "#sk-container-id-1 div.sk-estimator.fitted {\n",
              "  /* fitted */\n",
              "  background-color: var(--sklearn-color-fitted-level-0);\n",
              "}\n",
              "\n",
              "/* on hover */\n",
              "#sk-container-id-1 div.sk-estimator:hover {\n",
              "  /* unfitted */\n",
              "  background-color: var(--sklearn-color-unfitted-level-2);\n",
              "}\n",
              "\n",
              "#sk-container-id-1 div.sk-estimator.fitted:hover {\n",
              "  /* fitted */\n",
              "  background-color: var(--sklearn-color-fitted-level-2);\n",
              "}\n",
              "\n",
              "/* Specification for estimator info (e.g. \"i\" and \"?\") */\n",
              "\n",
              "/* Common style for \"i\" and \"?\" */\n",
              "\n",
              ".sk-estimator-doc-link,\n",
              "a:link.sk-estimator-doc-link,\n",
              "a:visited.sk-estimator-doc-link {\n",
              "  float: right;\n",
              "  font-size: smaller;\n",
              "  line-height: 1em;\n",
              "  font-family: monospace;\n",
              "  background-color: var(--sklearn-color-background);\n",
              "  border-radius: 1em;\n",
              "  height: 1em;\n",
              "  width: 1em;\n",
              "  text-decoration: none !important;\n",
              "  margin-left: 0.5em;\n",
              "  text-align: center;\n",
              "  /* unfitted */\n",
              "  border: var(--sklearn-color-unfitted-level-1) 1pt solid;\n",
              "  color: var(--sklearn-color-unfitted-level-1);\n",
              "}\n",
              "\n",
              ".sk-estimator-doc-link.fitted,\n",
              "a:link.sk-estimator-doc-link.fitted,\n",
              "a:visited.sk-estimator-doc-link.fitted {\n",
              "  /* fitted */\n",
              "  border: var(--sklearn-color-fitted-level-1) 1pt solid;\n",
              "  color: var(--sklearn-color-fitted-level-1);\n",
              "}\n",
              "\n",
              "/* On hover */\n",
              "div.sk-estimator:hover .sk-estimator-doc-link:hover,\n",
              ".sk-estimator-doc-link:hover,\n",
              "div.sk-label-container:hover .sk-estimator-doc-link:hover,\n",
              ".sk-estimator-doc-link:hover {\n",
              "  /* unfitted */\n",
              "  background-color: var(--sklearn-color-unfitted-level-3);\n",
              "  color: var(--sklearn-color-background);\n",
              "  text-decoration: none;\n",
              "}\n",
              "\n",
              "div.sk-estimator.fitted:hover .sk-estimator-doc-link.fitted:hover,\n",
              ".sk-estimator-doc-link.fitted:hover,\n",
              "div.sk-label-container:hover .sk-estimator-doc-link.fitted:hover,\n",
              ".sk-estimator-doc-link.fitted:hover {\n",
              "  /* fitted */\n",
              "  background-color: var(--sklearn-color-fitted-level-3);\n",
              "  color: var(--sklearn-color-background);\n",
              "  text-decoration: none;\n",
              "}\n",
              "\n",
              "/* Span, style for the box shown on hovering the info icon */\n",
              ".sk-estimator-doc-link span {\n",
              "  display: none;\n",
              "  z-index: 9999;\n",
              "  position: relative;\n",
              "  font-weight: normal;\n",
              "  right: .2ex;\n",
              "  padding: .5ex;\n",
              "  margin: .5ex;\n",
              "  width: min-content;\n",
              "  min-width: 20ex;\n",
              "  max-width: 50ex;\n",
              "  color: var(--sklearn-color-text);\n",
              "  box-shadow: 2pt 2pt 4pt #999;\n",
              "  /* unfitted */\n",
              "  background: var(--sklearn-color-unfitted-level-0);\n",
              "  border: .5pt solid var(--sklearn-color-unfitted-level-3);\n",
              "}\n",
              "\n",
              ".sk-estimator-doc-link.fitted span {\n",
              "  /* fitted */\n",
              "  background: var(--sklearn-color-fitted-level-0);\n",
              "  border: var(--sklearn-color-fitted-level-3);\n",
              "}\n",
              "\n",
              ".sk-estimator-doc-link:hover span {\n",
              "  display: block;\n",
              "}\n",
              "\n",
              "/* \"?\"-specific style due to the `<a>` HTML tag */\n",
              "\n",
              "#sk-container-id-1 a.estimator_doc_link {\n",
              "  float: right;\n",
              "  font-size: 1rem;\n",
              "  line-height: 1em;\n",
              "  font-family: monospace;\n",
              "  background-color: var(--sklearn-color-background);\n",
              "  border-radius: 1rem;\n",
              "  height: 1rem;\n",
              "  width: 1rem;\n",
              "  text-decoration: none;\n",
              "  /* unfitted */\n",
              "  color: var(--sklearn-color-unfitted-level-1);\n",
              "  border: var(--sklearn-color-unfitted-level-1) 1pt solid;\n",
              "}\n",
              "\n",
              "#sk-container-id-1 a.estimator_doc_link.fitted {\n",
              "  /* fitted */\n",
              "  border: var(--sklearn-color-fitted-level-1) 1pt solid;\n",
              "  color: var(--sklearn-color-fitted-level-1);\n",
              "}\n",
              "\n",
              "/* On hover */\n",
              "#sk-container-id-1 a.estimator_doc_link:hover {\n",
              "  /* unfitted */\n",
              "  background-color: var(--sklearn-color-unfitted-level-3);\n",
              "  color: var(--sklearn-color-background);\n",
              "  text-decoration: none;\n",
              "}\n",
              "\n",
              "#sk-container-id-1 a.estimator_doc_link.fitted:hover {\n",
              "  /* fitted */\n",
              "  background-color: var(--sklearn-color-fitted-level-3);\n",
              "}\n",
              "</style><div id=\"sk-container-id-1\" class=\"sk-top-container\"><div class=\"sk-text-repr-fallback\"><pre>MultinomialNB()</pre><b>In a Jupyter environment, please rerun this cell to show the HTML representation or trust the notebook. <br />On GitHub, the HTML representation is unable to render, please try loading this page with nbviewer.org.</b></div><div class=\"sk-container\" hidden><div class=\"sk-item\"><div class=\"sk-estimator fitted sk-toggleable\"><input class=\"sk-toggleable__control sk-hidden--visually\" id=\"sk-estimator-id-1\" type=\"checkbox\" checked><label for=\"sk-estimator-id-1\" class=\"sk-toggleable__label fitted sk-toggleable__label-arrow\"><div><div>MultinomialNB</div></div><div><a class=\"sk-estimator-doc-link fitted\" rel=\"noreferrer\" target=\"_blank\" href=\"https://scikit-learn.org/1.6/modules/generated/sklearn.naive_bayes.MultinomialNB.html\">?<span>Documentation for MultinomialNB</span></a><span class=\"sk-estimator-doc-link fitted\">i<span>Fitted</span></span></div></label><div class=\"sk-toggleable__content fitted\"><pre>MultinomialNB()</pre></div> </div></div></div></div>"
            ],
            "text/plain": [
              "MultinomialNB()"
            ]
          },
          "execution_count": 54,
          "metadata": {},
          "output_type": "execute_result"
        }
      ],
      "source": [
        "from sklearn.naive_bayes import MultinomialNB\n",
        "\n",
        "# Train the model on the training data\n",
        "model = MultinomialNB()\n",
        "model.fit(X_train_l1_selected, Y_train_smote)"
      ]
    },
    {
      "cell_type": "markdown",
      "id": "b91f8a75",
      "metadata": {},
      "source": [
        "# Part D – Software Testing"
      ]
    },
    {
      "cell_type": "markdown",
      "id": "9ca74118",
      "metadata": {},
      "source": [
        "### Appropriate Testing Methods for Naive Bayes"
      ]
    },
    {
      "cell_type": "markdown",
      "id": "792922e0",
      "metadata": {},
      "source": [
        "Confusion Matrix Analysis\n",
        "\n",
        "Split the data set into a training set (80%) and a testing set (20%). Train the Naive Bayes model on the training set and evaluate its performance on the testing set.The Naive Bayes model should classify emails as spam or ham with reasonable accuracy, given that it has learned the relevant word distributions from the training data.we can assess the results using accuracy, precision, recall, and F1-score to compare how well the model handles both spam and ham emails."
      ]
    },
    {
      "cell_type": "code",
      "execution_count": 62,
      "id": "5af9d241",
      "metadata": {
        "id": "5af9d241"
      },
      "outputs": [],
      "source": [
        "from sklearn.metrics import accuracy_score, f1_score, precision_score, recall_score\n",
        "\n",
        "def training_scores(y_act, y_pred):\n",
        "    acc = round(accuracy_score(y_act, y_pred), 4)\n",
        "    pr = round(precision_score(y_act, y_pred), 4)\n",
        "    rec = round(recall_score(y_act, y_pred), 4)\n",
        "    f1 = round(f1_score(y_act, y_pred), 4)\n",
        "    print(f'Training Scores:\\n\\tAccuracy = {acc}\\n\\tPrecision = {pr}\\n\\tRecall = {rec}\\n\\tF1-Score = {f1}')\n",
        "\n",
        "def validation_scores(y_act, y_pred):\n",
        "    acc = round(accuracy_score(y_act, y_pred), 4)\n",
        "    pr = round(precision_score(y_act, y_pred), 4)\n",
        "    rec = round(recall_score(y_act, y_pred), 4)\n",
        "    f1 = round(f1_score(y_act, y_pred), 4)\n",
        "    print(f'Testing Scores:\\n\\tAccuracy = {acc}\\n\\tPrecision = {pr}\\n\\tRecall = {rec}\\n\\tF1-Score = {f1}')"
      ]
    },
    {
      "cell_type": "markdown",
      "id": "s0wfQ94Lhsw2",
      "metadata": {
        "id": "s0wfQ94Lhsw2"
      },
      "source": [
        "### Testing results"
      ]
    },
    {
      "cell_type": "code",
      "execution_count": 63,
      "id": "1687137d",
      "metadata": {
        "id": "1687137d"
      },
      "outputs": [
        {
          "name": "stdout",
          "output_type": "stream",
          "text": [
            "Training Scores:\n",
            "\tAccuracy = 0.9853\n",
            "\tPrecision = 0.9881\n",
            "\tRecall = 0.9824\n",
            "\tF1-Score = 0.9852\n",
            "Testing Scores:\n",
            "\tAccuracy = 0.971\n",
            "\tPrecision = 0.9359\n",
            "\tRecall = 0.946\n",
            "\tF1-Score = 0.941\n"
          ]
        }
      ],
      "source": [
        "Y_train_pred = model.predict(X_train_l1_selected)\n",
        "\n",
        "Y_test_pred = model.predict(X_test_l1_selected)\n",
        "\n",
        "training_scores(Y_train_smote, Y_train_pred)\n",
        "\n",
        "validation_scores(Y_test, Y_test_pred)"
      ]
    },
    {
      "cell_type": "markdown",
      "id": "d6e09f35",
      "metadata": {},
      "source": [
        "# Part E – Evaluate results."
      ]
    },
    {
      "cell_type": "code",
      "execution_count": 64,
      "id": "14ef8ddc",
      "metadata": {
        "id": "14ef8ddc"
      },
      "outputs": [
        {
          "name": "stdout",
          "output_type": "stream",
          "text": [
            "Training Visualizations Confusion matrix :\n"
          ]
        },
        {
          "data": {
            "image/png": "[encoded data removed]",
            "text/plain": [
              "<Figure size 600x400 with 2 Axes>"
            ]
          },
          "metadata": {},
          "output_type": "display_data"
        },
        {
          "name": "stdout",
          "output_type": "stream",
          "text": [
            "Testing Visualizations Confusion matrix :\n"
          ]
        },
        {
          "data": {
            "image/png": "[encoded data removed]",
            "text/plain": [
              "<Figure size 600x400 with 2 Axes>"
            ]
          },
          "metadata": {},
          "output_type": "display_data"
        },
        {
          "name": "stdout",
          "output_type": "stream",
          "text": [
            "Training Visualizations ROC curve:\n"
          ]
        },
        {
          "data": {
            "image/png": "[encoded data removed]",
            "text/plain": [
              "<Figure size 600x400 with 1 Axes>"
            ]
          },
          "metadata": {},
          "output_type": "display_data"
        },
        {
          "name": "stdout",
          "output_type": "stream",
          "text": [
            "Testing Visualizations ROC curve:\n"
          ]
        },
        {
          "data": {
            "image/png": "[encoded data removed]",
            "text/plain": [
              "<Figure size 600x400 with 1 Axes>"
            ]
          },
          "metadata": {},
          "output_type": "display_data"
        },
        {
          "name": "stdout",
          "output_type": "stream",
          "text": [
            "Training Visualizations Precision-Recall curve:\n"
          ]
        },
        {
          "data": {
            "image/png": "[encoded data removed]",
            "text/plain": [
              "<Figure size 600x400 with 1 Axes>"
            ]
          },
          "metadata": {},
          "output_type": "display_data"
        },
        {
          "name": "stdout",
          "output_type": "stream",
          "text": [
            "Testing Visualizations Precision-Recall curve:\n"
          ]
        },
        {
          "data": {
            "image/png": "[encoded data removed]",
            "text/plain": [
              "<Figure size 600x400 with 1 Axes>"
            ]
          },
          "metadata": {},
          "output_type": "display_data"
        }
      ],
      "source": [
        "import matplotlib.pyplot as plt\n",
        "import seaborn as sns\n",
        "from sklearn.metrics import (\n",
        "    confusion_matrix, roc_curve, auc, precision_recall_curve\n",
        ")\n",
        "\n",
        "# Confusion Matrix Visualization\n",
        "def plot_confusion_matrix(y_true, y_pred, title=\"Confusion Matrix\"):\n",
        "    cm = confusion_matrix(y_true, y_pred)\n",
        "    plt.figure(figsize=(6, 4))\n",
        "    sns.heatmap(cm, annot=True, fmt='d', cmap='Blues', xticklabels=['Not Spam', 'Spam'], yticklabels=['Not Spam', 'Spam'])\n",
        "    plt.title(title)\n",
        "    plt.xlabel(\"Predicted\")\n",
        "    plt.ylabel(\"Actual\")\n",
        "    plt.show()\n",
        "\n",
        "# ROC Curve Visualization\n",
        "def plot_roc_curve(y_true, y_prob, title=\"ROC Curve\"):\n",
        "    fpr, tpr, _ = roc_curve(y_true, y_prob)\n",
        "    roc_auc = auc(fpr, tpr)\n",
        "    plt.figure(figsize=(6, 4))\n",
        "    plt.plot(fpr, tpr, label=f'AUC = {roc_auc:.2f}')\n",
        "    plt.plot([0, 1], [0, 1], 'k--')  \n",
        "    plt.title(title)\n",
        "    plt.xlabel(\"False Positive Rate\")\n",
        "    plt.ylabel(\"True Positive Rate\")\n",
        "    plt.legend()\n",
        "    plt.show()\n",
        "\n",
        "# Precision-Recall Curve Visualization\n",
        "def plot_precision_recall_curve(y_true, y_prob, title=\"Precision-Recall Curve\"):\n",
        "    precision, recall, _ = precision_recall_curve(y_true, y_prob)\n",
        "    plt.figure(figsize=(6, 4))\n",
        "    plt.plot(recall, precision, marker='.')\n",
        "    plt.title(title)\n",
        "    plt.xlabel(\"Recall\")\n",
        "    plt.ylabel(\"Precision\")\n",
        "    plt.show()\n",
        "\n",
        "# Predictions and Probabilities\n",
        "y_train_prob = model.predict_proba(X_train_l1_selected)[:, 1]  \n",
        "y_test_prob = model.predict_proba(X_test_l1_selected)[:, 1]    \n",
        "\n",
        "# Plot Training Results\n",
        "print(\"Training Visualizations Confusion matrix :\")\n",
        "plot_confusion_matrix(Y_train_smote, Y_train_pred, title=\"Training Confusion Matrix\")\n",
        "\n",
        "print(\"Testing Visualizations Confusion matrix :\")\n",
        "plot_confusion_matrix(Y_test, Y_test_pred, title=\"Testing Confusion Matrix\")\n",
        "\n",
        "\n",
        "\n",
        "print(\"Training Visualizations ROC curve:\")\n",
        "plot_roc_curve(Y_train_smote, y_train_prob, title=\"Training ROC Curve\")\n",
        "\n",
        "print(\"Testing Visualizations ROC curve:\")\n",
        "plot_roc_curve(Y_test, y_test_prob, title=\"Testing ROC Curve\")\n",
        "\n",
        "\n",
        "\n",
        "print(\"Training Visualizations Precision-Recall curve:\")\n",
        "plot_precision_recall_curve(Y_train_smote, y_train_prob, title=\"Training Precision-Recall Curve\")\n",
        "\n",
        "print(\"Testing Visualizations Precision-Recall curve:\")\n",
        "plot_precision_recall_curve(Y_test, y_test_prob, title=\"Testing Precision-Recall Curve\")\n"
      ]
    }
  ],
  "metadata": {
    "colab": {
      "provenance": []
    },
    "kernelspec": {
      "display_name": ".env",
      "language": "python",
      "name": "python3"
    },
    "language_info": {
      "codemirror_mode": {
        "name": "ipython",
        "version": 3
      },
      "file_extension": ".py",
      "mimetype": "text/x-python",
      "name": "python",
      "nbconvert_exporter": "python",
      "pygments_lexer": "ipython3",
      "version": "3.12.8"
    }
  },
  "nbformat": 4,
  "nbformat_minor": 5
}
